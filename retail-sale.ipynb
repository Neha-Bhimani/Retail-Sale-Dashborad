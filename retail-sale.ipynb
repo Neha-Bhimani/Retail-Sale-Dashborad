{
 "cells": [
  {
   "cell_type": "markdown",
   "id": "ab320e8e",
   "metadata": {},
   "source": [
    "# Data Loading"
   ]
  },
  {
   "cell_type": "code",
   "execution_count": 1,
   "id": "b74c8e51",
   "metadata": {},
   "outputs": [],
   "source": [
    "# ───────────────────────────────────────\n",
    "# Import Required Libraries\n",
    "# ───────────────────────────────────────\n",
    "\n",
    "# System & OS\n",
    "import os\n",
    "import sys\n",
    "import warnings\n",
    "warnings.filterwarnings(\"ignore\")\n",
    "\n",
    "# Data Handling\n",
    "import pandas as pd\n",
    "import numpy as np\n",
    "\n",
    "# Data Visualization\n",
    "import matplotlib.pyplot as plt\n",
    "import seaborn as sns\n",
    "import plotly.express as px\n",
    "\n",
    "# Database\n",
    "from sqlalchemy import create_engine\n",
    "\n",
    "# Date & Time\n",
    "from datetime import datetime\n",
    "\n",
    "# ───────────────────────────────────────\n",
    "# Set Folder Paths\n",
    "# ───────────────────────────────────────\n",
    "\n",
    "RAW_PATH   = \"Data/raw_data/\"\n",
    "CLEAN_PATH = \"Data/clean_data/\"\n",
    "#UTILS_PATH = os.path.abspath(\"utils\")\n",
    "\n",
    "# Add utils to system path\n",
    "#if UTILS_PATH not in sys.path:\n",
    " #   sys.path.append(UTILS_PATH)\n"
   ]
  },
  {
   "cell_type": "code",
   "execution_count": 2,
   "id": "838bf6c6",
   "metadata": {},
   "outputs": [
    {
     "name": "stdout",
     "output_type": "stream",
     "text": [
      "Successfully loaded file: Data/raw_data/sales_transaction.csv\n",
      "Successfully loaded file: Data/raw_data/customer_profiles.csv\n",
      "Successfully loaded file: Data/raw_data/product_inventory.csv\n"
     ]
    }
   ],
   "source": [
    "#Load a CSV file with error handling.\n",
    "    \n",
    "\n",
    "def load_csv_file(filepath):\n",
    "\n",
    "    try:\n",
    "        if not os.path.exists(filepath):\n",
    "            raise FileNotFoundError(f\"File not found at: {filepath}\")\n",
    "        \n",
    "        df = pd.read_csv(filepath)\n",
    "        print(f\"Successfully loaded file: {filepath}\")\n",
    "        return df\n",
    "    \n",
    "    except FileNotFoundError as fe:\n",
    "        print(fe)\n",
    "    except pd.errors.ParserError as pe:\n",
    "        print(f\"Parsing error: {pe}\")\n",
    "    except Exception as e:\n",
    "        print(f\"Unexpected error: {e}\")\n",
    "    \n",
    "    return None  # Return None if error occurs\n",
    "\n",
    "\n",
    "\n",
    "\n",
    "# call load_csv_file()\n",
    "sales_df = load_csv_file(f\"{RAW_PATH}sales_transaction.csv\")\n",
    "customer_df = load_csv_file(f\"{RAW_PATH}customer_profiles.csv\")\n",
    "inventory_df = load_csv_file(f\"{RAW_PATH}product_inventory.csv\")"
   ]
  },
  {
   "cell_type": "markdown",
   "id": "1493f7dc",
   "metadata": {},
   "source": [
    "# Data Exploration\n"
   ]
  },
  {
   "cell_type": "code",
   "execution_count": 3,
   "id": "570dd5ad",
   "metadata": {},
   "outputs": [
    {
     "name": "stdout",
     "output_type": "stream",
     "text": [
      "\n",
      "Exploring: Sales Data\n",
      "\n",
      "Shape: (5002, 6)\n",
      "\n",
      "First 5 rows:\n"
     ]
    },
    {
     "data": {
      "text/html": [
       "<div>\n",
       "<style scoped>\n",
       "    .dataframe tbody tr th:only-of-type {\n",
       "        vertical-align: middle;\n",
       "    }\n",
       "\n",
       "    .dataframe tbody tr th {\n",
       "        vertical-align: top;\n",
       "    }\n",
       "\n",
       "    .dataframe thead th {\n",
       "        text-align: right;\n",
       "    }\n",
       "</style>\n",
       "<table border=\"1\" class=\"dataframe\">\n",
       "  <thead>\n",
       "    <tr style=\"text-align: right;\">\n",
       "      <th></th>\n",
       "      <th>TransactionID</th>\n",
       "      <th>CustomerID</th>\n",
       "      <th>ProductID</th>\n",
       "      <th>QuantityPurchased</th>\n",
       "      <th>TransactionDate</th>\n",
       "      <th>Price</th>\n",
       "    </tr>\n",
       "  </thead>\n",
       "  <tbody>\n",
       "    <tr>\n",
       "      <th>0</th>\n",
       "      <td>1</td>\n",
       "      <td>103</td>\n",
       "      <td>120</td>\n",
       "      <td>3</td>\n",
       "      <td>01/01/23</td>\n",
       "      <td>30.43</td>\n",
       "    </tr>\n",
       "    <tr>\n",
       "      <th>1</th>\n",
       "      <td>2</td>\n",
       "      <td>436</td>\n",
       "      <td>126</td>\n",
       "      <td>1</td>\n",
       "      <td>01/01/23</td>\n",
       "      <td>15.19</td>\n",
       "    </tr>\n",
       "    <tr>\n",
       "      <th>2</th>\n",
       "      <td>3</td>\n",
       "      <td>861</td>\n",
       "      <td>55</td>\n",
       "      <td>3</td>\n",
       "      <td>01/01/23</td>\n",
       "      <td>67.76</td>\n",
       "    </tr>\n",
       "    <tr>\n",
       "      <th>3</th>\n",
       "      <td>4</td>\n",
       "      <td>271</td>\n",
       "      <td>27</td>\n",
       "      <td>2</td>\n",
       "      <td>01/01/23</td>\n",
       "      <td>65.77</td>\n",
       "    </tr>\n",
       "    <tr>\n",
       "      <th>4</th>\n",
       "      <td>5</td>\n",
       "      <td>107</td>\n",
       "      <td>118</td>\n",
       "      <td>1</td>\n",
       "      <td>01/01/23</td>\n",
       "      <td>14.55</td>\n",
       "    </tr>\n",
       "  </tbody>\n",
       "</table>\n",
       "</div>"
      ],
      "text/plain": [
       "   TransactionID  CustomerID  ProductID  QuantityPurchased TransactionDate  \\\n",
       "0              1         103        120                  3        01/01/23   \n",
       "1              2         436        126                  1        01/01/23   \n",
       "2              3         861         55                  3        01/01/23   \n",
       "3              4         271         27                  2        01/01/23   \n",
       "4              5         107        118                  1        01/01/23   \n",
       "\n",
       "   Price  \n",
       "0  30.43  \n",
       "1  15.19  \n",
       "2  67.76  \n",
       "3  65.77  \n",
       "4  14.55  "
      ]
     },
     "metadata": {},
     "output_type": "display_data"
    },
    {
     "name": "stdout",
     "output_type": "stream",
     "text": [
      "\n",
      "Info:\n",
      "<class 'pandas.core.frame.DataFrame'>\n",
      "RangeIndex: 5002 entries, 0 to 5001\n",
      "Data columns (total 6 columns):\n",
      " #   Column             Non-Null Count  Dtype  \n",
      "---  ------             --------------  -----  \n",
      " 0   TransactionID      5002 non-null   int64  \n",
      " 1   CustomerID         5002 non-null   int64  \n",
      " 2   ProductID          5002 non-null   int64  \n",
      " 3   QuantityPurchased  5002 non-null   int64  \n",
      " 4   TransactionDate    5002 non-null   object \n",
      " 5   Price              5002 non-null   float64\n",
      "dtypes: float64(1), int64(4), object(1)\n",
      "memory usage: 234.6+ KB\n"
     ]
    },
    {
     "data": {
      "text/html": [
       "<div>\n",
       "<style scoped>\n",
       "    .dataframe tbody tr th:only-of-type {\n",
       "        vertical-align: middle;\n",
       "    }\n",
       "\n",
       "    .dataframe tbody tr th {\n",
       "        vertical-align: top;\n",
       "    }\n",
       "\n",
       "    .dataframe thead th {\n",
       "        text-align: right;\n",
       "    }\n",
       "</style>\n",
       "<table border=\"1\" class=\"dataframe\">\n",
       "  <thead>\n",
       "    <tr style=\"text-align: right;\">\n",
       "      <th></th>\n",
       "    </tr>\n",
       "  </thead>\n",
       "  <tbody>\n",
       "  </tbody>\n",
       "</table>\n",
       "</div>"
      ],
      "text/plain": [
       "Empty DataFrame\n",
       "Columns: []\n",
       "Index: []"
      ]
     },
     "metadata": {},
     "output_type": "display_data"
    },
    {
     "name": "stdout",
     "output_type": "stream",
     "text": [
      "\n",
      "Checking Missing Values:\n",
      "TransactionID        0\n",
      "CustomerID           0\n",
      "ProductID            0\n",
      "QuantityPurchased    0\n",
      "TransactionDate      0\n",
      "Price                0\n",
      "dtype: int64\n",
      "\n",
      "Checking Duplicates:\n",
      "2\n",
      "\n",
      "Checking Datatypes:\n"
     ]
    },
    {
     "data": {
      "text/html": [
       "<div>\n",
       "<style scoped>\n",
       "    .dataframe tbody tr th:only-of-type {\n",
       "        vertical-align: middle;\n",
       "    }\n",
       "\n",
       "    .dataframe tbody tr th {\n",
       "        vertical-align: top;\n",
       "    }\n",
       "\n",
       "    .dataframe thead th {\n",
       "        text-align: right;\n",
       "    }\n",
       "</style>\n",
       "<table border=\"1\" class=\"dataframe\">\n",
       "  <thead>\n",
       "    <tr style=\"text-align: right;\">\n",
       "      <th></th>\n",
       "      <th>0</th>\n",
       "    </tr>\n",
       "  </thead>\n",
       "  <tbody>\n",
       "    <tr>\n",
       "      <th>TransactionID</th>\n",
       "      <td>int64</td>\n",
       "    </tr>\n",
       "    <tr>\n",
       "      <th>CustomerID</th>\n",
       "      <td>int64</td>\n",
       "    </tr>\n",
       "    <tr>\n",
       "      <th>ProductID</th>\n",
       "      <td>int64</td>\n",
       "    </tr>\n",
       "    <tr>\n",
       "      <th>QuantityPurchased</th>\n",
       "      <td>int64</td>\n",
       "    </tr>\n",
       "    <tr>\n",
       "      <th>TransactionDate</th>\n",
       "      <td>object</td>\n",
       "    </tr>\n",
       "    <tr>\n",
       "      <th>Price</th>\n",
       "      <td>float64</td>\n",
       "    </tr>\n",
       "  </tbody>\n",
       "</table>\n",
       "</div>"
      ],
      "text/plain": [
       "                         0\n",
       "TransactionID        int64\n",
       "CustomerID           int64\n",
       "ProductID            int64\n",
       "QuantityPurchased    int64\n",
       "TransactionDate     object\n",
       "Price              float64"
      ]
     },
     "metadata": {},
     "output_type": "display_data"
    },
    {
     "name": "stdout",
     "output_type": "stream",
     "text": [
      "\n",
      "Summary Statistics:\n"
     ]
    },
    {
     "data": {
      "text/html": [
       "<div>\n",
       "<style scoped>\n",
       "    .dataframe tbody tr th:only-of-type {\n",
       "        vertical-align: middle;\n",
       "    }\n",
       "\n",
       "    .dataframe tbody tr th {\n",
       "        vertical-align: top;\n",
       "    }\n",
       "\n",
       "    .dataframe thead th {\n",
       "        text-align: right;\n",
       "    }\n",
       "</style>\n",
       "<table border=\"1\" class=\"dataframe\">\n",
       "  <thead>\n",
       "    <tr style=\"text-align: right;\">\n",
       "      <th></th>\n",
       "      <th>TransactionID</th>\n",
       "      <th>CustomerID</th>\n",
       "      <th>ProductID</th>\n",
       "      <th>QuantityPurchased</th>\n",
       "      <th>TransactionDate</th>\n",
       "      <th>Price</th>\n",
       "    </tr>\n",
       "  </thead>\n",
       "  <tbody>\n",
       "    <tr>\n",
       "      <th>count</th>\n",
       "      <td>5002.000000</td>\n",
       "      <td>5002.000000</td>\n",
       "      <td>5002.000000</td>\n",
       "      <td>5002.000000</td>\n",
       "      <td>5002</td>\n",
       "      <td>5002.000000</td>\n",
       "    </tr>\n",
       "    <tr>\n",
       "      <th>unique</th>\n",
       "      <td>NaN</td>\n",
       "      <td>NaN</td>\n",
       "      <td>NaN</td>\n",
       "      <td>NaN</td>\n",
       "      <td>209</td>\n",
       "      <td>NaN</td>\n",
       "    </tr>\n",
       "    <tr>\n",
       "      <th>top</th>\n",
       "      <td>NaN</td>\n",
       "      <td>NaN</td>\n",
       "      <td>NaN</td>\n",
       "      <td>NaN</td>\n",
       "      <td>01/01/23</td>\n",
       "      <td>NaN</td>\n",
       "    </tr>\n",
       "    <tr>\n",
       "      <th>freq</th>\n",
       "      <td>NaN</td>\n",
       "      <td>NaN</td>\n",
       "      <td>NaN</td>\n",
       "      <td>NaN</td>\n",
       "      <td>24</td>\n",
       "      <td>NaN</td>\n",
       "    </tr>\n",
       "    <tr>\n",
       "      <th>mean</th>\n",
       "      <td>2501.499200</td>\n",
       "      <td>506.722311</td>\n",
       "      <td>101.684926</td>\n",
       "      <td>2.464814</td>\n",
       "      <td>NaN</td>\n",
       "      <td>93.841925</td>\n",
       "    </tr>\n",
       "    <tr>\n",
       "      <th>std</th>\n",
       "      <td>1444.095969</td>\n",
       "      <td>290.862258</td>\n",
       "      <td>57.566997</td>\n",
       "      <td>1.116697</td>\n",
       "      <td>NaN</td>\n",
       "      <td>584.759375</td>\n",
       "    </tr>\n",
       "    <tr>\n",
       "      <th>min</th>\n",
       "      <td>1.000000</td>\n",
       "      <td>1.000000</td>\n",
       "      <td>1.000000</td>\n",
       "      <td>1.000000</td>\n",
       "      <td>NaN</td>\n",
       "      <td>10.050000</td>\n",
       "    </tr>\n",
       "    <tr>\n",
       "      <th>25%</th>\n",
       "      <td>1251.250000</td>\n",
       "      <td>254.000000</td>\n",
       "      <td>53.000000</td>\n",
       "      <td>1.000000</td>\n",
       "      <td>NaN</td>\n",
       "      <td>30.980000</td>\n",
       "    </tr>\n",
       "    <tr>\n",
       "      <th>50%</th>\n",
       "      <td>2501.500000</td>\n",
       "      <td>511.000000</td>\n",
       "      <td>101.000000</td>\n",
       "      <td>2.000000</td>\n",
       "      <td>NaN</td>\n",
       "      <td>58.550000</td>\n",
       "    </tr>\n",
       "    <tr>\n",
       "      <th>75%</th>\n",
       "      <td>3751.750000</td>\n",
       "      <td>762.000000</td>\n",
       "      <td>152.000000</td>\n",
       "      <td>3.000000</td>\n",
       "      <td>NaN</td>\n",
       "      <td>82.720000</td>\n",
       "    </tr>\n",
       "    <tr>\n",
       "      <th>max</th>\n",
       "      <td>5000.000000</td>\n",
       "      <td>1000.000000</td>\n",
       "      <td>200.000000</td>\n",
       "      <td>4.000000</td>\n",
       "      <td>NaN</td>\n",
       "      <td>9312.000000</td>\n",
       "    </tr>\n",
       "  </tbody>\n",
       "</table>\n",
       "</div>"
      ],
      "text/plain": [
       "        TransactionID   CustomerID    ProductID  QuantityPurchased  \\\n",
       "count     5002.000000  5002.000000  5002.000000        5002.000000   \n",
       "unique            NaN          NaN          NaN                NaN   \n",
       "top               NaN          NaN          NaN                NaN   \n",
       "freq              NaN          NaN          NaN                NaN   \n",
       "mean      2501.499200   506.722311   101.684926           2.464814   \n",
       "std       1444.095969   290.862258    57.566997           1.116697   \n",
       "min          1.000000     1.000000     1.000000           1.000000   \n",
       "25%       1251.250000   254.000000    53.000000           1.000000   \n",
       "50%       2501.500000   511.000000   101.000000           2.000000   \n",
       "75%       3751.750000   762.000000   152.000000           3.000000   \n",
       "max       5000.000000  1000.000000   200.000000           4.000000   \n",
       "\n",
       "       TransactionDate        Price  \n",
       "count             5002  5002.000000  \n",
       "unique             209          NaN  \n",
       "top           01/01/23          NaN  \n",
       "freq                24          NaN  \n",
       "mean               NaN    93.841925  \n",
       "std                NaN   584.759375  \n",
       "min                NaN    10.050000  \n",
       "25%                NaN    30.980000  \n",
       "50%                NaN    58.550000  \n",
       "75%                NaN    82.720000  \n",
       "max                NaN  9312.000000  "
      ]
     },
     "metadata": {},
     "output_type": "display_data"
    },
    {
     "name": "stdout",
     "output_type": "stream",
     "text": [
      "\n",
      "Normalizing Column Names:\n",
      "Normalized Columns: ['transactionid', 'customerid', 'productid', 'quantitypurchased', 'transactiondate', 'price']\n",
      "\n",
      "\n",
      "--------------------------------------------------\n",
      "\n",
      "\n",
      "\n",
      "Exploring: Customer Profiles\n",
      "\n",
      "Shape: (1000, 5)\n",
      "\n",
      "First 5 rows:\n"
     ]
    },
    {
     "data": {
      "text/html": [
       "<div>\n",
       "<style scoped>\n",
       "    .dataframe tbody tr th:only-of-type {\n",
       "        vertical-align: middle;\n",
       "    }\n",
       "\n",
       "    .dataframe tbody tr th {\n",
       "        vertical-align: top;\n",
       "    }\n",
       "\n",
       "    .dataframe thead th {\n",
       "        text-align: right;\n",
       "    }\n",
       "</style>\n",
       "<table border=\"1\" class=\"dataframe\">\n",
       "  <thead>\n",
       "    <tr style=\"text-align: right;\">\n",
       "      <th></th>\n",
       "      <th>CustomerID</th>\n",
       "      <th>Age</th>\n",
       "      <th>Gender</th>\n",
       "      <th>Location</th>\n",
       "      <th>JoinDate</th>\n",
       "    </tr>\n",
       "  </thead>\n",
       "  <tbody>\n",
       "    <tr>\n",
       "      <th>0</th>\n",
       "      <td>1</td>\n",
       "      <td>63</td>\n",
       "      <td>Other</td>\n",
       "      <td>East</td>\n",
       "      <td>01/01/20</td>\n",
       "    </tr>\n",
       "    <tr>\n",
       "      <th>1</th>\n",
       "      <td>2</td>\n",
       "      <td>63</td>\n",
       "      <td>Male</td>\n",
       "      <td>North</td>\n",
       "      <td>02/01/20</td>\n",
       "    </tr>\n",
       "    <tr>\n",
       "      <th>2</th>\n",
       "      <td>3</td>\n",
       "      <td>34</td>\n",
       "      <td>Other</td>\n",
       "      <td>North</td>\n",
       "      <td>03/01/20</td>\n",
       "    </tr>\n",
       "    <tr>\n",
       "      <th>3</th>\n",
       "      <td>4</td>\n",
       "      <td>19</td>\n",
       "      <td>Other</td>\n",
       "      <td>NaN</td>\n",
       "      <td>04/01/20</td>\n",
       "    </tr>\n",
       "    <tr>\n",
       "      <th>4</th>\n",
       "      <td>5</td>\n",
       "      <td>57</td>\n",
       "      <td>Male</td>\n",
       "      <td>North</td>\n",
       "      <td>05/01/20</td>\n",
       "    </tr>\n",
       "  </tbody>\n",
       "</table>\n",
       "</div>"
      ],
      "text/plain": [
       "   CustomerID  Age Gender Location  JoinDate\n",
       "0           1   63  Other     East  01/01/20\n",
       "1           2   63   Male    North  02/01/20\n",
       "2           3   34  Other    North  03/01/20\n",
       "3           4   19  Other      NaN  04/01/20\n",
       "4           5   57   Male    North  05/01/20"
      ]
     },
     "metadata": {},
     "output_type": "display_data"
    },
    {
     "name": "stdout",
     "output_type": "stream",
     "text": [
      "\n",
      "Info:\n",
      "<class 'pandas.core.frame.DataFrame'>\n",
      "RangeIndex: 1000 entries, 0 to 999\n",
      "Data columns (total 5 columns):\n",
      " #   Column      Non-Null Count  Dtype \n",
      "---  ------      --------------  ----- \n",
      " 0   CustomerID  1000 non-null   int64 \n",
      " 1   Age         1000 non-null   int64 \n",
      " 2   Gender      1000 non-null   object\n",
      " 3   Location    987 non-null    object\n",
      " 4   JoinDate    1000 non-null   object\n",
      "dtypes: int64(2), object(3)\n",
      "memory usage: 39.2+ KB\n"
     ]
    },
    {
     "data": {
      "text/html": [
       "<div>\n",
       "<style scoped>\n",
       "    .dataframe tbody tr th:only-of-type {\n",
       "        vertical-align: middle;\n",
       "    }\n",
       "\n",
       "    .dataframe tbody tr th {\n",
       "        vertical-align: top;\n",
       "    }\n",
       "\n",
       "    .dataframe thead th {\n",
       "        text-align: right;\n",
       "    }\n",
       "</style>\n",
       "<table border=\"1\" class=\"dataframe\">\n",
       "  <thead>\n",
       "    <tr style=\"text-align: right;\">\n",
       "      <th></th>\n",
       "    </tr>\n",
       "  </thead>\n",
       "  <tbody>\n",
       "  </tbody>\n",
       "</table>\n",
       "</div>"
      ],
      "text/plain": [
       "Empty DataFrame\n",
       "Columns: []\n",
       "Index: []"
      ]
     },
     "metadata": {},
     "output_type": "display_data"
    },
    {
     "name": "stdout",
     "output_type": "stream",
     "text": [
      "\n",
      "Checking Missing Values:\n",
      "CustomerID     0\n",
      "Age            0\n",
      "Gender         0\n",
      "Location      13\n",
      "JoinDate       0\n",
      "dtype: int64\n",
      "\n",
      "Checking Duplicates:\n",
      "0\n",
      "\n",
      "Checking Datatypes:\n"
     ]
    },
    {
     "data": {
      "text/html": [
       "<div>\n",
       "<style scoped>\n",
       "    .dataframe tbody tr th:only-of-type {\n",
       "        vertical-align: middle;\n",
       "    }\n",
       "\n",
       "    .dataframe tbody tr th {\n",
       "        vertical-align: top;\n",
       "    }\n",
       "\n",
       "    .dataframe thead th {\n",
       "        text-align: right;\n",
       "    }\n",
       "</style>\n",
       "<table border=\"1\" class=\"dataframe\">\n",
       "  <thead>\n",
       "    <tr style=\"text-align: right;\">\n",
       "      <th></th>\n",
       "      <th>0</th>\n",
       "    </tr>\n",
       "  </thead>\n",
       "  <tbody>\n",
       "    <tr>\n",
       "      <th>CustomerID</th>\n",
       "      <td>int64</td>\n",
       "    </tr>\n",
       "    <tr>\n",
       "      <th>Age</th>\n",
       "      <td>int64</td>\n",
       "    </tr>\n",
       "    <tr>\n",
       "      <th>Gender</th>\n",
       "      <td>object</td>\n",
       "    </tr>\n",
       "    <tr>\n",
       "      <th>Location</th>\n",
       "      <td>object</td>\n",
       "    </tr>\n",
       "    <tr>\n",
       "      <th>JoinDate</th>\n",
       "      <td>object</td>\n",
       "    </tr>\n",
       "  </tbody>\n",
       "</table>\n",
       "</div>"
      ],
      "text/plain": [
       "                 0\n",
       "CustomerID   int64\n",
       "Age          int64\n",
       "Gender      object\n",
       "Location    object\n",
       "JoinDate    object"
      ]
     },
     "metadata": {},
     "output_type": "display_data"
    },
    {
     "name": "stdout",
     "output_type": "stream",
     "text": [
      "\n",
      "Summary Statistics:\n"
     ]
    },
    {
     "data": {
      "text/html": [
       "<div>\n",
       "<style scoped>\n",
       "    .dataframe tbody tr th:only-of-type {\n",
       "        vertical-align: middle;\n",
       "    }\n",
       "\n",
       "    .dataframe tbody tr th {\n",
       "        vertical-align: top;\n",
       "    }\n",
       "\n",
       "    .dataframe thead th {\n",
       "        text-align: right;\n",
       "    }\n",
       "</style>\n",
       "<table border=\"1\" class=\"dataframe\">\n",
       "  <thead>\n",
       "    <tr style=\"text-align: right;\">\n",
       "      <th></th>\n",
       "      <th>CustomerID</th>\n",
       "      <th>Age</th>\n",
       "      <th>Gender</th>\n",
       "      <th>Location</th>\n",
       "      <th>JoinDate</th>\n",
       "    </tr>\n",
       "  </thead>\n",
       "  <tbody>\n",
       "    <tr>\n",
       "      <th>count</th>\n",
       "      <td>1000.000000</td>\n",
       "      <td>1000.000000</td>\n",
       "      <td>1000</td>\n",
       "      <td>987</td>\n",
       "      <td>1000</td>\n",
       "    </tr>\n",
       "    <tr>\n",
       "      <th>unique</th>\n",
       "      <td>NaN</td>\n",
       "      <td>NaN</td>\n",
       "      <td>3</td>\n",
       "      <td>4</td>\n",
       "      <td>1000</td>\n",
       "    </tr>\n",
       "    <tr>\n",
       "      <th>top</th>\n",
       "      <td>NaN</td>\n",
       "      <td>NaN</td>\n",
       "      <td>Other</td>\n",
       "      <td>West</td>\n",
       "      <td>01/01/20</td>\n",
       "    </tr>\n",
       "    <tr>\n",
       "      <th>freq</th>\n",
       "      <td>NaN</td>\n",
       "      <td>NaN</td>\n",
       "      <td>356</td>\n",
       "      <td>272</td>\n",
       "      <td>1</td>\n",
       "    </tr>\n",
       "    <tr>\n",
       "      <th>mean</th>\n",
       "      <td>500.500000</td>\n",
       "      <td>43.935000</td>\n",
       "      <td>NaN</td>\n",
       "      <td>NaN</td>\n",
       "      <td>NaN</td>\n",
       "    </tr>\n",
       "    <tr>\n",
       "      <th>std</th>\n",
       "      <td>288.819436</td>\n",
       "      <td>15.409485</td>\n",
       "      <td>NaN</td>\n",
       "      <td>NaN</td>\n",
       "      <td>NaN</td>\n",
       "    </tr>\n",
       "    <tr>\n",
       "      <th>min</th>\n",
       "      <td>1.000000</td>\n",
       "      <td>18.000000</td>\n",
       "      <td>NaN</td>\n",
       "      <td>NaN</td>\n",
       "      <td>NaN</td>\n",
       "    </tr>\n",
       "    <tr>\n",
       "      <th>25%</th>\n",
       "      <td>250.750000</td>\n",
       "      <td>31.000000</td>\n",
       "      <td>NaN</td>\n",
       "      <td>NaN</td>\n",
       "      <td>NaN</td>\n",
       "    </tr>\n",
       "    <tr>\n",
       "      <th>50%</th>\n",
       "      <td>500.500000</td>\n",
       "      <td>44.000000</td>\n",
       "      <td>NaN</td>\n",
       "      <td>NaN</td>\n",
       "      <td>NaN</td>\n",
       "    </tr>\n",
       "    <tr>\n",
       "      <th>75%</th>\n",
       "      <td>750.250000</td>\n",
       "      <td>57.000000</td>\n",
       "      <td>NaN</td>\n",
       "      <td>NaN</td>\n",
       "      <td>NaN</td>\n",
       "    </tr>\n",
       "    <tr>\n",
       "      <th>max</th>\n",
       "      <td>1000.000000</td>\n",
       "      <td>131.000000</td>\n",
       "      <td>NaN</td>\n",
       "      <td>NaN</td>\n",
       "      <td>NaN</td>\n",
       "    </tr>\n",
       "  </tbody>\n",
       "</table>\n",
       "</div>"
      ],
      "text/plain": [
       "         CustomerID          Age Gender Location  JoinDate\n",
       "count   1000.000000  1000.000000   1000      987      1000\n",
       "unique          NaN          NaN      3        4      1000\n",
       "top             NaN          NaN  Other     West  01/01/20\n",
       "freq            NaN          NaN    356      272         1\n",
       "mean     500.500000    43.935000    NaN      NaN       NaN\n",
       "std      288.819436    15.409485    NaN      NaN       NaN\n",
       "min        1.000000    18.000000    NaN      NaN       NaN\n",
       "25%      250.750000    31.000000    NaN      NaN       NaN\n",
       "50%      500.500000    44.000000    NaN      NaN       NaN\n",
       "75%      750.250000    57.000000    NaN      NaN       NaN\n",
       "max     1000.000000   131.000000    NaN      NaN       NaN"
      ]
     },
     "metadata": {},
     "output_type": "display_data"
    },
    {
     "name": "stdout",
     "output_type": "stream",
     "text": [
      "\n",
      "Normalizing Column Names:\n",
      "Normalized Columns: ['customerid', 'age', 'gender', 'location', 'joindate']\n",
      "\n",
      "\n",
      "--------------------------------------------------\n",
      "\n",
      "\n",
      "\n",
      "Exploring: Inventory Data\n",
      "\n",
      "Shape: (200, 5)\n",
      "\n",
      "First 5 rows:\n"
     ]
    },
    {
     "data": {
      "text/html": [
       "<div>\n",
       "<style scoped>\n",
       "    .dataframe tbody tr th:only-of-type {\n",
       "        vertical-align: middle;\n",
       "    }\n",
       "\n",
       "    .dataframe tbody tr th {\n",
       "        vertical-align: top;\n",
       "    }\n",
       "\n",
       "    .dataframe thead th {\n",
       "        text-align: right;\n",
       "    }\n",
       "</style>\n",
       "<table border=\"1\" class=\"dataframe\">\n",
       "  <thead>\n",
       "    <tr style=\"text-align: right;\">\n",
       "      <th></th>\n",
       "      <th>ProductID</th>\n",
       "      <th>ProductName</th>\n",
       "      <th>Category</th>\n",
       "      <th>StockLevel</th>\n",
       "      <th>Price</th>\n",
       "    </tr>\n",
       "  </thead>\n",
       "  <tbody>\n",
       "    <tr>\n",
       "      <th>0</th>\n",
       "      <td>1</td>\n",
       "      <td>Product_1</td>\n",
       "      <td>Clothing</td>\n",
       "      <td>22</td>\n",
       "      <td>46.11</td>\n",
       "    </tr>\n",
       "    <tr>\n",
       "      <th>1</th>\n",
       "      <td>2</td>\n",
       "      <td>Product_2</td>\n",
       "      <td>Home &amp; Kitchen</td>\n",
       "      <td>140</td>\n",
       "      <td>81.60</td>\n",
       "    </tr>\n",
       "    <tr>\n",
       "      <th>2</th>\n",
       "      <td>3</td>\n",
       "      <td>Product_3</td>\n",
       "      <td>Home &amp; Kitchen</td>\n",
       "      <td>473</td>\n",
       "      <td>78.72</td>\n",
       "    </tr>\n",
       "    <tr>\n",
       "      <th>3</th>\n",
       "      <td>4</td>\n",
       "      <td>Product_4</td>\n",
       "      <td>Clothing</td>\n",
       "      <td>386</td>\n",
       "      <td>22.06</td>\n",
       "    </tr>\n",
       "    <tr>\n",
       "      <th>4</th>\n",
       "      <td>5</td>\n",
       "      <td>Product_5</td>\n",
       "      <td>Beauty &amp; Health</td>\n",
       "      <td>284</td>\n",
       "      <td>17.97</td>\n",
       "    </tr>\n",
       "  </tbody>\n",
       "</table>\n",
       "</div>"
      ],
      "text/plain": [
       "   ProductID ProductName         Category  StockLevel  Price\n",
       "0          1   Product_1         Clothing          22  46.11\n",
       "1          2   Product_2   Home & Kitchen         140  81.60\n",
       "2          3   Product_3   Home & Kitchen         473  78.72\n",
       "3          4   Product_4         Clothing         386  22.06\n",
       "4          5   Product_5  Beauty & Health         284  17.97"
      ]
     },
     "metadata": {},
     "output_type": "display_data"
    },
    {
     "name": "stdout",
     "output_type": "stream",
     "text": [
      "\n",
      "Info:\n",
      "<class 'pandas.core.frame.DataFrame'>\n",
      "RangeIndex: 200 entries, 0 to 199\n",
      "Data columns (total 5 columns):\n",
      " #   Column       Non-Null Count  Dtype  \n",
      "---  ------       --------------  -----  \n",
      " 0   ProductID    200 non-null    int64  \n",
      " 1   ProductName  200 non-null    object \n",
      " 2   Category     200 non-null    object \n",
      " 3   StockLevel   200 non-null    int64  \n",
      " 4   Price        200 non-null    float64\n",
      "dtypes: float64(1), int64(2), object(2)\n",
      "memory usage: 7.9+ KB\n"
     ]
    },
    {
     "data": {
      "text/html": [
       "<div>\n",
       "<style scoped>\n",
       "    .dataframe tbody tr th:only-of-type {\n",
       "        vertical-align: middle;\n",
       "    }\n",
       "\n",
       "    .dataframe tbody tr th {\n",
       "        vertical-align: top;\n",
       "    }\n",
       "\n",
       "    .dataframe thead th {\n",
       "        text-align: right;\n",
       "    }\n",
       "</style>\n",
       "<table border=\"1\" class=\"dataframe\">\n",
       "  <thead>\n",
       "    <tr style=\"text-align: right;\">\n",
       "      <th></th>\n",
       "    </tr>\n",
       "  </thead>\n",
       "  <tbody>\n",
       "  </tbody>\n",
       "</table>\n",
       "</div>"
      ],
      "text/plain": [
       "Empty DataFrame\n",
       "Columns: []\n",
       "Index: []"
      ]
     },
     "metadata": {},
     "output_type": "display_data"
    },
    {
     "name": "stdout",
     "output_type": "stream",
     "text": [
      "\n",
      "Checking Missing Values:\n",
      "ProductID      0\n",
      "ProductName    0\n",
      "Category       0\n",
      "StockLevel     0\n",
      "Price          0\n",
      "dtype: int64\n",
      "\n",
      "Checking Duplicates:\n",
      "0\n",
      "\n",
      "Checking Datatypes:\n"
     ]
    },
    {
     "data": {
      "text/html": [
       "<div>\n",
       "<style scoped>\n",
       "    .dataframe tbody tr th:only-of-type {\n",
       "        vertical-align: middle;\n",
       "    }\n",
       "\n",
       "    .dataframe tbody tr th {\n",
       "        vertical-align: top;\n",
       "    }\n",
       "\n",
       "    .dataframe thead th {\n",
       "        text-align: right;\n",
       "    }\n",
       "</style>\n",
       "<table border=\"1\" class=\"dataframe\">\n",
       "  <thead>\n",
       "    <tr style=\"text-align: right;\">\n",
       "      <th></th>\n",
       "      <th>0</th>\n",
       "    </tr>\n",
       "  </thead>\n",
       "  <tbody>\n",
       "    <tr>\n",
       "      <th>ProductID</th>\n",
       "      <td>int64</td>\n",
       "    </tr>\n",
       "    <tr>\n",
       "      <th>ProductName</th>\n",
       "      <td>object</td>\n",
       "    </tr>\n",
       "    <tr>\n",
       "      <th>Category</th>\n",
       "      <td>object</td>\n",
       "    </tr>\n",
       "    <tr>\n",
       "      <th>StockLevel</th>\n",
       "      <td>int64</td>\n",
       "    </tr>\n",
       "    <tr>\n",
       "      <th>Price</th>\n",
       "      <td>float64</td>\n",
       "    </tr>\n",
       "  </tbody>\n",
       "</table>\n",
       "</div>"
      ],
      "text/plain": [
       "                   0\n",
       "ProductID      int64\n",
       "ProductName   object\n",
       "Category      object\n",
       "StockLevel     int64\n",
       "Price        float64"
      ]
     },
     "metadata": {},
     "output_type": "display_data"
    },
    {
     "name": "stdout",
     "output_type": "stream",
     "text": [
      "\n",
      "Summary Statistics:\n"
     ]
    },
    {
     "data": {
      "text/html": [
       "<div>\n",
       "<style scoped>\n",
       "    .dataframe tbody tr th:only-of-type {\n",
       "        vertical-align: middle;\n",
       "    }\n",
       "\n",
       "    .dataframe tbody tr th {\n",
       "        vertical-align: top;\n",
       "    }\n",
       "\n",
       "    .dataframe thead th {\n",
       "        text-align: right;\n",
       "    }\n",
       "</style>\n",
       "<table border=\"1\" class=\"dataframe\">\n",
       "  <thead>\n",
       "    <tr style=\"text-align: right;\">\n",
       "      <th></th>\n",
       "      <th>ProductID</th>\n",
       "      <th>ProductName</th>\n",
       "      <th>Category</th>\n",
       "      <th>StockLevel</th>\n",
       "      <th>Price</th>\n",
       "    </tr>\n",
       "  </thead>\n",
       "  <tbody>\n",
       "    <tr>\n",
       "      <th>count</th>\n",
       "      <td>200.000000</td>\n",
       "      <td>200</td>\n",
       "      <td>200</td>\n",
       "      <td>200.000000</td>\n",
       "      <td>200.000000</td>\n",
       "    </tr>\n",
       "    <tr>\n",
       "      <th>unique</th>\n",
       "      <td>NaN</td>\n",
       "      <td>200</td>\n",
       "      <td>4</td>\n",
       "      <td>NaN</td>\n",
       "      <td>NaN</td>\n",
       "    </tr>\n",
       "    <tr>\n",
       "      <th>top</th>\n",
       "      <td>NaN</td>\n",
       "      <td>Product_1</td>\n",
       "      <td>Home &amp; Kitchen</td>\n",
       "      <td>NaN</td>\n",
       "      <td>NaN</td>\n",
       "    </tr>\n",
       "    <tr>\n",
       "      <th>freq</th>\n",
       "      <td>NaN</td>\n",
       "      <td>1</td>\n",
       "      <td>58</td>\n",
       "      <td>NaN</td>\n",
       "      <td>NaN</td>\n",
       "    </tr>\n",
       "    <tr>\n",
       "      <th>mean</th>\n",
       "      <td>100.500000</td>\n",
       "      <td>NaN</td>\n",
       "      <td>NaN</td>\n",
       "      <td>259.180000</td>\n",
       "      <td>56.995350</td>\n",
       "    </tr>\n",
       "    <tr>\n",
       "      <th>std</th>\n",
       "      <td>57.879185</td>\n",
       "      <td>NaN</td>\n",
       "      <td>NaN</td>\n",
       "      <td>143.032932</td>\n",
       "      <td>27.234336</td>\n",
       "    </tr>\n",
       "    <tr>\n",
       "      <th>min</th>\n",
       "      <td>1.000000</td>\n",
       "      <td>NaN</td>\n",
       "      <td>NaN</td>\n",
       "      <td>0.000000</td>\n",
       "      <td>10.050000</td>\n",
       "    </tr>\n",
       "    <tr>\n",
       "      <th>25%</th>\n",
       "      <td>50.750000</td>\n",
       "      <td>NaN</td>\n",
       "      <td>NaN</td>\n",
       "      <td>137.250000</td>\n",
       "      <td>31.492500</td>\n",
       "    </tr>\n",
       "    <tr>\n",
       "      <th>50%</th>\n",
       "      <td>100.500000</td>\n",
       "      <td>NaN</td>\n",
       "      <td>NaN</td>\n",
       "      <td>260.500000</td>\n",
       "      <td>58.735000</td>\n",
       "    </tr>\n",
       "    <tr>\n",
       "      <th>75%</th>\n",
       "      <td>150.250000</td>\n",
       "      <td>NaN</td>\n",
       "      <td>NaN</td>\n",
       "      <td>384.500000</td>\n",
       "      <td>82.057500</td>\n",
       "    </tr>\n",
       "    <tr>\n",
       "      <th>max</th>\n",
       "      <td>200.000000</td>\n",
       "      <td>NaN</td>\n",
       "      <td>NaN</td>\n",
       "      <td>498.000000</td>\n",
       "      <td>99.810000</td>\n",
       "    </tr>\n",
       "  </tbody>\n",
       "</table>\n",
       "</div>"
      ],
      "text/plain": [
       "         ProductID ProductName        Category  StockLevel       Price\n",
       "count   200.000000         200             200  200.000000  200.000000\n",
       "unique         NaN         200               4         NaN         NaN\n",
       "top            NaN   Product_1  Home & Kitchen         NaN         NaN\n",
       "freq           NaN           1              58         NaN         NaN\n",
       "mean    100.500000         NaN             NaN  259.180000   56.995350\n",
       "std      57.879185         NaN             NaN  143.032932   27.234336\n",
       "min       1.000000         NaN             NaN    0.000000   10.050000\n",
       "25%      50.750000         NaN             NaN  137.250000   31.492500\n",
       "50%     100.500000         NaN             NaN  260.500000   58.735000\n",
       "75%     150.250000         NaN             NaN  384.500000   82.057500\n",
       "max     200.000000         NaN             NaN  498.000000   99.810000"
      ]
     },
     "metadata": {},
     "output_type": "display_data"
    },
    {
     "name": "stdout",
     "output_type": "stream",
     "text": [
      "\n",
      "Normalizing Column Names:\n",
      "Normalized Columns: ['productid', 'productname', 'category', 'stocklevel', 'price']\n"
     ]
    }
   ],
   "source": [
    "\n",
    "\n",
    "def explore_dataset(df, name=\"DataFrame\"):\n",
    "    \"\"\"\n",
    "    Perform basic data exploration on a DataFrame.\n",
    "    \n",
    "    Parameters:\n",
    "        df (pd.DataFrame): DataFrame to explore\n",
    "        name (str): Optional name for print statements\n",
    "        datetime_cols (list): List of columns to convert to datetime (optional)\n",
    "    \n",
    "    Returns:\n",
    "        pd.DataFrame: Cleaned and explored DataFrame\n",
    "    \"\"\"\n",
    "    print(f\"\\nExploring: {name}\")\n",
    "\n",
    "    print(f\"\\nShape: {df.shape}\")\n",
    "\n",
    "    print(\"\\nFirst 5 rows:\")\n",
    "    display(pd.DataFrame(df.head()))\n",
    "    \n",
    "    print(\"\\nInfo:\")\n",
    "    display(pd.DataFrame(df.info()))\n",
    "    \n",
    "    print(\"\\nChecking Missing Values:\")\n",
    "    print(df.isnull().sum())\n",
    "\n",
    "    print(\"\\nChecking Duplicates:\")\n",
    "    print(df.duplicated().sum())\n",
    "\n",
    "\n",
    "    print(\"\\nChecking Datatypes:\")\n",
    "    display(pd.DataFrame(df.dtypes))\n",
    "    \n",
    "    print(\"\\nSummary Statistics:\")\n",
    "    display(pd.DataFrame(df.describe(include='all')))\n",
    "    \n",
    "    print(\"\\nNormalizing Column Names:\")\n",
    "    df.columns = [col.strip().lower().replace(\" \", \"_\") for col in df.columns]\n",
    "    print(f\"Normalized Columns: {df.columns.tolist()}\")\n",
    "\n",
    "    return df\n",
    "\n",
    "sales_df = explore_dataset(sales_df, name=\"Sales Data\")\n",
    "print(\"\\n\")\n",
    "print(\"-\"*50)\n",
    "print(\"\\n\")\n",
    "customer_df = explore_dataset(customer_df, name=\"Customer Profiles\")\n",
    "print(\"\\n\")\n",
    "print(\"-\"*50)\n",
    "print(\"\\n\")\n",
    "inventory_df = explore_dataset(inventory_df, name=\"Inventory Data\")\n",
    "\n"
   ]
  },
  {
   "cell_type": "markdown",
   "id": "64a7c232",
   "metadata": {},
   "source": [
    "# Data Cleaning"
   ]
  },
  {
   "cell_type": "code",
   "execution_count": 4,
   "id": "9e405d99",
   "metadata": {},
   "outputs": [
    {
     "name": "stdout",
     "output_type": "stream",
     "text": [
      "\n",
      "Cleaning Sales Data...\n",
      "                                0\n",
      "transactionid               int64\n",
      "customerid                  int64\n",
      "productid                   int64\n",
      "quantitypurchased           int64\n",
      "transactiondate    datetime64[ns]\n",
      "price                     float64"
     ]
    },
    {
     "name": "stdout",
     "output_type": "stream",
     "text": [
      "\n",
      "\n",
      "'transactiondate' converted to datetime.\n",
      "Duplicates Found: 0\n",
      "--------------------------------------------------\n",
      "\n",
      "Cleaning Customer Data...\n",
      "                         0\n",
      "customerid           int64\n",
      "age                  int64\n",
      "gender              object\n",
      "location            object\n",
      "joindate    datetime64[ns]\n",
      "\n",
      "'joindate' converted to datetime.\n",
      "Missing Values Found: 0\n"
     ]
    }
   ],
   "source": [
    "def clean_sales_data(df):\n",
    "    print(\"\\nCleaning Sales Data...\")\n",
    "\n",
    "    df[\"transactiondate\"] = pd.to_datetime(df[\"transactiondate\"])\n",
    "    print(pd.DataFrame(df.dtypes))\n",
    "    print(\"\\n'transactiondate' converted to datetime.\")\n",
    "\n",
    "    df.drop_duplicates(inplace=True)\n",
    "    print(f\"Duplicates Found: {df.duplicated().sum()}\")\n",
    "    return df\n",
    "    \n",
    "    \n",
    "def clean_customer_data(df):\n",
    "\n",
    "    print(\"\\nCleaning Customer Data...\")\n",
    "\n",
    "    df[\"joindate\"] = pd.to_datetime(df[\"joindate\"])\n",
    "    print(pd.DataFrame(df.dtypes))\n",
    "    print(\"\\n'joindate' converted to datetime.\")\n",
    "\n",
    "    \n",
    "    df[\"location\"].fillna(\"Unknown\", inplace=True)\n",
    "    print(f\"Missing Values Found: {df[\"location\"].isna().sum()}\")\n",
    "    \n",
    "    return df\n",
    "\n",
    "sales_df = clean_sales_data(sales_df)\n",
    "\n",
    "print(\"-\"*50)\n",
    "customer_df = clean_customer_data(customer_df)\n",
    "\n"
   ]
  },
  {
   "cell_type": "code",
   "execution_count": 5,
   "id": "63a064ff",
   "metadata": {},
   "outputs": [
    {
     "name": "stdout",
     "output_type": "stream",
     "text": [
      "Cleaned sales data saved to cleaned_sales.csv\n",
      "Cleaned customer data saved to cleaned_customers.csv\n",
      "Inventory data saved to cleaned_inventory.csv\n"
     ]
    }
   ],
   "source": [
    "# Save cleaned Sales data\n",
    "sales_df.to_csv(f\"{CLEAN_PATH}cleaned_sales.csv\", index=False)\n",
    "print(\"Cleaned sales data saved to cleaned_sales.csv\")\n",
    "\n",
    "# Save cleaned Customer data\n",
    "customer_df.to_csv(f\"{CLEAN_PATH}cleaned_customers.csv\", index=False)\n",
    "print(\"Cleaned customer data saved to cleaned_customers.csv\")\n",
    "\n",
    "# Save cleaned Inventory data\n",
    "inventory_df.to_csv(f\"{CLEAN_PATH}cleaned_inventory.csv\", index=False)\n",
    "print(\"Inventory data saved to cleaned_inventory.csv\")\n"
   ]
  },
  {
   "cell_type": "code",
   "execution_count": 6,
   "id": "f40e2675",
   "metadata": {},
   "outputs": [
    {
     "name": "stdout",
     "output_type": "stream",
     "text": [
      "Connection successful!\n"
     ]
    }
   ],
   "source": [
    "import json\n",
    "import urllib.parse\n",
    "\n",
    "\n",
    "# Load config\n",
    "with open(\"config/db_config.json\") as f:\n",
    "    config = json.load(f)\n",
    "\n",
    "# Encode password\n",
    "encoded_password = urllib.parse.quote_plus(config['password'])\n",
    "\n",
    "# Build connection string\n",
    "db_url = f\"mysql+pymysql://{config['user']}:{encoded_password}@{config['host']}:{config['port']}/{config['database']}\"\n",
    "\n",
    "# Test connection\n",
    "try:\n",
    "    engine = create_engine(db_url)\n",
    "    with engine.connect() as conn:\n",
    "        print(\"Connection successful!\")\n",
    "except Exception as e:\n",
    "    print(\"Connection failed!\")\n",
    "    print(e)\n"
   ]
  },
  {
   "cell_type": "code",
   "execution_count": 7,
   "id": "5b0dbf04",
   "metadata": {},
   "outputs": [
    {
     "name": "stdout",
     "output_type": "stream",
     "text": [
      "'sales' table loaded into MySQL\n",
      "'customers' table loaded into MySQL\n",
      "'inventory' table loaded into MySQL\n"
     ]
    }
   ],
   "source": [
    "# Load sales\n",
    "sales_df.to_sql(\"sales\", con=engine, index=False, if_exists=\"replace\")\n",
    "print(\"'sales' table loaded into MySQL\")\n",
    "\n",
    "# Load customers\n",
    "customer_df.to_sql(\"customers\", con=engine, index=False, if_exists=\"replace\")\n",
    "print(\"'customers' table loaded into MySQL\")\n",
    "\n",
    "# Load inventory\n",
    "inventory_df.to_sql(\"inventory\", con=engine, index=False, if_exists=\"replace\")\n",
    "print(\"'inventory' table loaded into MySQL\")\n"
   ]
  },
  {
   "cell_type": "markdown",
   "id": "99d9624f",
   "metadata": {},
   "source": [
    "# Exploratory Data Analysis & Business Insights\n"
   ]
  },
  {
   "cell_type": "markdown",
   "id": "66c9040d",
   "metadata": {},
   "source": [
    "## Business Problem 1: Identify High-Performing & Low-Performing Products\n",
    "# EDA:\n",
    "Join sales with inventory on productid\n",
    "\n",
    "Check total units sold and revenue per product\n",
    "\n",
    "Compare across categories"
   ]
  },
  {
   "cell_type": "code",
   "execution_count": 8,
   "id": "e91e7749",
   "metadata": {},
   "outputs": [
    {
     "data": {
      "text/html": [
       "<div>\n",
       "<style scoped>\n",
       "    .dataframe tbody tr th:only-of-type {\n",
       "        vertical-align: middle;\n",
       "    }\n",
       "\n",
       "    .dataframe tbody tr th {\n",
       "        vertical-align: top;\n",
       "    }\n",
       "\n",
       "    .dataframe thead th {\n",
       "        text-align: right;\n",
       "    }\n",
       "</style>\n",
       "<table border=\"1\" class=\"dataframe\">\n",
       "  <thead>\n",
       "    <tr style=\"text-align: right;\">\n",
       "      <th></th>\n",
       "      <th>productname</th>\n",
       "      <th>total_units_sold</th>\n",
       "      <th>total_revenue</th>\n",
       "    </tr>\n",
       "  </thead>\n",
       "  <tbody>\n",
       "    <tr>\n",
       "      <th>0</th>\n",
       "      <td>Product_182</td>\n",
       "      <td>102.0</td>\n",
       "      <td>3144.66</td>\n",
       "    </tr>\n",
       "    <tr>\n",
       "      <th>1</th>\n",
       "      <td>Product_17</td>\n",
       "      <td>100.0</td>\n",
       "      <td>9450.00</td>\n",
       "    </tr>\n",
       "    <tr>\n",
       "      <th>2</th>\n",
       "      <td>Product_87</td>\n",
       "      <td>92.0</td>\n",
       "      <td>7817.24</td>\n",
       "    </tr>\n",
       "    <tr>\n",
       "      <th>3</th>\n",
       "      <td>Product_71</td>\n",
       "      <td>88.0</td>\n",
       "      <td>4729.12</td>\n",
       "    </tr>\n",
       "    <tr>\n",
       "      <th>4</th>\n",
       "      <td>Product_195</td>\n",
       "      <td>87.0</td>\n",
       "      <td>6229.20</td>\n",
       "    </tr>\n",
       "    <tr>\n",
       "      <th>5</th>\n",
       "      <td>Product_179</td>\n",
       "      <td>86.0</td>\n",
       "      <td>7388.26</td>\n",
       "    </tr>\n",
       "    <tr>\n",
       "      <th>6</th>\n",
       "      <td>Product_177</td>\n",
       "      <td>86.0</td>\n",
       "      <td>3354.00</td>\n",
       "    </tr>\n",
       "    <tr>\n",
       "      <th>7</th>\n",
       "      <td>Product_54</td>\n",
       "      <td>86.0</td>\n",
       "      <td>7052.86</td>\n",
       "    </tr>\n",
       "    <tr>\n",
       "      <th>8</th>\n",
       "      <td>Product_13</td>\n",
       "      <td>85.0</td>\n",
       "      <td>1596.30</td>\n",
       "    </tr>\n",
       "    <tr>\n",
       "      <th>9</th>\n",
       "      <td>Product_22</td>\n",
       "      <td>85.0</td>\n",
       "      <td>1978.80</td>\n",
       "    </tr>\n",
       "  </tbody>\n",
       "</table>\n",
       "</div>"
      ],
      "text/plain": [
       "   productname  total_units_sold  total_revenue\n",
       "0  Product_182             102.0        3144.66\n",
       "1   Product_17             100.0        9450.00\n",
       "2   Product_87              92.0        7817.24\n",
       "3   Product_71              88.0        4729.12\n",
       "4  Product_195              87.0        6229.20\n",
       "5  Product_179              86.0        7388.26\n",
       "6  Product_177              86.0        3354.00\n",
       "7   Product_54              86.0        7052.86\n",
       "8   Product_13              85.0        1596.30\n",
       "9   Product_22              85.0        1978.80"
      ]
     },
     "metadata": {},
     "output_type": "display_data"
    }
   ],
   "source": [
    "# Top 10 selling products\n",
    "\n",
    "query = \"\"\"\n",
    "SELECT \n",
    "    p.productname,\n",
    "    SUM(s.quantitypurchased) AS total_units_sold,\n",
    "    SUM(s.quantitypurchased * s.price) AS total_revenue\n",
    "FROM sales s\n",
    "JOIN inventory p ON s.productid = p.productid\n",
    "GROUP BY p.productname\n",
    "ORDER BY total_units_sold DESC\n",
    "LIMIT 10;\n",
    "\n",
    "\"\"\"\n",
    "\n",
    "top_products_df = pd.read_sql_query(query, con=engine)\n",
    "display(top_products_df)\n"
   ]
  },
  {
   "cell_type": "code",
   "execution_count": 9,
   "id": "8d6f5b79",
   "metadata": {},
   "outputs": [
    {
     "data": {
      "application/vnd.plotly.v1+json": {
       "config": {
        "plotlyServerURL": "https://plot.ly"
       },
       "data": [
        {
         "hovertemplate": "productname=%{x}<br>total_units_sold=%{y}<br>total_revenue=%{marker.color}<extra></extra>",
         "legendgroup": "",
         "marker": {
          "color": {
           "bdata": "th6F61GRqEAAAAAAAHXCQAjXo3A9ib5AhOtRuB55skAyMzMzM1W4QPQoXI9C3LxAAAAAAAA0qkCRwvUo3Iy7QDIzMzMz8ZhAMDMzMzPrnkA=",
           "dtype": "f8"
          },
          "coloraxis": "coloraxis",
          "pattern": {
           "shape": ""
          }
         },
         "name": "",
         "orientation": "v",
         "showlegend": false,
         "textposition": "auto",
         "type": "bar",
         "x": [
          "Product_182",
          "Product_17",
          "Product_87",
          "Product_71",
          "Product_195",
          "Product_179",
          "Product_177",
          "Product_54",
          "Product_13",
          "Product_22"
         ],
         "xaxis": "x",
         "y": {
          "bdata": "AAAAAACAWUAAAAAAAABZQAAAAAAAAFdAAAAAAAAAVkAAAAAAAMBVQAAAAAAAgFVAAAAAAACAVUAAAAAAAIBVQAAAAAAAQFVAAAAAAABAVUA=",
          "dtype": "f8"
         },
         "yaxis": "y"
        }
       ],
       "layout": {
        "barmode": "relative",
        "coloraxis": {
         "colorbar": {
          "title": {
           "text": "total_revenue"
          }
         },
         "colorscale": [
          [
           0,
           "#0d0887"
          ],
          [
           0.1111111111111111,
           "#46039f"
          ],
          [
           0.2222222222222222,
           "#7201a8"
          ],
          [
           0.3333333333333333,
           "#9c179e"
          ],
          [
           0.4444444444444444,
           "#bd3786"
          ],
          [
           0.5555555555555556,
           "#d8576b"
          ],
          [
           0.6666666666666666,
           "#ed7953"
          ],
          [
           0.7777777777777778,
           "#fb9f3a"
          ],
          [
           0.8888888888888888,
           "#fdca26"
          ],
          [
           1,
           "#f0f921"
          ]
         ]
        },
        "legend": {
         "tracegroupgap": 0
        },
        "template": {
         "data": {
          "bar": [
           {
            "error_x": {
             "color": "#2a3f5f"
            },
            "error_y": {
             "color": "#2a3f5f"
            },
            "marker": {
             "line": {
              "color": "#E5ECF6",
              "width": 0.5
             },
             "pattern": {
              "fillmode": "overlay",
              "size": 10,
              "solidity": 0.2
             }
            },
            "type": "bar"
           }
          ],
          "barpolar": [
           {
            "marker": {
             "line": {
              "color": "#E5ECF6",
              "width": 0.5
             },
             "pattern": {
              "fillmode": "overlay",
              "size": 10,
              "solidity": 0.2
             }
            },
            "type": "barpolar"
           }
          ],
          "carpet": [
           {
            "aaxis": {
             "endlinecolor": "#2a3f5f",
             "gridcolor": "white",
             "linecolor": "white",
             "minorgridcolor": "white",
             "startlinecolor": "#2a3f5f"
            },
            "baxis": {
             "endlinecolor": "#2a3f5f",
             "gridcolor": "white",
             "linecolor": "white",
             "minorgridcolor": "white",
             "startlinecolor": "#2a3f5f"
            },
            "type": "carpet"
           }
          ],
          "choropleth": [
           {
            "colorbar": {
             "outlinewidth": 0,
             "ticks": ""
            },
            "type": "choropleth"
           }
          ],
          "contour": [
           {
            "colorbar": {
             "outlinewidth": 0,
             "ticks": ""
            },
            "colorscale": [
             [
              0,
              "#0d0887"
             ],
             [
              0.1111111111111111,
              "#46039f"
             ],
             [
              0.2222222222222222,
              "#7201a8"
             ],
             [
              0.3333333333333333,
              "#9c179e"
             ],
             [
              0.4444444444444444,
              "#bd3786"
             ],
             [
              0.5555555555555556,
              "#d8576b"
             ],
             [
              0.6666666666666666,
              "#ed7953"
             ],
             [
              0.7777777777777778,
              "#fb9f3a"
             ],
             [
              0.8888888888888888,
              "#fdca26"
             ],
             [
              1,
              "#f0f921"
             ]
            ],
            "type": "contour"
           }
          ],
          "contourcarpet": [
           {
            "colorbar": {
             "outlinewidth": 0,
             "ticks": ""
            },
            "type": "contourcarpet"
           }
          ],
          "heatmap": [
           {
            "colorbar": {
             "outlinewidth": 0,
             "ticks": ""
            },
            "colorscale": [
             [
              0,
              "#0d0887"
             ],
             [
              0.1111111111111111,
              "#46039f"
             ],
             [
              0.2222222222222222,
              "#7201a8"
             ],
             [
              0.3333333333333333,
              "#9c179e"
             ],
             [
              0.4444444444444444,
              "#bd3786"
             ],
             [
              0.5555555555555556,
              "#d8576b"
             ],
             [
              0.6666666666666666,
              "#ed7953"
             ],
             [
              0.7777777777777778,
              "#fb9f3a"
             ],
             [
              0.8888888888888888,
              "#fdca26"
             ],
             [
              1,
              "#f0f921"
             ]
            ],
            "type": "heatmap"
           }
          ],
          "histogram": [
           {
            "marker": {
             "pattern": {
              "fillmode": "overlay",
              "size": 10,
              "solidity": 0.2
             }
            },
            "type": "histogram"
           }
          ],
          "histogram2d": [
           {
            "colorbar": {
             "outlinewidth": 0,
             "ticks": ""
            },
            "colorscale": [
             [
              0,
              "#0d0887"
             ],
             [
              0.1111111111111111,
              "#46039f"
             ],
             [
              0.2222222222222222,
              "#7201a8"
             ],
             [
              0.3333333333333333,
              "#9c179e"
             ],
             [
              0.4444444444444444,
              "#bd3786"
             ],
             [
              0.5555555555555556,
              "#d8576b"
             ],
             [
              0.6666666666666666,
              "#ed7953"
             ],
             [
              0.7777777777777778,
              "#fb9f3a"
             ],
             [
              0.8888888888888888,
              "#fdca26"
             ],
             [
              1,
              "#f0f921"
             ]
            ],
            "type": "histogram2d"
           }
          ],
          "histogram2dcontour": [
           {
            "colorbar": {
             "outlinewidth": 0,
             "ticks": ""
            },
            "colorscale": [
             [
              0,
              "#0d0887"
             ],
             [
              0.1111111111111111,
              "#46039f"
             ],
             [
              0.2222222222222222,
              "#7201a8"
             ],
             [
              0.3333333333333333,
              "#9c179e"
             ],
             [
              0.4444444444444444,
              "#bd3786"
             ],
             [
              0.5555555555555556,
              "#d8576b"
             ],
             [
              0.6666666666666666,
              "#ed7953"
             ],
             [
              0.7777777777777778,
              "#fb9f3a"
             ],
             [
              0.8888888888888888,
              "#fdca26"
             ],
             [
              1,
              "#f0f921"
             ]
            ],
            "type": "histogram2dcontour"
           }
          ],
          "mesh3d": [
           {
            "colorbar": {
             "outlinewidth": 0,
             "ticks": ""
            },
            "type": "mesh3d"
           }
          ],
          "parcoords": [
           {
            "line": {
             "colorbar": {
              "outlinewidth": 0,
              "ticks": ""
             }
            },
            "type": "parcoords"
           }
          ],
          "pie": [
           {
            "automargin": true,
            "type": "pie"
           }
          ],
          "scatter": [
           {
            "fillpattern": {
             "fillmode": "overlay",
             "size": 10,
             "solidity": 0.2
            },
            "type": "scatter"
           }
          ],
          "scatter3d": [
           {
            "line": {
             "colorbar": {
              "outlinewidth": 0,
              "ticks": ""
             }
            },
            "marker": {
             "colorbar": {
              "outlinewidth": 0,
              "ticks": ""
             }
            },
            "type": "scatter3d"
           }
          ],
          "scattercarpet": [
           {
            "marker": {
             "colorbar": {
              "outlinewidth": 0,
              "ticks": ""
             }
            },
            "type": "scattercarpet"
           }
          ],
          "scattergeo": [
           {
            "marker": {
             "colorbar": {
              "outlinewidth": 0,
              "ticks": ""
             }
            },
            "type": "scattergeo"
           }
          ],
          "scattergl": [
           {
            "marker": {
             "colorbar": {
              "outlinewidth": 0,
              "ticks": ""
             }
            },
            "type": "scattergl"
           }
          ],
          "scattermap": [
           {
            "marker": {
             "colorbar": {
              "outlinewidth": 0,
              "ticks": ""
             }
            },
            "type": "scattermap"
           }
          ],
          "scattermapbox": [
           {
            "marker": {
             "colorbar": {
              "outlinewidth": 0,
              "ticks": ""
             }
            },
            "type": "scattermapbox"
           }
          ],
          "scatterpolar": [
           {
            "marker": {
             "colorbar": {
              "outlinewidth": 0,
              "ticks": ""
             }
            },
            "type": "scatterpolar"
           }
          ],
          "scatterpolargl": [
           {
            "marker": {
             "colorbar": {
              "outlinewidth": 0,
              "ticks": ""
             }
            },
            "type": "scatterpolargl"
           }
          ],
          "scatterternary": [
           {
            "marker": {
             "colorbar": {
              "outlinewidth": 0,
              "ticks": ""
             }
            },
            "type": "scatterternary"
           }
          ],
          "surface": [
           {
            "colorbar": {
             "outlinewidth": 0,
             "ticks": ""
            },
            "colorscale": [
             [
              0,
              "#0d0887"
             ],
             [
              0.1111111111111111,
              "#46039f"
             ],
             [
              0.2222222222222222,
              "#7201a8"
             ],
             [
              0.3333333333333333,
              "#9c179e"
             ],
             [
              0.4444444444444444,
              "#bd3786"
             ],
             [
              0.5555555555555556,
              "#d8576b"
             ],
             [
              0.6666666666666666,
              "#ed7953"
             ],
             [
              0.7777777777777778,
              "#fb9f3a"
             ],
             [
              0.8888888888888888,
              "#fdca26"
             ],
             [
              1,
              "#f0f921"
             ]
            ],
            "type": "surface"
           }
          ],
          "table": [
           {
            "cells": {
             "fill": {
              "color": "#EBF0F8"
             },
             "line": {
              "color": "white"
             }
            },
            "header": {
             "fill": {
              "color": "#C8D4E3"
             },
             "line": {
              "color": "white"
             }
            },
            "type": "table"
           }
          ]
         },
         "layout": {
          "annotationdefaults": {
           "arrowcolor": "#2a3f5f",
           "arrowhead": 0,
           "arrowwidth": 1
          },
          "autotypenumbers": "strict",
          "coloraxis": {
           "colorbar": {
            "outlinewidth": 0,
            "ticks": ""
           }
          },
          "colorscale": {
           "diverging": [
            [
             0,
             "#8e0152"
            ],
            [
             0.1,
             "#c51b7d"
            ],
            [
             0.2,
             "#de77ae"
            ],
            [
             0.3,
             "#f1b6da"
            ],
            [
             0.4,
             "#fde0ef"
            ],
            [
             0.5,
             "#f7f7f7"
            ],
            [
             0.6,
             "#e6f5d0"
            ],
            [
             0.7,
             "#b8e186"
            ],
            [
             0.8,
             "#7fbc41"
            ],
            [
             0.9,
             "#4d9221"
            ],
            [
             1,
             "#276419"
            ]
           ],
           "sequential": [
            [
             0,
             "#0d0887"
            ],
            [
             0.1111111111111111,
             "#46039f"
            ],
            [
             0.2222222222222222,
             "#7201a8"
            ],
            [
             0.3333333333333333,
             "#9c179e"
            ],
            [
             0.4444444444444444,
             "#bd3786"
            ],
            [
             0.5555555555555556,
             "#d8576b"
            ],
            [
             0.6666666666666666,
             "#ed7953"
            ],
            [
             0.7777777777777778,
             "#fb9f3a"
            ],
            [
             0.8888888888888888,
             "#fdca26"
            ],
            [
             1,
             "#f0f921"
            ]
           ],
           "sequentialminus": [
            [
             0,
             "#0d0887"
            ],
            [
             0.1111111111111111,
             "#46039f"
            ],
            [
             0.2222222222222222,
             "#7201a8"
            ],
            [
             0.3333333333333333,
             "#9c179e"
            ],
            [
             0.4444444444444444,
             "#bd3786"
            ],
            [
             0.5555555555555556,
             "#d8576b"
            ],
            [
             0.6666666666666666,
             "#ed7953"
            ],
            [
             0.7777777777777778,
             "#fb9f3a"
            ],
            [
             0.8888888888888888,
             "#fdca26"
            ],
            [
             1,
             "#f0f921"
            ]
           ]
          },
          "colorway": [
           "#636efa",
           "#EF553B",
           "#00cc96",
           "#ab63fa",
           "#FFA15A",
           "#19d3f3",
           "#FF6692",
           "#B6E880",
           "#FF97FF",
           "#FECB52"
          ],
          "font": {
           "color": "#2a3f5f"
          },
          "geo": {
           "bgcolor": "white",
           "lakecolor": "white",
           "landcolor": "#E5ECF6",
           "showlakes": true,
           "showland": true,
           "subunitcolor": "white"
          },
          "hoverlabel": {
           "align": "left"
          },
          "hovermode": "closest",
          "mapbox": {
           "style": "light"
          },
          "paper_bgcolor": "white",
          "plot_bgcolor": "#E5ECF6",
          "polar": {
           "angularaxis": {
            "gridcolor": "white",
            "linecolor": "white",
            "ticks": ""
           },
           "bgcolor": "#E5ECF6",
           "radialaxis": {
            "gridcolor": "white",
            "linecolor": "white",
            "ticks": ""
           }
          },
          "scene": {
           "xaxis": {
            "backgroundcolor": "#E5ECF6",
            "gridcolor": "white",
            "gridwidth": 2,
            "linecolor": "white",
            "showbackground": true,
            "ticks": "",
            "zerolinecolor": "white"
           },
           "yaxis": {
            "backgroundcolor": "#E5ECF6",
            "gridcolor": "white",
            "gridwidth": 2,
            "linecolor": "white",
            "showbackground": true,
            "ticks": "",
            "zerolinecolor": "white"
           },
           "zaxis": {
            "backgroundcolor": "#E5ECF6",
            "gridcolor": "white",
            "gridwidth": 2,
            "linecolor": "white",
            "showbackground": true,
            "ticks": "",
            "zerolinecolor": "white"
           }
          },
          "shapedefaults": {
           "line": {
            "color": "#2a3f5f"
           }
          },
          "ternary": {
           "aaxis": {
            "gridcolor": "white",
            "linecolor": "white",
            "ticks": ""
           },
           "baxis": {
            "gridcolor": "white",
            "linecolor": "white",
            "ticks": ""
           },
           "bgcolor": "#E5ECF6",
           "caxis": {
            "gridcolor": "white",
            "linecolor": "white",
            "ticks": ""
           }
          },
          "title": {
           "x": 0.05
          },
          "xaxis": {
           "automargin": true,
           "gridcolor": "white",
           "linecolor": "white",
           "ticks": "",
           "title": {
            "standoff": 15
           },
           "zerolinecolor": "white",
           "zerolinewidth": 2
          },
          "yaxis": {
           "automargin": true,
           "gridcolor": "white",
           "linecolor": "white",
           "ticks": "",
           "title": {
            "standoff": 15
           },
           "zerolinecolor": "white",
           "zerolinewidth": 2
          }
         }
        },
        "title": {
         "text": "Top 10 Selling Products by Units"
        },
        "xaxis": {
         "anchor": "y",
         "domain": [
          0,
          1
         ],
         "title": {
          "text": "productname"
         }
        },
        "yaxis": {
         "anchor": "x",
         "domain": [
          0,
          1
         ],
         "title": {
          "text": "total_units_sold"
         }
        }
       }
      }
     },
     "metadata": {},
     "output_type": "display_data"
    }
   ],
   "source": [
    "px.bar(top_products_df, x='productname', y='total_units_sold', \n",
    "       title='Top 10 Selling Products by Units', color='total_revenue')\n"
   ]
  },
  {
   "cell_type": "code",
   "execution_count": 10,
   "id": "3e44c7d7",
   "metadata": {},
   "outputs": [
    {
     "data": {
      "text/html": [
       "<div>\n",
       "<style scoped>\n",
       "    .dataframe tbody tr th:only-of-type {\n",
       "        vertical-align: middle;\n",
       "    }\n",
       "\n",
       "    .dataframe tbody tr th {\n",
       "        vertical-align: top;\n",
       "    }\n",
       "\n",
       "    .dataframe thead th {\n",
       "        text-align: right;\n",
       "    }\n",
       "</style>\n",
       "<table border=\"1\" class=\"dataframe\">\n",
       "  <thead>\n",
       "    <tr style=\"text-align: right;\">\n",
       "      <th></th>\n",
       "      <th>productname</th>\n",
       "      <th>total_units_sold</th>\n",
       "    </tr>\n",
       "  </thead>\n",
       "  <tbody>\n",
       "    <tr>\n",
       "      <th>0</th>\n",
       "      <td>Product_142</td>\n",
       "      <td>27.0</td>\n",
       "    </tr>\n",
       "    <tr>\n",
       "      <th>1</th>\n",
       "      <td>Product_33</td>\n",
       "      <td>31.0</td>\n",
       "    </tr>\n",
       "    <tr>\n",
       "      <th>2</th>\n",
       "      <td>Product_174</td>\n",
       "      <td>33.0</td>\n",
       "    </tr>\n",
       "    <tr>\n",
       "      <th>3</th>\n",
       "      <td>Product_41</td>\n",
       "      <td>35.0</td>\n",
       "    </tr>\n",
       "    <tr>\n",
       "      <th>4</th>\n",
       "      <td>Product_60</td>\n",
       "      <td>35.0</td>\n",
       "    </tr>\n",
       "    <tr>\n",
       "      <th>5</th>\n",
       "      <td>Product_159</td>\n",
       "      <td>35.0</td>\n",
       "    </tr>\n",
       "    <tr>\n",
       "      <th>6</th>\n",
       "      <td>Product_91</td>\n",
       "      <td>35.0</td>\n",
       "    </tr>\n",
       "    <tr>\n",
       "      <th>7</th>\n",
       "      <td>Product_198</td>\n",
       "      <td>36.0</td>\n",
       "    </tr>\n",
       "    <tr>\n",
       "      <th>8</th>\n",
       "      <td>Product_163</td>\n",
       "      <td>39.0</td>\n",
       "    </tr>\n",
       "    <tr>\n",
       "      <th>9</th>\n",
       "      <td>Product_124</td>\n",
       "      <td>39.0</td>\n",
       "    </tr>\n",
       "  </tbody>\n",
       "</table>\n",
       "</div>"
      ],
      "text/plain": [
       "   productname  total_units_sold\n",
       "0  Product_142              27.0\n",
       "1   Product_33              31.0\n",
       "2  Product_174              33.0\n",
       "3   Product_41              35.0\n",
       "4   Product_60              35.0\n",
       "5  Product_159              35.0\n",
       "6   Product_91              35.0\n",
       "7  Product_198              36.0\n",
       "8  Product_163              39.0\n",
       "9  Product_124              39.0"
      ]
     },
     "metadata": {},
     "output_type": "display_data"
    }
   ],
   "source": [
    "# Bottom 10 performing products\n",
    "query = '''\n",
    "SELECT \n",
    "    p.productname,\n",
    "    IFNULL(SUM(s.quantitypurchased), 0) AS total_units_sold\n",
    "\n",
    "FROM inventory p\n",
    "LEFT JOIN sales s ON p.productid = s.productid\n",
    "GROUP BY p.productname\n",
    "ORDER BY total_units_sold ASC\n",
    "LIMIT 10;'''\n",
    "bottom_products_df = pd.read_sql_query(query, con=engine)\n",
    "display(bottom_products_df)"
   ]
  },
  {
   "cell_type": "code",
   "execution_count": 11,
   "id": "212aca37",
   "metadata": {},
   "outputs": [
    {
     "data": {
      "application/vnd.plotly.v1+json": {
       "config": {
        "plotlyServerURL": "https://plot.ly"
       },
       "data": [
        {
         "hovertemplate": "productname=%{x}<br>total_units_sold=%{marker.color}<extra></extra>",
         "legendgroup": "",
         "marker": {
          "color": {
           "bdata": "AAAAAAAAO0AAAAAAAAA/QAAAAAAAgEBAAAAAAACAQUAAAAAAAIBBQAAAAAAAgEFAAAAAAACAQUAAAAAAAABCQAAAAAAAgENAAAAAAACAQ0A=",
           "dtype": "f8"
          },
          "coloraxis": "coloraxis",
          "pattern": {
           "shape": ""
          }
         },
         "name": "",
         "orientation": "v",
         "showlegend": false,
         "textposition": "auto",
         "type": "bar",
         "x": [
          "Product_142",
          "Product_33",
          "Product_174",
          "Product_41",
          "Product_60",
          "Product_159",
          "Product_91",
          "Product_198",
          "Product_163",
          "Product_124"
         ],
         "xaxis": "x",
         "y": {
          "bdata": "AAAAAAAAO0AAAAAAAAA/QAAAAAAAgEBAAAAAAACAQUAAAAAAAIBBQAAAAAAAgEFAAAAAAACAQUAAAAAAAABCQAAAAAAAgENAAAAAAACAQ0A=",
          "dtype": "f8"
         },
         "yaxis": "y"
        }
       ],
       "layout": {
        "barmode": "relative",
        "coloraxis": {
         "colorbar": {
          "title": {
           "text": "total_units_sold"
          }
         },
         "colorscale": [
          [
           0,
           "#0d0887"
          ],
          [
           0.1111111111111111,
           "#46039f"
          ],
          [
           0.2222222222222222,
           "#7201a8"
          ],
          [
           0.3333333333333333,
           "#9c179e"
          ],
          [
           0.4444444444444444,
           "#bd3786"
          ],
          [
           0.5555555555555556,
           "#d8576b"
          ],
          [
           0.6666666666666666,
           "#ed7953"
          ],
          [
           0.7777777777777778,
           "#fb9f3a"
          ],
          [
           0.8888888888888888,
           "#fdca26"
          ],
          [
           1,
           "#f0f921"
          ]
         ]
        },
        "legend": {
         "tracegroupgap": 0
        },
        "template": {
         "data": {
          "bar": [
           {
            "error_x": {
             "color": "#2a3f5f"
            },
            "error_y": {
             "color": "#2a3f5f"
            },
            "marker": {
             "line": {
              "color": "#E5ECF6",
              "width": 0.5
             },
             "pattern": {
              "fillmode": "overlay",
              "size": 10,
              "solidity": 0.2
             }
            },
            "type": "bar"
           }
          ],
          "barpolar": [
           {
            "marker": {
             "line": {
              "color": "#E5ECF6",
              "width": 0.5
             },
             "pattern": {
              "fillmode": "overlay",
              "size": 10,
              "solidity": 0.2
             }
            },
            "type": "barpolar"
           }
          ],
          "carpet": [
           {
            "aaxis": {
             "endlinecolor": "#2a3f5f",
             "gridcolor": "white",
             "linecolor": "white",
             "minorgridcolor": "white",
             "startlinecolor": "#2a3f5f"
            },
            "baxis": {
             "endlinecolor": "#2a3f5f",
             "gridcolor": "white",
             "linecolor": "white",
             "minorgridcolor": "white",
             "startlinecolor": "#2a3f5f"
            },
            "type": "carpet"
           }
          ],
          "choropleth": [
           {
            "colorbar": {
             "outlinewidth": 0,
             "ticks": ""
            },
            "type": "choropleth"
           }
          ],
          "contour": [
           {
            "colorbar": {
             "outlinewidth": 0,
             "ticks": ""
            },
            "colorscale": [
             [
              0,
              "#0d0887"
             ],
             [
              0.1111111111111111,
              "#46039f"
             ],
             [
              0.2222222222222222,
              "#7201a8"
             ],
             [
              0.3333333333333333,
              "#9c179e"
             ],
             [
              0.4444444444444444,
              "#bd3786"
             ],
             [
              0.5555555555555556,
              "#d8576b"
             ],
             [
              0.6666666666666666,
              "#ed7953"
             ],
             [
              0.7777777777777778,
              "#fb9f3a"
             ],
             [
              0.8888888888888888,
              "#fdca26"
             ],
             [
              1,
              "#f0f921"
             ]
            ],
            "type": "contour"
           }
          ],
          "contourcarpet": [
           {
            "colorbar": {
             "outlinewidth": 0,
             "ticks": ""
            },
            "type": "contourcarpet"
           }
          ],
          "heatmap": [
           {
            "colorbar": {
             "outlinewidth": 0,
             "ticks": ""
            },
            "colorscale": [
             [
              0,
              "#0d0887"
             ],
             [
              0.1111111111111111,
              "#46039f"
             ],
             [
              0.2222222222222222,
              "#7201a8"
             ],
             [
              0.3333333333333333,
              "#9c179e"
             ],
             [
              0.4444444444444444,
              "#bd3786"
             ],
             [
              0.5555555555555556,
              "#d8576b"
             ],
             [
              0.6666666666666666,
              "#ed7953"
             ],
             [
              0.7777777777777778,
              "#fb9f3a"
             ],
             [
              0.8888888888888888,
              "#fdca26"
             ],
             [
              1,
              "#f0f921"
             ]
            ],
            "type": "heatmap"
           }
          ],
          "histogram": [
           {
            "marker": {
             "pattern": {
              "fillmode": "overlay",
              "size": 10,
              "solidity": 0.2
             }
            },
            "type": "histogram"
           }
          ],
          "histogram2d": [
           {
            "colorbar": {
             "outlinewidth": 0,
             "ticks": ""
            },
            "colorscale": [
             [
              0,
              "#0d0887"
             ],
             [
              0.1111111111111111,
              "#46039f"
             ],
             [
              0.2222222222222222,
              "#7201a8"
             ],
             [
              0.3333333333333333,
              "#9c179e"
             ],
             [
              0.4444444444444444,
              "#bd3786"
             ],
             [
              0.5555555555555556,
              "#d8576b"
             ],
             [
              0.6666666666666666,
              "#ed7953"
             ],
             [
              0.7777777777777778,
              "#fb9f3a"
             ],
             [
              0.8888888888888888,
              "#fdca26"
             ],
             [
              1,
              "#f0f921"
             ]
            ],
            "type": "histogram2d"
           }
          ],
          "histogram2dcontour": [
           {
            "colorbar": {
             "outlinewidth": 0,
             "ticks": ""
            },
            "colorscale": [
             [
              0,
              "#0d0887"
             ],
             [
              0.1111111111111111,
              "#46039f"
             ],
             [
              0.2222222222222222,
              "#7201a8"
             ],
             [
              0.3333333333333333,
              "#9c179e"
             ],
             [
              0.4444444444444444,
              "#bd3786"
             ],
             [
              0.5555555555555556,
              "#d8576b"
             ],
             [
              0.6666666666666666,
              "#ed7953"
             ],
             [
              0.7777777777777778,
              "#fb9f3a"
             ],
             [
              0.8888888888888888,
              "#fdca26"
             ],
             [
              1,
              "#f0f921"
             ]
            ],
            "type": "histogram2dcontour"
           }
          ],
          "mesh3d": [
           {
            "colorbar": {
             "outlinewidth": 0,
             "ticks": ""
            },
            "type": "mesh3d"
           }
          ],
          "parcoords": [
           {
            "line": {
             "colorbar": {
              "outlinewidth": 0,
              "ticks": ""
             }
            },
            "type": "parcoords"
           }
          ],
          "pie": [
           {
            "automargin": true,
            "type": "pie"
           }
          ],
          "scatter": [
           {
            "fillpattern": {
             "fillmode": "overlay",
             "size": 10,
             "solidity": 0.2
            },
            "type": "scatter"
           }
          ],
          "scatter3d": [
           {
            "line": {
             "colorbar": {
              "outlinewidth": 0,
              "ticks": ""
             }
            },
            "marker": {
             "colorbar": {
              "outlinewidth": 0,
              "ticks": ""
             }
            },
            "type": "scatter3d"
           }
          ],
          "scattercarpet": [
           {
            "marker": {
             "colorbar": {
              "outlinewidth": 0,
              "ticks": ""
             }
            },
            "type": "scattercarpet"
           }
          ],
          "scattergeo": [
           {
            "marker": {
             "colorbar": {
              "outlinewidth": 0,
              "ticks": ""
             }
            },
            "type": "scattergeo"
           }
          ],
          "scattergl": [
           {
            "marker": {
             "colorbar": {
              "outlinewidth": 0,
              "ticks": ""
             }
            },
            "type": "scattergl"
           }
          ],
          "scattermap": [
           {
            "marker": {
             "colorbar": {
              "outlinewidth": 0,
              "ticks": ""
             }
            },
            "type": "scattermap"
           }
          ],
          "scattermapbox": [
           {
            "marker": {
             "colorbar": {
              "outlinewidth": 0,
              "ticks": ""
             }
            },
            "type": "scattermapbox"
           }
          ],
          "scatterpolar": [
           {
            "marker": {
             "colorbar": {
              "outlinewidth": 0,
              "ticks": ""
             }
            },
            "type": "scatterpolar"
           }
          ],
          "scatterpolargl": [
           {
            "marker": {
             "colorbar": {
              "outlinewidth": 0,
              "ticks": ""
             }
            },
            "type": "scatterpolargl"
           }
          ],
          "scatterternary": [
           {
            "marker": {
             "colorbar": {
              "outlinewidth": 0,
              "ticks": ""
             }
            },
            "type": "scatterternary"
           }
          ],
          "surface": [
           {
            "colorbar": {
             "outlinewidth": 0,
             "ticks": ""
            },
            "colorscale": [
             [
              0,
              "#0d0887"
             ],
             [
              0.1111111111111111,
              "#46039f"
             ],
             [
              0.2222222222222222,
              "#7201a8"
             ],
             [
              0.3333333333333333,
              "#9c179e"
             ],
             [
              0.4444444444444444,
              "#bd3786"
             ],
             [
              0.5555555555555556,
              "#d8576b"
             ],
             [
              0.6666666666666666,
              "#ed7953"
             ],
             [
              0.7777777777777778,
              "#fb9f3a"
             ],
             [
              0.8888888888888888,
              "#fdca26"
             ],
             [
              1,
              "#f0f921"
             ]
            ],
            "type": "surface"
           }
          ],
          "table": [
           {
            "cells": {
             "fill": {
              "color": "#EBF0F8"
             },
             "line": {
              "color": "white"
             }
            },
            "header": {
             "fill": {
              "color": "#C8D4E3"
             },
             "line": {
              "color": "white"
             }
            },
            "type": "table"
           }
          ]
         },
         "layout": {
          "annotationdefaults": {
           "arrowcolor": "#2a3f5f",
           "arrowhead": 0,
           "arrowwidth": 1
          },
          "autotypenumbers": "strict",
          "coloraxis": {
           "colorbar": {
            "outlinewidth": 0,
            "ticks": ""
           }
          },
          "colorscale": {
           "diverging": [
            [
             0,
             "#8e0152"
            ],
            [
             0.1,
             "#c51b7d"
            ],
            [
             0.2,
             "#de77ae"
            ],
            [
             0.3,
             "#f1b6da"
            ],
            [
             0.4,
             "#fde0ef"
            ],
            [
             0.5,
             "#f7f7f7"
            ],
            [
             0.6,
             "#e6f5d0"
            ],
            [
             0.7,
             "#b8e186"
            ],
            [
             0.8,
             "#7fbc41"
            ],
            [
             0.9,
             "#4d9221"
            ],
            [
             1,
             "#276419"
            ]
           ],
           "sequential": [
            [
             0,
             "#0d0887"
            ],
            [
             0.1111111111111111,
             "#46039f"
            ],
            [
             0.2222222222222222,
             "#7201a8"
            ],
            [
             0.3333333333333333,
             "#9c179e"
            ],
            [
             0.4444444444444444,
             "#bd3786"
            ],
            [
             0.5555555555555556,
             "#d8576b"
            ],
            [
             0.6666666666666666,
             "#ed7953"
            ],
            [
             0.7777777777777778,
             "#fb9f3a"
            ],
            [
             0.8888888888888888,
             "#fdca26"
            ],
            [
             1,
             "#f0f921"
            ]
           ],
           "sequentialminus": [
            [
             0,
             "#0d0887"
            ],
            [
             0.1111111111111111,
             "#46039f"
            ],
            [
             0.2222222222222222,
             "#7201a8"
            ],
            [
             0.3333333333333333,
             "#9c179e"
            ],
            [
             0.4444444444444444,
             "#bd3786"
            ],
            [
             0.5555555555555556,
             "#d8576b"
            ],
            [
             0.6666666666666666,
             "#ed7953"
            ],
            [
             0.7777777777777778,
             "#fb9f3a"
            ],
            [
             0.8888888888888888,
             "#fdca26"
            ],
            [
             1,
             "#f0f921"
            ]
           ]
          },
          "colorway": [
           "#636efa",
           "#EF553B",
           "#00cc96",
           "#ab63fa",
           "#FFA15A",
           "#19d3f3",
           "#FF6692",
           "#B6E880",
           "#FF97FF",
           "#FECB52"
          ],
          "font": {
           "color": "#2a3f5f"
          },
          "geo": {
           "bgcolor": "white",
           "lakecolor": "white",
           "landcolor": "#E5ECF6",
           "showlakes": true,
           "showland": true,
           "subunitcolor": "white"
          },
          "hoverlabel": {
           "align": "left"
          },
          "hovermode": "closest",
          "mapbox": {
           "style": "light"
          },
          "paper_bgcolor": "white",
          "plot_bgcolor": "#E5ECF6",
          "polar": {
           "angularaxis": {
            "gridcolor": "white",
            "linecolor": "white",
            "ticks": ""
           },
           "bgcolor": "#E5ECF6",
           "radialaxis": {
            "gridcolor": "white",
            "linecolor": "white",
            "ticks": ""
           }
          },
          "scene": {
           "xaxis": {
            "backgroundcolor": "#E5ECF6",
            "gridcolor": "white",
            "gridwidth": 2,
            "linecolor": "white",
            "showbackground": true,
            "ticks": "",
            "zerolinecolor": "white"
           },
           "yaxis": {
            "backgroundcolor": "#E5ECF6",
            "gridcolor": "white",
            "gridwidth": 2,
            "linecolor": "white",
            "showbackground": true,
            "ticks": "",
            "zerolinecolor": "white"
           },
           "zaxis": {
            "backgroundcolor": "#E5ECF6",
            "gridcolor": "white",
            "gridwidth": 2,
            "linecolor": "white",
            "showbackground": true,
            "ticks": "",
            "zerolinecolor": "white"
           }
          },
          "shapedefaults": {
           "line": {
            "color": "#2a3f5f"
           }
          },
          "ternary": {
           "aaxis": {
            "gridcolor": "white",
            "linecolor": "white",
            "ticks": ""
           },
           "baxis": {
            "gridcolor": "white",
            "linecolor": "white",
            "ticks": ""
           },
           "bgcolor": "#E5ECF6",
           "caxis": {
            "gridcolor": "white",
            "linecolor": "white",
            "ticks": ""
           }
          },
          "title": {
           "x": 0.05
          },
          "xaxis": {
           "automargin": true,
           "gridcolor": "white",
           "linecolor": "white",
           "ticks": "",
           "title": {
            "standoff": 15
           },
           "zerolinecolor": "white",
           "zerolinewidth": 2
          },
          "yaxis": {
           "automargin": true,
           "gridcolor": "white",
           "linecolor": "white",
           "ticks": "",
           "title": {
            "standoff": 15
           },
           "zerolinecolor": "white",
           "zerolinewidth": 2
          }
         }
        },
        "title": {
         "text": "Bottom 10 Products by Sales"
        },
        "xaxis": {
         "anchor": "y",
         "domain": [
          0,
          1
         ],
         "title": {
          "text": "productname"
         }
        },
        "yaxis": {
         "anchor": "x",
         "domain": [
          0,
          1
         ],
         "title": {
          "text": "total_units_sold"
         }
        }
       }
      }
     },
     "metadata": {},
     "output_type": "display_data"
    }
   ],
   "source": [
    "px.bar(bottom_products_df, x='productname', y='total_units_sold', \n",
    "       title='Bottom 10 Products by Sales', color='total_units_sold')\n"
   ]
  },
  {
   "cell_type": "markdown",
   "id": "8b0689b9",
   "metadata": {},
   "source": [
    "## Business Problem 2: Understand Customer Segments Based on Purchases\n",
    "# EDA:\n",
    "Total orders per customer\n",
    "\n",
    "Total amount spent\n",
    "\n",
    "Join with customer demographics (age, gender, location)"
   ]
  },
  {
   "cell_type": "code",
   "execution_count": 12,
   "id": "09116a59",
   "metadata": {},
   "outputs": [
    {
     "data": {
      "text/html": [
       "<div>\n",
       "<style scoped>\n",
       "    .dataframe tbody tr th:only-of-type {\n",
       "        vertical-align: middle;\n",
       "    }\n",
       "\n",
       "    .dataframe tbody tr th {\n",
       "        vertical-align: top;\n",
       "    }\n",
       "\n",
       "    .dataframe thead th {\n",
       "        text-align: right;\n",
       "    }\n",
       "</style>\n",
       "<table border=\"1\" class=\"dataframe\">\n",
       "  <thead>\n",
       "    <tr style=\"text-align: right;\">\n",
       "      <th></th>\n",
       "      <th>customerid</th>\n",
       "      <th>age</th>\n",
       "      <th>gender</th>\n",
       "      <th>location</th>\n",
       "      <th>total_orders</th>\n",
       "      <th>total_spent</th>\n",
       "    </tr>\n",
       "  </thead>\n",
       "  <tbody>\n",
       "    <tr>\n",
       "      <th>0</th>\n",
       "      <td>973</td>\n",
       "      <td>50</td>\n",
       "      <td>Male</td>\n",
       "      <td>North</td>\n",
       "      <td>9</td>\n",
       "      <td>57089.99</td>\n",
       "    </tr>\n",
       "    <tr>\n",
       "      <th>1</th>\n",
       "      <td>984</td>\n",
       "      <td>42</td>\n",
       "      <td>Female</td>\n",
       "      <td>East</td>\n",
       "      <td>7</td>\n",
       "      <td>38518.06</td>\n",
       "    </tr>\n",
       "    <tr>\n",
       "      <th>2</th>\n",
       "      <td>172</td>\n",
       "      <td>33</td>\n",
       "      <td>Female</td>\n",
       "      <td>South</td>\n",
       "      <td>7</td>\n",
       "      <td>38208.18</td>\n",
       "    </tr>\n",
       "    <tr>\n",
       "      <th>3</th>\n",
       "      <td>819</td>\n",
       "      <td>60</td>\n",
       "      <td>Other</td>\n",
       "      <td>South</td>\n",
       "      <td>6</td>\n",
       "      <td>38008.16</td>\n",
       "    </tr>\n",
       "    <tr>\n",
       "      <th>4</th>\n",
       "      <td>371</td>\n",
       "      <td>51</td>\n",
       "      <td>Female</td>\n",
       "      <td>West</td>\n",
       "      <td>5</td>\n",
       "      <td>37809.98</td>\n",
       "    </tr>\n",
       "    <tr>\n",
       "      <th>...</th>\n",
       "      <td>...</td>\n",
       "      <td>...</td>\n",
       "      <td>...</td>\n",
       "      <td>...</td>\n",
       "      <td>...</td>\n",
       "      <td>...</td>\n",
       "    </tr>\n",
       "    <tr>\n",
       "      <th>984</th>\n",
       "      <td>766</td>\n",
       "      <td>32</td>\n",
       "      <td>Male</td>\n",
       "      <td>West</td>\n",
       "      <td>1</td>\n",
       "      <td>28.86</td>\n",
       "    </tr>\n",
       "    <tr>\n",
       "      <th>985</th>\n",
       "      <td>555</td>\n",
       "      <td>63</td>\n",
       "      <td>Other</td>\n",
       "      <td>East</td>\n",
       "      <td>1</td>\n",
       "      <td>22.27</td>\n",
       "    </tr>\n",
       "    <tr>\n",
       "      <th>986</th>\n",
       "      <td>219</td>\n",
       "      <td>23</td>\n",
       "      <td>Male</td>\n",
       "      <td>Unknown</td>\n",
       "      <td>1</td>\n",
       "      <td>22.24</td>\n",
       "    </tr>\n",
       "    <tr>\n",
       "      <th>987</th>\n",
       "      <td>255</td>\n",
       "      <td>29</td>\n",
       "      <td>Male</td>\n",
       "      <td>South</td>\n",
       "      <td>1</td>\n",
       "      <td>14.29</td>\n",
       "    </tr>\n",
       "    <tr>\n",
       "      <th>988</th>\n",
       "      <td>464</td>\n",
       "      <td>26</td>\n",
       "      <td>Other</td>\n",
       "      <td>South</td>\n",
       "      <td>1</td>\n",
       "      <td>10.95</td>\n",
       "    </tr>\n",
       "  </tbody>\n",
       "</table>\n",
       "<p>989 rows × 6 columns</p>\n",
       "</div>"
      ],
      "text/plain": [
       "     customerid  age  gender location  total_orders  total_spent\n",
       "0           973   50    Male    North             9     57089.99\n",
       "1           984   42  Female     East             7     38518.06\n",
       "2           172   33  Female    South             7     38208.18\n",
       "3           819   60   Other    South             6     38008.16\n",
       "4           371   51  Female     West             5     37809.98\n",
       "..          ...  ...     ...      ...           ...          ...\n",
       "984         766   32    Male     West             1        28.86\n",
       "985         555   63   Other     East             1        22.27\n",
       "986         219   23    Male  Unknown             1        22.24\n",
       "987         255   29    Male    South             1        14.29\n",
       "988         464   26   Other    South             1        10.95\n",
       "\n",
       "[989 rows x 6 columns]"
      ]
     },
     "execution_count": 12,
     "metadata": {},
     "output_type": "execute_result"
    }
   ],
   "source": [
    "## Spending and frequency per customer\n",
    "query = '''SELECT \n",
    "    c.customerid,\n",
    "    c.age,\n",
    "    c.gender,\n",
    "    c.location,\n",
    "    COUNT(s.transactionid) AS total_orders,\n",
    "    SUM(s.quantitypurchased * s.price) AS total_spent\n",
    "FROM customers c\n",
    "JOIN sales s ON c.customerid = s.customerid\n",
    "GROUP BY c.customerid, c.age, c.gender, c.location\n",
    "ORDER BY total_spent DESC;\n",
    "'''\n",
    "customer_spending = pd.read_sql(query, engine)\n",
    "customer_spending"
   ]
  },
  {
   "cell_type": "code",
   "execution_count": 13,
   "id": "f97a03fc",
   "metadata": {},
   "outputs": [
    {
     "data": {
      "application/vnd.plotly.v1+json": {
       "config": {
        "plotlyServerURL": "https://plot.ly"
       },
       "data": [
        {
         "customdata": [
          [
           973,
           "North"
          ],
          [
           821,
           "East"
          ],
          [
           422,
           "South"
          ],
          [
           231,
           "West"
          ],
          [
           247,
           "North"
          ],
          [
           936,
           "East"
          ],
          [
           39,
           "West"
          ],
          [
           435,
           "North"
          ],
          [
           929,
           "North"
          ],
          [
           289,
           "North"
          ],
          [
           867,
           "West"
          ],
          [
           779,
           "West"
          ],
          [
           99,
           "North"
          ],
          [
           344,
           "West"
          ],
          [
           261,
           "North"
          ],
          [
           113,
           "Unknown"
          ],
          [
           161,
           "North"
          ],
          [
           471,
           "South"
          ],
          [
           459,
           "North"
          ],
          [
           547,
           "South"
          ],
          [
           828,
           "West"
          ],
          [
           35,
           "South"
          ],
          [
           305,
           "South"
          ],
          [
           672,
           "West"
          ],
          [
           872,
           "West"
          ],
          [
           393,
           "West"
          ],
          [
           943,
           "West"
          ],
          [
           883,
           "West"
          ],
          [
           225,
           "East"
          ],
          [
           814,
           "West"
          ],
          [
           682,
           "South"
          ],
          [
           739,
           "West"
          ],
          [
           381,
           "East"
          ],
          [
           625,
           "West"
          ],
          [
           637,
           "West"
          ],
          [
           108,
           "West"
          ],
          [
           988,
           "West"
          ],
          [
           22,
           "South"
          ],
          [
           947,
           "West"
          ],
          [
           119,
           "South"
          ],
          [
           638,
           "West"
          ],
          [
           283,
           "South"
          ],
          [
           575,
           "North"
          ],
          [
           440,
           "West"
          ],
          [
           815,
           "South"
          ],
          [
           84,
           "West"
          ],
          [
           324,
           "South"
          ],
          [
           474,
           "North"
          ],
          [
           376,
           "East"
          ],
          [
           794,
           "West"
          ],
          [
           66,
           "South"
          ],
          [
           399,
           "North"
          ],
          [
           558,
           "North"
          ],
          [
           432,
           "East"
          ],
          [
           145,
           "East"
          ],
          [
           837,
           "West"
          ],
          [
           170,
           "North"
          ],
          [
           378,
           "East"
          ],
          [
           559,
           "North"
          ],
          [
           511,
           "North"
          ],
          [
           783,
           "South"
          ],
          [
           141,
           "East"
          ],
          [
           104,
           "South"
          ],
          [
           802,
           "West"
          ],
          [
           218,
           "South"
          ],
          [
           127,
           "East"
          ],
          [
           977,
           "West"
          ],
          [
           710,
           "North"
          ],
          [
           501,
           "East"
          ],
          [
           660,
           "East"
          ],
          [
           380,
           "East"
          ],
          [
           515,
           "North"
          ],
          [
           656,
           "South"
          ],
          [
           168,
           "South"
          ],
          [
           137,
           "West"
          ],
          [
           990,
           "South"
          ],
          [
           148,
           "West"
          ],
          [
           605,
           "North"
          ],
          [
           876,
           "East"
          ],
          [
           419,
           "West"
          ],
          [
           909,
           "South"
          ],
          [
           13,
           "East"
          ],
          [
           978,
           "East"
          ],
          [
           527,
           "South"
          ],
          [
           500,
           "West"
          ],
          [
           751,
           "West"
          ],
          [
           382,
           "East"
          ],
          [
           654,
           "North"
          ],
          [
           730,
           "East"
          ],
          [
           2,
           "North"
          ],
          [
           952,
           "East"
          ],
          [
           964,
           "West"
          ],
          [
           327,
           "North"
          ],
          [
           361,
           "South"
          ],
          [
           89,
           "East"
          ],
          [
           976,
           "West"
          ],
          [
           160,
           "South"
          ],
          [
           942,
           "South"
          ],
          [
           338,
           "West"
          ],
          [
           824,
           "East"
          ],
          [
           620,
           "South"
          ],
          [
           911,
           "West"
          ],
          [
           332,
           "East"
          ],
          [
           85,
           "East"
          ],
          [
           363,
           "South"
          ],
          [
           598,
           "North"
          ],
          [
           217,
           "East"
          ],
          [
           997,
           "West"
          ],
          [
           886,
           "North"
          ],
          [
           842,
           "South"
          ],
          [
           286,
           "North"
          ],
          [
           377,
           "South"
          ],
          [
           601,
           "West"
          ],
          [
           414,
           "South"
          ],
          [
           966,
           "West"
          ],
          [
           659,
           "East"
          ],
          [
           408,
           "North"
          ],
          [
           406,
           "South"
          ],
          [
           920,
           "West"
          ],
          [
           781,
           "West"
          ],
          [
           436,
           "West"
          ],
          [
           335,
           "South"
          ],
          [
           131,
           "North"
          ],
          [
           443,
           "West"
          ],
          [
           859,
           "South"
          ],
          [
           15,
           "North"
          ],
          [
           817,
           "East"
          ],
          [
           539,
           "East"
          ],
          [
           630,
           "East"
          ],
          [
           296,
           "East"
          ],
          [
           853,
           "East"
          ],
          [
           326,
           "East"
          ],
          [
           804,
           "South"
          ],
          [
           566,
           "South"
          ],
          [
           981,
           "North"
          ],
          [
           932,
           "North"
          ],
          [
           905,
           "East"
          ],
          [
           146,
           "West"
          ],
          [
           70,
           "North"
          ],
          [
           163,
           "West"
          ],
          [
           720,
           "North"
          ],
          [
           845,
           "North"
          ],
          [
           830,
           "North"
          ],
          [
           758,
           "West"
          ],
          [
           734,
           "West"
          ],
          [
           28,
           "East"
          ],
          [
           273,
           "North"
          ],
          [
           178,
           "South"
          ],
          [
           337,
           "West"
          ],
          [
           631,
           "West"
          ],
          [
           9,
           "West"
          ],
          [
           864,
           "South"
          ],
          [
           698,
           "South"
          ],
          [
           919,
           "East"
          ],
          [
           79,
           "South"
          ],
          [
           102,
           "South"
          ],
          [
           29,
           "West"
          ],
          [
           38,
           "East"
          ],
          [
           732,
           "West"
          ],
          [
           928,
           "North"
          ],
          [
           388,
           "East"
          ],
          [
           359,
           "East"
          ],
          [
           705,
           "North"
          ],
          [
           616,
           "South"
          ],
          [
           673,
           "East"
          ],
          [
           390,
           "South"
          ],
          [
           643,
           "South"
          ],
          [
           513,
           "North"
          ],
          [
           861,
           "South"
          ],
          [
           5,
           "North"
          ],
          [
           46,
           "North"
          ],
          [
           375,
           "South"
          ],
          [
           740,
           "East"
          ],
          [
           304,
           "North"
          ],
          [
           579,
           "West"
          ],
          [
           465,
           "North"
          ],
          [
           510,
           "North"
          ],
          [
           417,
           "North"
          ],
          [
           960,
           "East"
          ],
          [
           164,
           "North"
          ],
          [
           313,
           "West"
          ],
          [
           228,
           "West"
          ],
          [
           850,
           "South"
          ],
          [
           982,
           "South"
          ],
          [
           691,
           "East"
          ],
          [
           251,
           "North"
          ],
          [
           166,
           "West"
          ],
          [
           650,
           "West"
          ],
          [
           107,
           "South"
          ],
          [
           578,
           "East"
          ],
          [
           507,
           "North"
          ],
          [
           975,
           "East"
          ],
          [
           295,
           "West"
          ],
          [
           184,
           "West"
          ],
          [
           347,
           "East"
          ],
          [
           827,
           "North"
          ],
          [
           657,
           "North"
          ],
          [
           155,
           "South"
          ],
          [
           989,
           "South"
          ],
          [
           258,
           "East"
          ],
          [
           478,
           "North"
          ],
          [
           61,
           "West"
          ],
          [
           457,
           "North"
          ],
          [
           771,
           "West"
          ],
          [
           711,
           "West"
          ],
          [
           695,
           "North"
          ],
          [
           325,
           "West"
          ],
          [
           544,
           "South"
          ],
          [
           894,
           "West"
          ],
          [
           241,
           "East"
          ],
          [
           256,
           "West"
          ],
          [
           72,
           "North"
          ],
          [
           353,
           "East"
          ],
          [
           999,
           "West"
          ],
          [
           207,
           "East"
          ],
          [
           274,
           "West"
          ],
          [
           279,
           "East"
          ],
          [
           667,
           "East"
          ],
          [
           151,
           "East"
          ],
          [
           873,
           "West"
          ],
          [
           411,
           "West"
          ],
          [
           106,
           "South"
          ],
          [
           438,
           "South"
          ],
          [
           488,
           "East"
          ],
          [
           272,
           "South"
          ],
          [
           491,
           "West"
          ],
          [
           701,
           "West"
          ],
          [
           59,
           "South"
          ],
          [
           67,
           "North"
          ],
          [
           493,
           "West"
          ],
          [
           14,
           "North"
          ],
          [
           652,
           "North"
          ],
          [
           93,
           "East"
          ],
          [
           543,
           "North"
          ],
          [
           843,
           "West"
          ],
          [
           581,
           "South"
          ],
          [
           310,
           "West"
          ],
          [
           176,
           "North"
          ],
          [
           426,
           "West"
          ],
          [
           918,
           "East"
          ],
          [
           560,
           "West"
          ],
          [
           328,
           "West"
          ],
          [
           592,
           "East"
          ],
          [
           83,
           "South"
          ],
          [
           116,
           "South"
          ],
          [
           308,
           "West"
          ],
          [
           498,
           "North"
          ],
          [
           696,
           "East"
          ],
          [
           729,
           "South"
          ],
          [
           597,
           "East"
          ],
          [
           836,
           "East"
          ],
          [
           10,
           "East"
          ],
          [
           541,
           "West"
          ],
          [
           902,
           "North"
          ],
          [
           939,
           "West"
          ],
          [
           44,
           "South"
          ],
          [
           587,
           "North"
          ],
          [
           926,
           "East"
          ],
          [
           486,
           "North"
          ],
          [
           139,
           "North"
          ],
          [
           945,
           "South"
          ],
          [
           531,
           "South"
          ],
          [
           611,
           "South"
          ],
          [
           221,
           "West"
          ],
          [
           679,
           "East"
          ],
          [
           199,
           "North"
          ],
          [
           252,
           "North"
          ],
          [
           306,
           "West"
          ],
          [
           389,
           "East"
          ],
          [
           351,
           "North"
          ],
          [
           991,
           "South"
          ],
          [
           171,
           "South"
          ],
          [
           200,
           "East"
          ],
          [
           446,
           "South"
          ],
          [
           97,
           "South"
          ],
          [
           136,
           "West"
          ],
          [
           211,
           "East"
          ],
          [
           747,
           "West"
          ],
          [
           841,
           "East"
          ],
          [
           298,
           "South"
          ],
          [
           790,
           "North"
          ],
          [
           750,
           "South"
          ],
          [
           101,
           "West"
          ],
          [
           862,
           "North"
          ],
          [
           30,
           "North"
          ],
          [
           290,
           "West"
          ],
          [
           718,
           "West"
          ],
          [
           865,
           "South"
          ],
          [
           979,
           "North"
          ],
          [
           858,
           "South"
          ],
          [
           317,
           "East"
          ],
          [
           882,
           "South"
          ],
          [
           468,
           "East"
          ],
          [
           799,
           "North"
          ],
          [
           719,
           "North"
          ],
          [
           45,
           "West"
          ],
          [
           121,
           "West"
          ],
          [
           319,
           "West"
          ],
          [
           577,
           "West"
          ],
          [
           593,
           "East"
          ],
          [
           169,
           "North"
          ],
          [
           321,
           "East"
          ],
          [
           668,
           "Unknown"
          ],
          [
           248,
           "North"
          ],
          [
           528,
           "West"
          ],
          [
           716,
           "South"
          ],
          [
           368,
           "West"
          ],
          [
           519,
           "East"
          ],
          [
           56,
           "East"
          ],
          [
           788,
           "South"
          ],
          [
           839,
           "East"
          ],
          [
           175,
           "East"
          ],
          [
           80,
           "West"
          ],
          [
           809,
           "South"
          ],
          [
           967,
           "East"
          ],
          [
           880,
           "East"
          ],
          [
           496,
           "South"
          ],
          [
           680,
           "West"
          ],
          [
           24,
           "South"
          ],
          [
           193,
           "West"
          ],
          [
           185,
           "West"
          ],
          [
           355,
           "East"
          ],
          [
           766,
           "West"
          ],
          [
           219,
           "Unknown"
          ],
          [
           255,
           "South"
          ]
         ],
         "hovertemplate": "gender=Male<br>total_orders=%{x}<br>total_spent=%{marker.size}<br>customerid=%{customdata[0]}<br>location=%{customdata[1]}<extra></extra>",
         "legendgroup": "Male",
         "marker": {
          "color": "#636efa",
          "size": {
           "bdata": "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",
           "dtype": "f8"
          },
          "sizemode": "area",
          "sizeref": 142.724975,
          "symbol": "circle"
         },
         "mode": "markers",
         "name": "Male",
         "orientation": "v",
         "showlegend": true,
         "type": "scatter",
         "x": {
          "bdata": "CQQHCAMMDAoMCgkKDAkIDAoFBwgKBwgKCAcICQYGBggIBgcFCAcJBgcGCAUICggGBwgGBwYGBwkFBgcIBwYIBgcHBQgFBwgFBgYFCAYGBgcGBQcECQcGBgUGBgQFBgUFBwQGBQcGBQMHBwcHBgYEBgUHBgsFBgYHBwUIBgcFBwQFBwYEBQYFBQYGBAcEBQMFBgYIBQMEAwYFBgQHBwMEBAMGAwUHBAQFBQUEBgUFBgMEBAMEBgUFBAYHAwQFBQMFBQUCBQYDBAMDAwQGBAQDAwMCBAQGBQQEBQQEBQMGBAUDBAYFAwUEAgMDBAYDAwUEAwMDBAQDAwUEAgQGAwQEAwMEAwQEAwMDAwICBAICAwIDAwMCBAICAwIEBAQCAwMEAQIBAwIBAgECAwMEAQMCAgECAQQDAgICAgICAgEBAQIBAQEBAQ==",
          "dtype": "i1"
         },
         "xaxis": "x",
         "y": {
          "bdata": "4XoUrj/g60BmZmZmznHiQKRwPQqHy9tAKlyPwhXr0kB7FK5H4WTCQD4K16PwJKZArkfhepRaoUApXI/C9d2gQEjhehSuGZxAAAAAAACGm0DrUbgehQuaQBSuR+F6UphAPArXo3AtmED//////yyYQOxRuB6F+5dApHA9CtfVl0A9CtejcGmXQIXrUbge8ZZAUrgehevilkDiehSuRx6WQEfhehSuBJZAcT0K16OnlUAghetRuKCVQLgehetRn5VANDMzMzODlUApXI/C9WmVQAvXo3A93ZRA9Shcj8LBlEBmZmZmZlGUQGZmZmZmTZRAXI/C9SghlEApXI/C9QyUQHA9CtejAZRAo3A9Ctfdk0BwPQrXo6CTQLgehetRmJNAMzMzMzN1k0AUrkfhel6TQLgehetREZNA16NwPQoMk0DXo3A9CvuSQB+F61G4kJJAfBSuR+GCkkCjcD0K10ySQIXrUbgePZJAHoXrUbgKkkBwPQrXo/ORQFK4HoXr65FAuR6F61HMkUDsUbgehbaRQFyPwvUocJFAH4XrUbhGkUCQwvUoXD6RQB6F61G4JJFAuB6F61EikUAVrkfheg+RQD4K16NwA5FAMzMzMzP+kEB7FK5H4euQQClcj8L11JBAw/UoXI+dkEA+CtejcFyQQK5H4XoUVJBApHA9Ctc+kED2KFyPwiKQQBSuR+F6po9ArUfhehRGj0BI4XoUrvuOQKRwPQrX8Y5AUrgehevTjkCkcD0K10eOQOJ6FK5HOY5ANDMzMzM3jkC5HoXrUTSOQHE9Ctejvo1AzszMzMymjUCF61G4HnONQK5H4XoUZI1AcT0K16NSjUAUrkfheiaNQHA9Ctej+oxAUrgehev5jECjcD0K1++MQJqZmZmZ6YxAexSuR+GYjEBoZmZmZnqMQPYoXI/CXYxAehSuR+EkjEB7FK5H4RSMQMP1KFyP/ItA7FG4HoXni0B7FK5H4WKLQFK4HoXrOYtAexSuR+Esi0AfhetRuBaLQK5H4XoU+IpAwvUoXI/QikBcj8L1KLyKQAAAAAAAjopA61G4HoVtikBwPQrXo2yKQBSuR+F6RopAKVyPwvU0ikCkcD0K1xeKQI/C9Shc2YlA7FG4HoXTiUD2KFyPws2JQBSuR+F6vIlAzMzMzMygiUDXo3A9CoOJQMP1KFyPdolA2KNwPQpviUBSuB6F62mJQNejcD0KZYlAmpmZmZlhiUAVrkfhejqJQJqZmZmZJYlA4HoUrkcJiUAehetRuMSIQGZmZmZmfohAZmZmZmZQiEC4HoXrURKIQIbrUbgeB4hAPgrXo3Drh0CkcD0K17uHQJqZmZmZZ4dAehSuR+FOh0BwPQrXoySHQLkehetRJIdAcD0K16Mih0AfhetRuBiHQArXo3A9DIdAw/UoXI8Ih0DXo3A9CsuGQMP1KFyPjoZAexSuR+F6hkAfhetRuGiGQLgehetRUoZArkfhehRQhkD2KFyPwtGFQGZmZmZmxIVAuB6F61GyhUBmZmZmZkCFQMT1KFyPMIVAzczMzMwghUBSuB6F6xeFQArXo3A9+oRAHoXrUbjIhEDD9Shcj7KEQLgehetRioRAPgrXo3BPhEBcj8L1KEaEQGZmZmZmJIRApHA9CtcBhED2KFyPwv+DQClcj8L1+INAwvUoXI+og0CQwvUoXHmDQJqZmZmZb4NAPgrXo3A3g0AAAAAAAB6DQB+F61G4EoNAXI/C9SgKg0A+CtejcAeDQI/C9Shc2YJAMzMzMzPRgkD2KFyPwquCQOxRuB6Fn4JAUrgehettgkCkcD0K1zWCQI/C9ShcGYJASOF6FK4PgkAqXI/C9QiCQM3MzMzM8oFA4noUrkffgUAAAAAAAN6BQOF6FK5H04FAZmZmZma+gUAUrkfheqyBQArXo3A9gIFAAAAAAABqgUBH4XoUrl2BQITrUbgeUYFAHoXrUbhKgUDMzMzMzD6BQClcj8L1KoFAmZmZmZklgUAAAAAAABiBQHsUrkfhEoFAKlyPwvXigEBcj8L1KNCAQOF6FK5Hv4BApHA9CtetgECuR+F6FJSAQKRwPQrXk4BA4XoUrkeHgEDC9Shcj4SAQNejcD0KfYBAcT0K16NygECQwvUoXFuAQBWuR+F6TIBAKVyPwvU0gEDhehSuRymAQArXo3A9DIBANDMzMzMJgEDNzMzMzJB/QFO4HoXriX9A7FG4HoUff0AAAAAAANB+QHsUrkfhwn5AUrgehetlfkAK16NwPT5+QArXo3A9yn1AhetRuB7BfUAyMzMzM799QD4K16NwmX1AKVyPwvV4fUBI4XoUrjt9QDQzMzMz43xA9ihcj8LhfEDD9Shcj6Z8QBSuR+F6nHxAPgrXo3BNfECamZmZmSl8QI7C9ShcA3xAcT0K16Pwe0AzMzMzM+t7QArXo3A9vntA4noUrke5e0BSuB6F61V7QD0K16NwQXtAw/UoXI8ae0AUrkfhevB6QFuPwvUokHpAHoXrUbhWekAfhetRuFJ6QOJ6FK5HPXpAwvUoXI86ekDiehSuR615QIbrUbgelXlAXI/C9ShweUAL16NwPVp5QK5H4XoUOnlACtejcD3aeEApXI/C9aR4QArXo3A9knhA4XoUrkdpeEBcj8L1KAR4QOxRuB6F73dA9Shcj8Lhd0DC9Shcj8p3QGdmZmZmnndAC9ejcD2Od0CuR+F6FIJ3QDMzMzMzc3dAPgrXo3CxdkDD9Shcj4p2QIXrUbgeSXZAFK5H4XqEdUCQwvUoXEN1QDMzMzMzI3VACtejcD0GdUCuR+F6FM50QNejcD0Kx3RAZmZmZma2dEDC9Shcj650QFyPwvUoCHRA4noUrkfdc0BSuB6F66FzQIXrUbgeoXNA7FG4HoU7c0BmZmZmZv5yQKRwPQrX83JAZmZmZmbyckBSuB6F68VyQAAAAAAAxHJArkfhehTCckAfhetRuHZyQArXo3A9QnJA9ihcj8IxckBH4XoUri9yQEjhehSuI3JAcD0K16MEckBmZmZmZqZxQK5H4XoUfnFArkfhehRycUApXI/C9WxxQArXo3A9unBAw/UoXI+ScECQwvUoXCdwQEjhehSuG3BA9ihcj8Ltb0BI4XoUrt9vQGdmZmZm1m9AMzMzMzOTb0A0MzMzMytuQHsUrkfhqm1APArXo3B9bUDiehSuR3FtQNajcD0KN21ApHA9CtfLbEA+CtejcD1rQArXo3A9smpAmpmZmZnBaEDsUbgehUtlQIXrUbgeRWVAMzMzMzOzZEDD9Shcj3JjQM3MzMzM5GJApHA9CtcLYkCuR+F6FL5gQOJ6FK5HuWBA4XoUrkdZYEAAAAAAAEBeQJmZmZmZ2VtAXY/C9Si8WUAAAAAAAKBXQI/C9ShcH1dAMzMzMzOzVkAUrkfherRVQPYoXI/CdVFAUrgehevRTkBcj8L1KNw8QD0K16NwPTZAFK5H4XqULEA=",
          "dtype": "f8"
         },
         "yaxis": "y"
        },
        {
         "customdata": [
          [
           984,
           "East"
          ],
          [
           172,
           "South"
          ],
          [
           371,
           "West"
          ],
          [
           930,
           "East"
          ],
          [
           482,
           "West"
          ],
          [
           893,
           "West"
          ],
          [
           153,
           "South"
          ],
          [
           619,
           "East"
          ],
          [
           950,
           "South"
          ],
          [
           921,
           "West"
          ],
          [
           554,
           "South"
          ],
          [
           476,
           "Unknown"
          ],
          [
           130,
           "West"
          ],
          [
           124,
           "South"
          ],
          [
           704,
           "South"
          ],
          [
           806,
           "West"
          ],
          [
           303,
           "North"
          ],
          [
           233,
           "North"
          ],
          [
           349,
           "West"
          ],
          [
           776,
           "North"
          ],
          [
           318,
           "West"
          ],
          [
           143,
           "West"
          ],
          [
           118,
           "East"
          ],
          [
           602,
           "South"
          ],
          [
           254,
           "West"
          ],
          [
           727,
           "North"
          ],
          [
           927,
           "East"
          ],
          [
           956,
           "North"
          ],
          [
           342,
           "South"
          ],
          [
           420,
           "North"
          ],
          [
           877,
           "West"
          ],
          [
           690,
           "East"
          ],
          [
           442,
           "North"
          ],
          [
           117,
           "East"
          ],
          [
           655,
           "South"
          ],
          [
           8,
           "East"
          ],
          [
           302,
           "West"
          ],
          [
           955,
           "South"
          ],
          [
           563,
           "South"
          ],
          [
           505,
           "West"
          ],
          [
           385,
           "South"
          ],
          [
           196,
           "West"
          ],
          [
           453,
           "South"
          ],
          [
           392,
           "West"
          ],
          [
           494,
           "East"
          ],
          [
           63,
           "East"
          ],
          [
           962,
           "North"
          ],
          [
           301,
           "West"
          ],
          [
           483,
           "East"
          ],
          [
           520,
           "West"
          ],
          [
           277,
           "East"
          ],
          [
           666,
           "East"
          ],
          [
           397,
           "East"
          ],
          [
           959,
           "South"
          ],
          [
           900,
           "East"
          ],
          [
           866,
           "South"
          ],
          [
           508,
           "West"
          ],
          [
           41,
           "North"
          ],
          [
           216,
           "South"
          ],
          [
           662,
           "North"
          ],
          [
           731,
           "East"
          ],
          [
           441,
           "North"
          ],
          [
           759,
           "West"
          ],
          [
           610,
           "North"
          ],
          [
           634,
           "West"
          ],
          [
           916,
           "West"
          ],
          [
           165,
           "East"
          ],
          [
           455,
           "South"
          ],
          [
           133,
           "North"
          ],
          [
           907,
           "East"
          ],
          [
           738,
           "North"
          ],
          [
           58,
           "West"
          ],
          [
           823,
           "West"
          ],
          [
           287,
           "East"
          ],
          [
           147,
           "East"
          ],
          [
           584,
           "West"
          ],
          [
           445,
           "West"
          ],
          [
           268,
           "South"
          ],
          [
           242,
           "North"
          ],
          [
           17,
           "South"
          ],
          [
           416,
           "North"
          ],
          [
           360,
           "West"
          ],
          [
           456,
           "West"
          ],
          [
           250,
           "West"
          ],
          [
           314,
           "South"
          ],
          [
           336,
           "West"
          ],
          [
           561,
           "West"
          ],
          [
           700,
           "North"
          ],
          [
           985,
           "South"
          ],
          [
           940,
           "West"
          ],
          [
           62,
           "North"
          ],
          [
           725,
           "West"
          ],
          [
           182,
           "East"
          ],
          [
           983,
           "North"
          ],
          [
           888,
           "South"
          ],
          [
           450,
           "South"
          ],
          [
           935,
           "East"
          ],
          [
           40,
           "South"
          ],
          [
           769,
           "West"
          ],
          [
           96,
           "North"
          ],
          [
           374,
           "East"
          ],
          [
           532,
           "South"
          ],
          [
           86,
           "North"
          ],
          [
           848,
           "South"
          ],
          [
           65,
           "North"
          ],
          [
           395,
           "West"
          ],
          [
           115,
           "Unknown"
          ],
          [
           391,
           "South"
          ],
          [
           594,
           "North"
          ],
          [
           190,
           "North"
          ],
          [
           229,
           "North"
          ],
          [
           437,
           "West"
          ],
          [
           149,
           "North"
          ],
          [
           341,
           "East"
          ],
          [
           499,
           "West"
          ],
          [
           512,
           "East"
          ],
          [
           138,
           "West"
          ],
          [
           354,
           "South"
          ],
          [
           60,
           "East"
          ],
          [
           629,
           "South"
          ],
          [
           473,
           "South"
          ],
          [
           467,
           "West"
          ],
          [
           238,
           "East"
          ],
          [
           768,
           "West"
          ],
          [
           829,
           "West"
          ],
          [
           949,
           "North"
          ],
          [
           675,
           "East"
          ],
          [
           934,
           "North"
          ],
          [
           284,
           "West"
          ],
          [
           957,
           "South"
          ],
          [
           533,
           "West"
          ],
          [
           744,
           "East"
          ],
          [
           653,
           "North"
          ],
          [
           624,
           "East"
          ],
          [
           542,
           "South"
          ],
          [
           714,
           "East"
          ],
          [
           549,
           "North"
          ],
          [
           785,
           "West"
          ],
          [
           755,
           "North"
          ],
          [
           878,
           "North"
          ],
          [
           400,
           "South"
          ],
          [
           607,
           "East"
          ],
          [
           461,
           "North"
          ],
          [
           887,
           "North"
          ],
          [
           192,
           "South"
          ],
          [
           379,
           "Unknown"
          ],
          [
           608,
           "North"
          ],
          [
           767,
           "East"
          ],
          [
           571,
           "East"
          ],
          [
           492,
           "West"
          ],
          [
           195,
           "North"
          ],
          [
           642,
           "West"
          ],
          [
           572,
           "North"
          ],
          [
           202,
           "East"
          ],
          [
           271,
           "West"
          ],
          [
           489,
           "East"
          ],
          [
           129,
           "North"
          ],
          [
           548,
           "East"
          ],
          [
           521,
           "South"
          ],
          [
           892,
           "North"
          ],
          [
           447,
           "North"
          ],
          [
           357,
           "South"
          ],
          [
           996,
           "North"
          ],
          [
           454,
           "North"
          ],
          [
           53,
           "North"
          ],
          [
           832,
           "North"
          ],
          [
           816,
           "East"
          ],
          [
           807,
           "North"
          ],
          [
           431,
           "West"
          ],
          [
           540,
           "East"
          ],
          [
           88,
           "South"
          ],
          [
           910,
           "South"
          ],
          [
           309,
           "East"
          ],
          [
           103,
           "South"
          ],
          [
           737,
           "South"
          ],
          [
           992,
           "West"
          ],
          [
           259,
           "West"
          ],
          [
           373,
           "East"
          ],
          [
           402,
           "North"
          ],
          [
           980,
           "South"
          ],
          [
           994,
           "West"
          ],
          [
           451,
           "East"
          ],
          [
           692,
           "East"
          ],
          [
           792,
           "South"
          ],
          [
           699,
           "North"
          ],
          [
           448,
           "Unknown"
          ],
          [
           903,
           "South"
          ],
          [
           686,
           "North"
          ],
          [
           913,
           "South"
          ],
          [
           405,
           "Unknown"
          ],
          [
           244,
           "North"
          ],
          [
           885,
           "North"
          ],
          [
           951,
           "North"
          ],
          [
           969,
           "West"
          ],
          [
           270,
           "East"
          ],
          [
           209,
           "South"
          ],
          [
           230,
           "West"
          ],
          [
           707,
           "North"
          ],
          [
           591,
           "South"
          ],
          [
           186,
           "South"
          ],
          [
           36,
           "North"
          ],
          [
           278,
           "South"
          ],
          [
           25,
           "West"
          ],
          [
           311,
           "East"
          ],
          [
           728,
           "East"
          ],
          [
           522,
           "North"
          ],
          [
           552,
           "West"
          ],
          [
           968,
           "North"
          ],
          [
           556,
           "East"
          ],
          [
           773,
           "West"
          ],
          [
           908,
           "East"
          ],
          [
           449,
           "East"
          ],
          [
           112,
           "North"
          ],
          [
           331,
           "East"
          ],
          [
           294,
           "West"
          ],
          [
           267,
           "East"
          ],
          [
           234,
           "North"
          ],
          [
           846,
           "South"
          ],
          [
           741,
           "East"
          ],
          [
           553,
           "North"
          ],
          [
           263,
           "West"
          ],
          [
           412,
           "East"
          ],
          [
           801,
           "East"
          ],
          [
           713,
           "North"
          ],
          [
           205,
           "West"
          ],
          [
           257,
           "East"
          ],
          [
           394,
           "South"
          ],
          [
           762,
           "West"
          ],
          [
           847,
           "South"
          ],
          [
           938,
           "North"
          ],
          [
           635,
           "North"
          ],
          [
           852,
           "West"
          ],
          [
           754,
           "West"
          ],
          [
           280,
           "West"
          ],
          [
           372,
           "South"
          ],
          [
           48,
           "North"
          ],
          [
           366,
           "East"
          ],
          [
           339,
           "North"
          ],
          [
           895,
           "South"
          ],
          [
           615,
           "South"
          ],
          [
           367,
           "South"
          ],
          [
           76,
           "South"
          ],
          [
           410,
           "South"
          ],
          [
           879,
           "West"
          ],
          [
           535,
           "North"
          ],
          [
           222,
           "West"
          ],
          [
           626,
           "West"
          ],
          [
           757,
           "North"
          ],
          [
           94,
           "West"
          ],
          [
           674,
           "West"
          ],
          [
           518,
           "South"
          ],
          [
           322,
           "Unknown"
          ],
          [
           931,
           "South"
          ],
          [
           292,
           "East"
          ],
          [
           282,
           "South"
          ],
          [
           721,
           "South"
          ],
          [
           293,
           "North"
          ],
          [
           961,
           "West"
          ],
          [
           722,
           "South"
          ],
          [
           791,
           "West"
          ],
          [
           105,
           "West"
          ],
          [
           708,
           "South"
          ],
          [
           31,
           "West"
          ],
          [
           874,
           "East"
          ],
          [
           622,
           "West"
          ],
          [
           57,
           "North"
          ],
          [
           177,
           "West"
          ],
          [
           82,
           "South"
          ],
          [
           343,
           "South"
          ],
          [
           297,
           "North"
          ],
          [
           415,
           "East"
          ],
          [
           565,
           "West"
          ],
          [
           462,
           "East"
          ],
          [
           123,
           "West"
          ],
          [
           746,
           "West"
          ],
          [
           110,
           "South"
          ],
          [
           706,
           "North"
          ],
          [
           383,
           "North"
          ],
          [
           421,
           "South"
          ],
          [
           760,
           "North"
          ],
          [
           855,
           "North"
          ],
          [
           733,
           "East"
          ],
          [
           269,
           "South"
          ],
          [
           307,
           "East"
          ],
          [
           677,
           "West"
          ],
          [
           782,
           "East"
          ],
          [
           333,
           "South"
          ],
          [
           232,
           "South"
          ],
          [
           179,
           "East"
          ],
          [
           636,
           "West"
          ],
          [
           868,
           "North"
          ],
          [
           125,
           "South"
          ],
          [
           590,
           "East"
          ],
          [
           603,
           "West"
          ],
          [
           68,
           "North"
          ],
          [
           91,
           "West"
          ],
          [
           64,
           "North"
          ],
          [
           568,
           "South"
          ],
          [
           439,
           "South"
          ],
          [
           870,
           "East"
          ],
          [
           50,
           "South"
          ],
          [
           409,
           "East"
          ],
          [
           189,
           "North"
          ],
          [
           240,
           "West"
          ],
          [
           77,
           "East"
          ],
          [
           18,
           "North"
          ],
          [
           32,
           "West"
          ],
          [
           595,
           "North"
          ],
          [
           810,
           "South"
          ],
          [
           844,
           "North"
          ],
          [
           150,
           "North"
          ],
          [
           444,
           "North"
          ]
         ],
         "hovertemplate": "gender=Female<br>total_orders=%{x}<br>total_spent=%{marker.size}<br>customerid=%{customdata[0]}<br>location=%{customdata[1]}<extra></extra>",
         "legendgroup": "Female",
         "marker": {
          "color": "#EF553B",
          "size": {
           "bdata": "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",
           "dtype": "f8"
          },
          "sizemode": "area",
          "sizeref": 142.724975,
          "symbol": "circle"
         },
         "mode": "markers",
         "name": "Female",
         "orientation": "v",
         "showlegend": true,
         "type": "scatter",
         "x": {
          "bdata": "BwcFBgUDBQQCCgoLCQgLCAgKCQsKBwkJCQsFCggJCAcGCQcHCggIBgYIBgYIBwkHBwcLCggGBwgGCQgJBQYICAYGBwkGBAUGBgYHCAcLCAgFBgUFBwYHCAYGBAcGBwgIBgYGBAYGBwQGBwQFCAkIBQcFBQQDBQQHBQcDBAUEBQcFBwUGBQUGBgUEBQUFBQQFBgQFBgcFBQUGBgQFBgYGBwQDBAYGBQYFBAQEBQQFBAMGBQUGBgMFBQQDBgUEBwQEBAUGAwMDAgMEBAYFBAMDBgYDBAYDAwQDAwMFBAQCBQMCBAMGAwMDBwMFAgMEAgMDBAUDAwIEBAQBAgMCAwMDAgUCAgIDBQIDBAMEBAQCAwMEAgMBAQMCAwMDAgMDAwEDAwICAwMBAwICAgIBAgEBAQICAgEBAgEC",
          "dtype": "i1"
         },
         "xaxis": "x",
         "y": {
          "bdata": "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",
          "dtype": "f8"
         },
         "yaxis": "y"
        },
        {
         "customdata": [
          [
           819,
           "South"
          ],
          [
           534,
           "East"
          ],
          [
           820,
           "North"
          ],
          [
           562,
           "East"
          ],
          [
           944,
           "South"
          ],
          [
           664,
           "South"
          ],
          [
           670,
           "East"
          ],
          [
           958,
           "East"
          ],
          [
           364,
           "East"
          ],
          [
           407,
           "West"
          ],
          [
           75,
           "East"
          ],
          [
           401,
           "South"
          ],
          [
           881,
           "West"
          ],
          [
           526,
           "North"
          ],
          [
           628,
           "West"
          ],
          [
           648,
           "South"
          ],
          [
           937,
           "North"
          ],
          [
           386,
           "North"
          ],
          [
           154,
           "North"
          ],
          [
           787,
           "South"
          ],
          [
           822,
           "South"
          ],
          [
           69,
           "West"
          ],
          [
           613,
           "West"
          ],
          [
           78,
           "South"
          ],
          [
           463,
           "East"
          ],
          [
           12,
           "East"
          ],
          [
           227,
           "South"
          ],
          [
           805,
           "South"
          ],
          [
           772,
           "East"
          ],
          [
           800,
           "East"
          ],
          [
           120,
           "North"
          ],
          [
           7,
           "East"
          ],
          [
           912,
           "South"
          ],
          [
           838,
           "North"
          ],
          [
           201,
           "North"
          ],
          [
           54,
           "West"
          ],
          [
           517,
           "Unknown"
          ],
          [
           312,
           "West"
          ],
          [
           685,
           "North"
          ],
          [
           987,
           "South"
          ],
          [
           687,
           "West"
          ],
          [
           906,
           "North"
          ],
          [
           917,
           "West"
          ],
          [
           763,
           "South"
          ],
          [
           19,
           "South"
          ],
          [
           676,
           "North"
          ],
          [
           646,
           "West"
          ],
          [
           1,
           "East"
          ],
          [
           20,
           "South"
          ],
          [
           288,
           "South"
          ],
          [
           915,
           "West"
          ],
          [
           485,
           "East"
          ],
          [
           580,
           "East"
          ],
          [
           665,
           "South"
          ],
          [
           188,
           "North"
          ],
          [
           623,
           "North"
          ],
          [
           350,
           "West"
          ],
          [
           497,
           "West"
          ],
          [
           693,
           "West"
          ],
          [
           891,
           "East"
          ],
          [
           157,
           "South"
          ],
          [
           897,
           "West"
          ],
          [
           109,
           "East"
          ],
          [
           223,
           "West"
          ],
          [
           144,
           "South"
          ],
          [
           365,
           "East"
          ],
          [
           490,
           "East"
          ],
          [
           573,
           "North"
          ],
          [
           132,
           "South"
          ],
          [
           971,
           "West"
          ],
          [
           387,
           "West"
          ],
          [
           658,
           "East"
          ],
          [
           156,
           "South"
          ],
          [
           460,
           "South"
          ],
          [
           226,
           "East"
          ],
          [
           220,
           "West"
          ],
          [
           946,
           "North"
          ],
          [
           47,
           "East"
          ],
          [
           285,
           "North"
          ],
          [
           477,
           "West"
          ],
          [
           588,
           "East"
          ],
          [
           356,
           "South"
          ],
          [
           798,
           "West"
          ],
          [
           840,
           "West"
          ],
          [
           550,
           "East"
          ],
          [
           974,
           "North"
          ],
          [
           95,
           "West"
          ],
          [
           21,
           "West"
          ],
          [
           633,
           "West"
          ],
          [
           661,
           "West"
          ],
          [
           797,
           "South"
          ],
          [
           537,
           "North"
          ],
          [
           796,
           "North"
          ],
          [
           204,
           "West"
          ],
          [
           90,
           "South"
          ],
          [
           780,
           "North"
          ],
          [
           425,
           "North"
          ],
          [
           174,
           "West"
          ],
          [
           689,
           "East"
          ],
          [
           825,
           "North"
          ],
          [
           854,
           "South"
          ],
          [
           516,
           "North"
          ],
          [
           323,
           "South"
          ],
          [
           612,
           "West"
          ],
          [
           899,
           "North"
          ],
          [
           187,
           "East"
          ],
          [
           173,
           "North"
          ],
          [
           524,
           "East"
          ],
          [
           525,
           "East"
          ],
          [
           198,
           "West"
          ],
          [
           709,
           "East"
          ],
          [
           749,
           "South"
          ],
          [
           345,
           "North"
          ],
          [
           764,
           "East"
          ],
          [
           803,
           "West"
          ],
          [
           320,
           "North"
          ],
          [
           503,
           "West"
          ],
          [
           849,
           "South"
          ],
          [
           26,
           "North"
          ],
          [
           264,
           "West"
          ],
          [
           576,
           "North"
          ],
          [
           159,
           "East"
          ],
          [
           191,
           "West"
          ],
          [
           551,
           "West"
          ],
          [
           152,
           "South"
          ],
          [
           346,
           "South"
          ],
          [
           253,
           "North"
          ],
          [
           260,
           "North"
          ],
          [
           16,
           "East"
          ],
          [
           752,
           "West"
          ],
          [
           795,
           "West"
          ],
          [
           641,
           "North"
          ],
          [
           427,
           "North"
          ],
          [
           993,
           "East"
          ],
          [
           922,
           "North"
          ],
          [
           998,
           "Unknown"
          ],
          [
           429,
           "East"
          ],
          [
           856,
           "North"
          ],
          [
           831,
           "North"
          ],
          [
           424,
           "South"
          ],
          [
           362,
           "South"
          ],
          [
           632,
           "West"
          ],
          [
           923,
           "North"
          ],
          [
           55,
           "North"
          ],
          [
           986,
           "East"
          ],
          [
           748,
           "East"
          ],
          [
           162,
           "South"
          ],
          [
           194,
           "East"
          ],
          [
           735,
           "North"
          ],
          [
           49,
           "West"
          ],
          [
           122,
           "South"
          ],
          [
           81,
           "East"
          ],
          [
           604,
           "North"
          ],
          [
           523,
           "East"
          ],
          [
           334,
           "South"
          ],
          [
           688,
           "North"
          ],
          [
           43,
           "North"
          ],
          [
           736,
           "North"
          ],
          [
           703,
           "East"
          ],
          [
           281,
           "South"
          ],
          [
           609,
           "West"
          ],
          [
           793,
           "West"
          ],
          [
           970,
           "East"
          ],
          [
           574,
           "East"
          ],
          [
           774,
           "North"
          ],
          [
           111,
           "West"
          ],
          [
           618,
           "East"
          ],
          [
           813,
           "South"
          ],
          [
           645,
           "South"
          ],
          [
           276,
           "South"
          ],
          [
           23,
           "West"
          ],
          [
           826,
           "North"
          ],
          [
           502,
           "East"
          ],
          [
           469,
           "South"
          ],
          [
           898,
           "East"
          ],
          [
           384,
           "West"
          ],
          [
           73,
           "North"
          ],
          [
           871,
           "West"
          ],
          [
           51,
           "East"
          ],
          [
           506,
           "South"
          ],
          [
           213,
           "West"
          ],
          [
           128,
           "East"
          ],
          [
           262,
           "South"
          ],
          [
           663,
           "West"
          ],
          [
           896,
           "North"
          ],
          [
           640,
           "South"
          ],
          [
           428,
           "West"
          ],
          [
           778,
           "West"
          ],
          [
           678,
           "West"
          ],
          [
           210,
           "East"
          ],
          [
           570,
           "South"
          ],
          [
           857,
           "South"
          ],
          [
           546,
           "West"
          ],
          [
           681,
           "North"
          ],
          [
           569,
           "North"
          ],
          [
           206,
           "West"
          ],
          [
           761,
           "East"
          ],
          [
           470,
           "South"
          ],
          [
           582,
           "East"
          ],
          [
           726,
           "South"
          ],
          [
           669,
           "East"
          ],
          [
           203,
           "East"
          ],
          [
           100,
           "East"
          ],
          [
           92,
           "West"
          ],
          [
           933,
           "West"
          ],
          [
           953,
           "South"
          ],
          [
           140,
           "South"
          ],
          [
           715,
           "West"
          ],
          [
           481,
           "West"
          ],
          [
           589,
           "West"
          ],
          [
           87,
           "West"
          ],
          [
           683,
           "North"
          ],
          [
           941,
           "South"
          ],
          [
           316,
           "North"
          ],
          [
           869,
           "North"
          ],
          [
           114,
           "North"
          ],
          [
           11,
           "North"
          ],
          [
           963,
           "East"
          ],
          [
           33,
           "North"
          ],
          [
           27,
           "East"
          ],
          [
           770,
           "East"
          ],
          [
           396,
           "South"
          ],
          [
           833,
           "West"
          ],
          [
           621,
           "West"
          ],
          [
           904,
           "West"
          ],
          [
           183,
           "East"
          ],
          [
           224,
           "North"
          ],
          [
           126,
           "West"
          ],
          [
           369,
           "West"
          ],
          [
           811,
           "North"
          ],
          [
           418,
           "East"
          ],
          [
           644,
           "West"
          ],
          [
           245,
           "West"
          ],
          [
           789,
           "North"
          ],
          [
           835,
           "South"
          ],
          [
           585,
           "North"
          ],
          [
           3,
           "North"
          ],
          [
           348,
           "South"
          ],
          [
           329,
           "West"
          ],
          [
           564,
           "North"
          ],
          [
           925,
           "South"
          ],
          [
           158,
           "East"
          ],
          [
           995,
           "South"
          ],
          [
           243,
           "South"
          ],
          [
           617,
           "East"
          ],
          [
           236,
           "West"
          ],
          [
           208,
           "South"
          ],
          [
           167,
           "South"
          ],
          [
           239,
           "Unknown"
          ],
          [
           180,
           "West"
          ],
          [
           509,
           "South"
          ],
          [
           358,
           "North"
          ],
          [
           924,
           "North"
          ],
          [
           266,
           "East"
          ],
          [
           948,
           "North"
          ],
          [
           265,
           "North"
          ],
          [
           495,
           "North"
          ],
          [
           370,
           "East"
          ],
          [
           536,
           "South"
          ],
          [
           42,
           "North"
          ],
          [
           37,
           "West"
          ],
          [
           352,
           "East"
          ],
          [
           330,
           "South"
          ],
          [
           134,
           "South"
          ],
          [
           466,
           "West"
          ],
          [
           851,
           "West"
          ],
          [
           777,
           "West"
          ],
          [
           98,
           "North"
          ],
          [
           583,
           "East"
          ],
          [
           596,
           "South"
          ],
          [
           275,
           "North"
          ],
          [
           135,
           "West"
          ],
          [
           684,
           "South"
          ],
          [
           586,
           "East"
          ],
          [
           249,
           "East"
          ],
          [
           504,
           "South"
          ],
          [
           472,
           "South"
          ],
          [
           745,
           "North"
          ],
          [
           875,
           "East"
          ],
          [
           784,
           "West"
          ],
          [
           786,
           "South"
          ],
          [
           639,
           "North"
          ],
          [
           398,
           "South"
          ],
          [
           214,
           "West"
          ],
          [
           291,
           "South"
          ],
          [
           599,
           "East"
          ],
          [
           235,
           "East"
          ],
          [
           246,
           "South"
          ],
          [
           237,
           "North"
          ],
          [
           972,
           "North"
          ],
          [
           901,
           "West"
          ],
          [
           475,
           "North"
          ],
          [
           702,
           "South"
          ],
          [
           743,
           "West"
          ],
          [
           860,
           "South"
          ],
          [
           723,
           "East"
          ],
          [
           884,
           "West"
          ],
          [
           812,
           "West"
          ],
          [
           340,
           "North"
          ],
          [
           557,
           "North"
          ],
          [
           753,
           "North"
          ],
          [
           434,
           "East"
          ],
          [
           889,
           "North"
          ],
          [
           649,
           "South"
          ],
          [
           567,
           "North"
          ],
          [
           627,
           "West"
          ],
          [
           538,
           "South"
          ],
          [
           614,
           "West"
          ],
          [
           181,
           "East"
          ],
          [
           480,
           "South"
          ],
          [
           818,
           "East"
          ],
          [
           484,
           "West"
          ],
          [
           423,
           "West"
          ],
          [
           775,
           "South"
          ],
          [
           142,
           "West"
          ],
          [
           863,
           "East"
          ],
          [
           529,
           "East"
          ],
          [
           479,
           "South"
          ],
          [
           530,
           "North"
          ],
          [
           452,
           "South"
          ],
          [
           717,
           "North"
          ],
          [
           430,
           "South"
          ],
          [
           514,
           "East"
          ],
          [
           651,
           "North"
          ],
          [
           404,
           "North"
          ],
          [
           697,
           "West"
          ],
          [
           965,
           "North"
          ],
          [
           403,
           "North"
          ],
          [
           300,
           "East"
          ],
          [
           212,
           "West"
          ],
          [
           215,
           "South"
          ],
          [
           914,
           "West"
          ],
          [
           34,
           "South"
          ],
          [
           4,
           "Unknown"
          ],
          [
           458,
           "North"
          ],
          [
           890,
           "South"
          ],
          [
           647,
           "West"
          ],
          [
           712,
           "East"
          ],
          [
           545,
           "North"
          ],
          [
           606,
           "South"
          ],
          [
           954,
           "East"
          ],
          [
           724,
           "West"
          ],
          [
           834,
           "West"
          ],
          [
           742,
           "North"
          ],
          [
           413,
           "South"
          ],
          [
           74,
           "North"
          ],
          [
           6,
           "South"
          ],
          [
           1000,
           "West"
          ],
          [
           487,
           "South"
          ],
          [
           315,
           "North"
          ],
          [
           555,
           "East"
          ],
          [
           464,
           "South"
          ]
         ],
         "hovertemplate": "gender=Other<br>total_orders=%{x}<br>total_spent=%{marker.size}<br>customerid=%{customdata[0]}<br>location=%{customdata[1]}<extra></extra>",
         "legendgroup": "Other",
         "marker": {
          "color": "#00cc96",
          "size": {
           "bdata": "7FG4HgWP4kDD9ShcL0jiQML1KFzvVNNAhetRuG7d0kCvR+F6JLvSQK5H4XoUrqNAzczMzEwAo0BSuB6Fa3GgQJuZmZmZdZ1A1qNwPQppnUBRuB6F6xqdQKRwPQrX2ptAU7gehevEmkDWo3A9CpGaQEfhehSulphA//////+TmEC4HoXrUWGYQLgehetRPphAwvUoXI/Hl0CvR+F6FLmXQEjhehSuOpdASOF6FK7IlkCvR+F6FK2WQI/C9Shcb5ZA1qNwPQpSlkAK16NwPUmWQLgehetRN5ZAzczMzMwrlkDC9ShcjymWQHE9Ctej6ZVAmpmZmZnVlUA9CtejcJ+VQLkehetRfpVAhetRuB7ilEBcj8L1KM2UQML1KFyPsJRA4XoUrkeflECuR+F6FI6UQEjhehSu4JNAMzMzMzO3k0AUrkfheq+TQOxRuB6FhpNAhetRuB5nk0BSuB6F6+iSQD4K16Nw5JJAehSuR+GzkkDD9Shcj5aSQFyPwvUokJJAzczMzMxbkkC4HoXrUSSSQLcehetR9pFAo3A9CteZkUA9CtejcHmRQLkehetRb5FAzMzMzMxRkUBSuB6F602RQLgehetRTJFArkfhehQvkUCPwvUoXPSQQBWuR+F60pBAAAAAAADLkEC4HoXrUbCQQDMzMzMzoZBAPQrXo3CMkEBmZmZmZnuQQJqZmZmZdZBAcD0K16NfkEDD9Shcj0uQQBSuR+F6SJBAzczMzMwDkEDhehSuR/mPQHE9Ctej5o9AZ2ZmZmbSj0AfhetRuMiPQOxRuB6FuY9AFK5H4Xqmj0BSuB6F642PQClcj8L1eo9AwvUoXI8Yj0AK16NwPe6OQM7MzMzMkI5ApXA9CtdNjkAehetRuEqOQGZmZmZmLI5ACtejcD0ojkD1KFyPwgeOQEjhehSujY1AUrgehet9jUD2KFyPwneNQHA9CtejXI1AKVyPwvU2jUCG61G4Hi2NQPUoXI/CC41ACtejcD0CjUAVrkfheryMQBWuR+F6roxAcT0K16OOjECuR+F6FISMQHoUrkfhaIxAzszMzMxmjEBRuB6F61+MQMzMzMzMQIxAHoXrUbj4i0CamZmZmdGLQM3MzMzMvotAhutRuB63i0A9CtejcJGLQNijcD0KaYtAMzMzMzNZi0AehetRuEiLQM3MzMzMyopAw/UoXI+4ikAK16NwPbSKQPUoXI/CpYpAmpmZmZmjikDD9Shcj6KKQEjhehSulYpAkML1KFyTikB8FK5H4YSKQOtRuB6Ff4pAUrgehet3ikBI4XoUrmeKQK5H4XoUZIpArkfhehQoikCF61G4HiGKQBSuR+F6CIpA9Shcj8LpiUBxPQrXo9SJQBWuR+F6zolAwvUoXI/KiUBwPQrXo8KJQMP1KFyPnolAPgrXo3CDiUCF61G4HnWJQDMzMzMzZ4lAZmZmZmZciUA9CtejcE2JQFK4HoXrSYlAw/UoXI8+iUDOzMzMzDSJQKRwPQrXL4lAMzMzMzMhiUCG61G4HiGJQNejcD0K64hAXY/C9SjqiEAfhetRuN6IQB6F61G4zohAkML1KFyviEA0MzMzM5mIQBWuR+F6VohAUrgehetNiEA0MzMzMzeIQHA9Ctej7IdAPgrXo3Dfh0DsUbgehZ+HQJqZmZmZiYdAMzMzMzNJh0D2KFyPwj+HQGZmZmZmIodAj8L1KFwfh0A9CtejcBGHQNijcD0KB4dAcT0K16MGh0ClcD0K1/eGQLgehetR8IZAMzMzMzPJhkDYo3A9CmGGQBSuR+F6DoZA4XoUrkeZhUBmZmZmZoCFQClcj8L1VIVAw/UoXI9OhUBI4XoUrjeFQAAAAAAANoVAuB6F61EohUAfhetRuCaFQGZmZmZmCIVAKVyPwvUGhUDC9Shcj96EQHwUrkfh2IRAU7gehevJhECjcD0K17mEQJmZmZmZqYRArkfhehSQhED1KFyPwouEQPUoXI/CgYRApHA9CtdxhEDsUbgehVOEQFyPwvUoLIRAexSuR+EohEC4HoXrUSiEQMzMzMzMJIRAzMzMzMwihECQwvUoXA2EQEjhehSu+4NAexSuR+Ggg0AfhetRuIyDQGZmZmZmhINASOF6FK6Bg0CZmZmZmX2DQChcj8L1WoNAAAAAAAAMg0DNzMzMzASDQPYoXI/C/YJArkfhehTmgkD2KFyPwtGCQOJ6FK5HxYJAuB6F61GegkBSuB6F63WCQGdmZmZmdIJA9Shcj8JngkC4HoXrUTSCQBSuR+F6EoJArkfhehT0gUCamZmZmfOBQJDC9Shc84FAcD0K16PygUDD9Shcj5SBQClcj8L1boFAzczMzMxggUD2KFyPwjuBQOxRuB6FI4FAzczMzMwOgUC5HoXrUQaBQDQzMzMz/4BAzczMzMz4gECF61G4HrWAQDMzMzMzoYBAo3A9CteNgEAUrkfhenaAQI/C9Shcb4BAAAAAAABmgEAK16NwPVSAQGdmZmZmOoBAAAAAAAA0gEAAAAAAAAyAQArXo3A9CIBAr0fhehQIgEAVrkfheoh/QB6F61G4Vn9AUrgehetNf0CkcD0K1z9/QOJ6FK5HCX9AHoXrUbj6fkAVrkfhepB+QIbrUbgefX5AH4XrUbhifkC5HoXrUaR9QFK4HoXreX1APgrXo3BlfUBSuB6F6/18QEfhehSu63xANDMzMzPrfEAfhetRuIJ8QOB6FK5HRXxAPQrXo3AxfEBxPQrXoyB8QClcj8L18HtAH4XrUbi+e0BxPQrXo7h7QGdmZmZmmntAFK5H4Xpwe0C5HoXrUUR7QHE9CtejQHtApHA9Ctcre0DrUbgehR97QCpcj8L1AHtAcT0K16P4ekCG61G4HvF6QHsUrkfh6npAmpmZmZnpekCF61G4Hs16QArXo3A9UnpAH4XrUbgeekDhehSuRwF6QMT1KFyP/nlAFK5H4XrkeUBSuB6F68F5QITrUbgerXlAwvUoXI+CeUApXI/C9Xh5QArXo3A9enhArkfhehRKeEBcj8L1KCh4QMP1KFyPFnhAuB6F61EIeEAK16NwPWJ3QKRwPQrXP3ZAzczMzMwAdkDiehSuR/V1QD4K16Nw5XVAkML1KFyndUCQwvUoXHN1QFK4HoXrbXVAhetRuB5NdUDXo3A9Ckt1QPYoXI/CSXVA9ihcj8IpdUCG61G4Hu10QOF6FK5H2XRAzMzMzMzUdEAqXI/C9ch0QPYoXI/CvXRAhutRuB6ZdEAfhetRuCp0QMzMzMzMdHNApHA9Ctdvc0D2KFyPwj1zQEjhehSuo3JA16NwPQqPckA+CtejcNVxQClcj8L1uHFA61G4HoWfcUCkcD0K179wQBSuR+F6nHBA9ihcj8IxcECF61G4Hg1wQIXrUbge3W9AjsL1KFwnbkCkcD0K1xtuQLkehetRwGxANDMzMzNDbEDsUbgehStsQFyPwvUo7GtArkfhehSma0CkcD0K1yNrQNejcD0K92pAH4XrUbjGakDgehSuR9lpQNajcD0Kf2lAXY/C9SisaEByPQrXo9hmQFyPwvUozGZAwvUoXI/CZUAUrkfhepRlQM3MzMzMbGVAPQrXo3CtZEBmZmZmZv5jQFK4HoXrmWNAZmZmZmYeY0AAAAAAAPBiQK5H4XoUTmJACtejcD26W0DWo3A9CmdbQBSuR+F6dFdAhetRuB4FVUDNzMzMzCxUQD0K16NwjVNA9ihcj8J1TkAUrkfhevRKQIXrUbgeRTZAZmZmZmbmJUA=",
           "dtype": "f8"
          },
          "sizemode": "area",
          "sizeref": 142.724975,
          "symbol": "circle"
         },
         "mode": "markers",
         "name": "Other",
         "orientation": "v",
         "showlegend": true,
         "type": "scatter",
         "x": {
          "bdata": "BgIHBgYODAwICAsKCwoGCwgJCAgKBwsGBgoJCggJBwcHBgkFCgQKBgcGBgYHCwgJBwgJCQYGCQgICgcJBQQICQcIBwcFCAYGBwcICgYJBwkIBggKCAcFBwYHBwgGBAUEBQMIBwYIBQYHAwcIBQUEBwUJBggEBgUGBAYFBwQHCAYFBQQFBgYFBgQFCAUDBAYFBgYHBwUGBgUIAwUGBggFBAQFBAcHBwQHBgMGBQMFAwQHBQYHBgYFBgYGBAUEBgQFBQUDBAcDBQgFBQMGBAYDBAQEBgQDBAUFBAUDAwcEBgMDCAUGBAMFAwIFBQMEBgUGAwMFBQQEBAUFAwQFAwMEBAMEAwUFAwUDBQMEBAIFAgIEAwIEAwQCAgIEBAUEAwQEBAMDBAQEAgIEBAMFBAICAwQCBAMBAgICAgMEAgQBAgICAwQCAwIBAwMBBAQDAgIBAwIBAgMDAgICAgEBAQEBAQ==",
          "dtype": "i1"
         },
         "xaxis": "x",
         "y": {
          "bdata": "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",
          "dtype": "f8"
         },
         "yaxis": "y"
        }
       ],
       "layout": {
        "legend": {
         "itemsizing": "constant",
         "title": {
          "text": "gender"
         },
         "tracegroupgap": 0
        },
        "template": {
         "data": {
          "bar": [
           {
            "error_x": {
             "color": "#2a3f5f"
            },
            "error_y": {
             "color": "#2a3f5f"
            },
            "marker": {
             "line": {
              "color": "#E5ECF6",
              "width": 0.5
             },
             "pattern": {
              "fillmode": "overlay",
              "size": 10,
              "solidity": 0.2
             }
            },
            "type": "bar"
           }
          ],
          "barpolar": [
           {
            "marker": {
             "line": {
              "color": "#E5ECF6",
              "width": 0.5
             },
             "pattern": {
              "fillmode": "overlay",
              "size": 10,
              "solidity": 0.2
             }
            },
            "type": "barpolar"
           }
          ],
          "carpet": [
           {
            "aaxis": {
             "endlinecolor": "#2a3f5f",
             "gridcolor": "white",
             "linecolor": "white",
             "minorgridcolor": "white",
             "startlinecolor": "#2a3f5f"
            },
            "baxis": {
             "endlinecolor": "#2a3f5f",
             "gridcolor": "white",
             "linecolor": "white",
             "minorgridcolor": "white",
             "startlinecolor": "#2a3f5f"
            },
            "type": "carpet"
           }
          ],
          "choropleth": [
           {
            "colorbar": {
             "outlinewidth": 0,
             "ticks": ""
            },
            "type": "choropleth"
           }
          ],
          "contour": [
           {
            "colorbar": {
             "outlinewidth": 0,
             "ticks": ""
            },
            "colorscale": [
             [
              0,
              "#0d0887"
             ],
             [
              0.1111111111111111,
              "#46039f"
             ],
             [
              0.2222222222222222,
              "#7201a8"
             ],
             [
              0.3333333333333333,
              "#9c179e"
             ],
             [
              0.4444444444444444,
              "#bd3786"
             ],
             [
              0.5555555555555556,
              "#d8576b"
             ],
             [
              0.6666666666666666,
              "#ed7953"
             ],
             [
              0.7777777777777778,
              "#fb9f3a"
             ],
             [
              0.8888888888888888,
              "#fdca26"
             ],
             [
              1,
              "#f0f921"
             ]
            ],
            "type": "contour"
           }
          ],
          "contourcarpet": [
           {
            "colorbar": {
             "outlinewidth": 0,
             "ticks": ""
            },
            "type": "contourcarpet"
           }
          ],
          "heatmap": [
           {
            "colorbar": {
             "outlinewidth": 0,
             "ticks": ""
            },
            "colorscale": [
             [
              0,
              "#0d0887"
             ],
             [
              0.1111111111111111,
              "#46039f"
             ],
             [
              0.2222222222222222,
              "#7201a8"
             ],
             [
              0.3333333333333333,
              "#9c179e"
             ],
             [
              0.4444444444444444,
              "#bd3786"
             ],
             [
              0.5555555555555556,
              "#d8576b"
             ],
             [
              0.6666666666666666,
              "#ed7953"
             ],
             [
              0.7777777777777778,
              "#fb9f3a"
             ],
             [
              0.8888888888888888,
              "#fdca26"
             ],
             [
              1,
              "#f0f921"
             ]
            ],
            "type": "heatmap"
           }
          ],
          "histogram": [
           {
            "marker": {
             "pattern": {
              "fillmode": "overlay",
              "size": 10,
              "solidity": 0.2
             }
            },
            "type": "histogram"
           }
          ],
          "histogram2d": [
           {
            "colorbar": {
             "outlinewidth": 0,
             "ticks": ""
            },
            "colorscale": [
             [
              0,
              "#0d0887"
             ],
             [
              0.1111111111111111,
              "#46039f"
             ],
             [
              0.2222222222222222,
              "#7201a8"
             ],
             [
              0.3333333333333333,
              "#9c179e"
             ],
             [
              0.4444444444444444,
              "#bd3786"
             ],
             [
              0.5555555555555556,
              "#d8576b"
             ],
             [
              0.6666666666666666,
              "#ed7953"
             ],
             [
              0.7777777777777778,
              "#fb9f3a"
             ],
             [
              0.8888888888888888,
              "#fdca26"
             ],
             [
              1,
              "#f0f921"
             ]
            ],
            "type": "histogram2d"
           }
          ],
          "histogram2dcontour": [
           {
            "colorbar": {
             "outlinewidth": 0,
             "ticks": ""
            },
            "colorscale": [
             [
              0,
              "#0d0887"
             ],
             [
              0.1111111111111111,
              "#46039f"
             ],
             [
              0.2222222222222222,
              "#7201a8"
             ],
             [
              0.3333333333333333,
              "#9c179e"
             ],
             [
              0.4444444444444444,
              "#bd3786"
             ],
             [
              0.5555555555555556,
              "#d8576b"
             ],
             [
              0.6666666666666666,
              "#ed7953"
             ],
             [
              0.7777777777777778,
              "#fb9f3a"
             ],
             [
              0.8888888888888888,
              "#fdca26"
             ],
             [
              1,
              "#f0f921"
             ]
            ],
            "type": "histogram2dcontour"
           }
          ],
          "mesh3d": [
           {
            "colorbar": {
             "outlinewidth": 0,
             "ticks": ""
            },
            "type": "mesh3d"
           }
          ],
          "parcoords": [
           {
            "line": {
             "colorbar": {
              "outlinewidth": 0,
              "ticks": ""
             }
            },
            "type": "parcoords"
           }
          ],
          "pie": [
           {
            "automargin": true,
            "type": "pie"
           }
          ],
          "scatter": [
           {
            "fillpattern": {
             "fillmode": "overlay",
             "size": 10,
             "solidity": 0.2
            },
            "type": "scatter"
           }
          ],
          "scatter3d": [
           {
            "line": {
             "colorbar": {
              "outlinewidth": 0,
              "ticks": ""
             }
            },
            "marker": {
             "colorbar": {
              "outlinewidth": 0,
              "ticks": ""
             }
            },
            "type": "scatter3d"
           }
          ],
          "scattercarpet": [
           {
            "marker": {
             "colorbar": {
              "outlinewidth": 0,
              "ticks": ""
             }
            },
            "type": "scattercarpet"
           }
          ],
          "scattergeo": [
           {
            "marker": {
             "colorbar": {
              "outlinewidth": 0,
              "ticks": ""
             }
            },
            "type": "scattergeo"
           }
          ],
          "scattergl": [
           {
            "marker": {
             "colorbar": {
              "outlinewidth": 0,
              "ticks": ""
             }
            },
            "type": "scattergl"
           }
          ],
          "scattermap": [
           {
            "marker": {
             "colorbar": {
              "outlinewidth": 0,
              "ticks": ""
             }
            },
            "type": "scattermap"
           }
          ],
          "scattermapbox": [
           {
            "marker": {
             "colorbar": {
              "outlinewidth": 0,
              "ticks": ""
             }
            },
            "type": "scattermapbox"
           }
          ],
          "scatterpolar": [
           {
            "marker": {
             "colorbar": {
              "outlinewidth": 0,
              "ticks": ""
             }
            },
            "type": "scatterpolar"
           }
          ],
          "scatterpolargl": [
           {
            "marker": {
             "colorbar": {
              "outlinewidth": 0,
              "ticks": ""
             }
            },
            "type": "scatterpolargl"
           }
          ],
          "scatterternary": [
           {
            "marker": {
             "colorbar": {
              "outlinewidth": 0,
              "ticks": ""
             }
            },
            "type": "scatterternary"
           }
          ],
          "surface": [
           {
            "colorbar": {
             "outlinewidth": 0,
             "ticks": ""
            },
            "colorscale": [
             [
              0,
              "#0d0887"
             ],
             [
              0.1111111111111111,
              "#46039f"
             ],
             [
              0.2222222222222222,
              "#7201a8"
             ],
             [
              0.3333333333333333,
              "#9c179e"
             ],
             [
              0.4444444444444444,
              "#bd3786"
             ],
             [
              0.5555555555555556,
              "#d8576b"
             ],
             [
              0.6666666666666666,
              "#ed7953"
             ],
             [
              0.7777777777777778,
              "#fb9f3a"
             ],
             [
              0.8888888888888888,
              "#fdca26"
             ],
             [
              1,
              "#f0f921"
             ]
            ],
            "type": "surface"
           }
          ],
          "table": [
           {
            "cells": {
             "fill": {
              "color": "#EBF0F8"
             },
             "line": {
              "color": "white"
             }
            },
            "header": {
             "fill": {
              "color": "#C8D4E3"
             },
             "line": {
              "color": "white"
             }
            },
            "type": "table"
           }
          ]
         },
         "layout": {
          "annotationdefaults": {
           "arrowcolor": "#2a3f5f",
           "arrowhead": 0,
           "arrowwidth": 1
          },
          "autotypenumbers": "strict",
          "coloraxis": {
           "colorbar": {
            "outlinewidth": 0,
            "ticks": ""
           }
          },
          "colorscale": {
           "diverging": [
            [
             0,
             "#8e0152"
            ],
            [
             0.1,
             "#c51b7d"
            ],
            [
             0.2,
             "#de77ae"
            ],
            [
             0.3,
             "#f1b6da"
            ],
            [
             0.4,
             "#fde0ef"
            ],
            [
             0.5,
             "#f7f7f7"
            ],
            [
             0.6,
             "#e6f5d0"
            ],
            [
             0.7,
             "#b8e186"
            ],
            [
             0.8,
             "#7fbc41"
            ],
            [
             0.9,
             "#4d9221"
            ],
            [
             1,
             "#276419"
            ]
           ],
           "sequential": [
            [
             0,
             "#0d0887"
            ],
            [
             0.1111111111111111,
             "#46039f"
            ],
            [
             0.2222222222222222,
             "#7201a8"
            ],
            [
             0.3333333333333333,
             "#9c179e"
            ],
            [
             0.4444444444444444,
             "#bd3786"
            ],
            [
             0.5555555555555556,
             "#d8576b"
            ],
            [
             0.6666666666666666,
             "#ed7953"
            ],
            [
             0.7777777777777778,
             "#fb9f3a"
            ],
            [
             0.8888888888888888,
             "#fdca26"
            ],
            [
             1,
             "#f0f921"
            ]
           ],
           "sequentialminus": [
            [
             0,
             "#0d0887"
            ],
            [
             0.1111111111111111,
             "#46039f"
            ],
            [
             0.2222222222222222,
             "#7201a8"
            ],
            [
             0.3333333333333333,
             "#9c179e"
            ],
            [
             0.4444444444444444,
             "#bd3786"
            ],
            [
             0.5555555555555556,
             "#d8576b"
            ],
            [
             0.6666666666666666,
             "#ed7953"
            ],
            [
             0.7777777777777778,
             "#fb9f3a"
            ],
            [
             0.8888888888888888,
             "#fdca26"
            ],
            [
             1,
             "#f0f921"
            ]
           ]
          },
          "colorway": [
           "#636efa",
           "#EF553B",
           "#00cc96",
           "#ab63fa",
           "#FFA15A",
           "#19d3f3",
           "#FF6692",
           "#B6E880",
           "#FF97FF",
           "#FECB52"
          ],
          "font": {
           "color": "#2a3f5f"
          },
          "geo": {
           "bgcolor": "white",
           "lakecolor": "white",
           "landcolor": "#E5ECF6",
           "showlakes": true,
           "showland": true,
           "subunitcolor": "white"
          },
          "hoverlabel": {
           "align": "left"
          },
          "hovermode": "closest",
          "mapbox": {
           "style": "light"
          },
          "paper_bgcolor": "white",
          "plot_bgcolor": "#E5ECF6",
          "polar": {
           "angularaxis": {
            "gridcolor": "white",
            "linecolor": "white",
            "ticks": ""
           },
           "bgcolor": "#E5ECF6",
           "radialaxis": {
            "gridcolor": "white",
            "linecolor": "white",
            "ticks": ""
           }
          },
          "scene": {
           "xaxis": {
            "backgroundcolor": "#E5ECF6",
            "gridcolor": "white",
            "gridwidth": 2,
            "linecolor": "white",
            "showbackground": true,
            "ticks": "",
            "zerolinecolor": "white"
           },
           "yaxis": {
            "backgroundcolor": "#E5ECF6",
            "gridcolor": "white",
            "gridwidth": 2,
            "linecolor": "white",
            "showbackground": true,
            "ticks": "",
            "zerolinecolor": "white"
           },
           "zaxis": {
            "backgroundcolor": "#E5ECF6",
            "gridcolor": "white",
            "gridwidth": 2,
            "linecolor": "white",
            "showbackground": true,
            "ticks": "",
            "zerolinecolor": "white"
           }
          },
          "shapedefaults": {
           "line": {
            "color": "#2a3f5f"
           }
          },
          "ternary": {
           "aaxis": {
            "gridcolor": "white",
            "linecolor": "white",
            "ticks": ""
           },
           "baxis": {
            "gridcolor": "white",
            "linecolor": "white",
            "ticks": ""
           },
           "bgcolor": "#E5ECF6",
           "caxis": {
            "gridcolor": "white",
            "linecolor": "white",
            "ticks": ""
           }
          },
          "title": {
           "x": 0.05
          },
          "xaxis": {
           "automargin": true,
           "gridcolor": "white",
           "linecolor": "white",
           "ticks": "",
           "title": {
            "standoff": 15
           },
           "zerolinecolor": "white",
           "zerolinewidth": 2
          },
          "yaxis": {
           "automargin": true,
           "gridcolor": "white",
           "linecolor": "white",
           "ticks": "",
           "title": {
            "standoff": 15
           },
           "zerolinecolor": "white",
           "zerolinewidth": 2
          }
         }
        },
        "title": {
         "text": "Customer Spending vs Frequency"
        },
        "xaxis": {
         "anchor": "y",
         "domain": [
          0,
          1
         ],
         "title": {
          "text": "total_orders"
         }
        },
        "yaxis": {
         "anchor": "x",
         "domain": [
          0,
          1
         ],
         "title": {
          "text": "total_spent"
         }
        }
       }
      }
     },
     "metadata": {},
     "output_type": "display_data"
    }
   ],
   "source": [
    "px.scatter(customer_spending, x='total_orders', y='total_spent', color='gender',\n",
    "           size='total_spent', hover_data=['customerid', 'location'],\n",
    "           title='Customer Spending vs Frequency')\n"
   ]
  },
  {
   "cell_type": "code",
   "execution_count": 14,
   "id": "60925ef3",
   "metadata": {},
   "outputs": [
    {
     "data": {
      "text/html": [
       "<div>\n",
       "<style scoped>\n",
       "    .dataframe tbody tr th:only-of-type {\n",
       "        vertical-align: middle;\n",
       "    }\n",
       "\n",
       "    .dataframe tbody tr th {\n",
       "        vertical-align: top;\n",
       "    }\n",
       "\n",
       "    .dataframe thead th {\n",
       "        text-align: right;\n",
       "    }\n",
       "</style>\n",
       "<table border=\"1\" class=\"dataframe\">\n",
       "  <thead>\n",
       "    <tr style=\"text-align: right;\">\n",
       "      <th></th>\n",
       "      <th>customerid</th>\n",
       "      <th>total_orders</th>\n",
       "      <th>customer_segment</th>\n",
       "    </tr>\n",
       "  </thead>\n",
       "  <tbody>\n",
       "    <tr>\n",
       "      <th>0</th>\n",
       "      <td>103</td>\n",
       "      <td>5</td>\n",
       "      <td>Medium</td>\n",
       "    </tr>\n",
       "    <tr>\n",
       "      <th>1</th>\n",
       "      <td>436</td>\n",
       "      <td>7</td>\n",
       "      <td>Medium</td>\n",
       "    </tr>\n",
       "    <tr>\n",
       "      <th>2</th>\n",
       "      <td>861</td>\n",
       "      <td>5</td>\n",
       "      <td>Medium</td>\n",
       "    </tr>\n",
       "    <tr>\n",
       "      <th>3</th>\n",
       "      <td>271</td>\n",
       "      <td>4</td>\n",
       "      <td>Low</td>\n",
       "    </tr>\n",
       "    <tr>\n",
       "      <th>4</th>\n",
       "      <td>107</td>\n",
       "      <td>5</td>\n",
       "      <td>Medium</td>\n",
       "    </tr>\n",
       "    <tr>\n",
       "      <th>...</th>\n",
       "      <td>...</td>\n",
       "      <td>...</td>\n",
       "      <td>...</td>\n",
       "    </tr>\n",
       "    <tr>\n",
       "      <th>984</th>\n",
       "      <td>487</td>\n",
       "      <td>1</td>\n",
       "      <td>Low</td>\n",
       "    </tr>\n",
       "    <tr>\n",
       "      <th>985</th>\n",
       "      <td>810</td>\n",
       "      <td>1</td>\n",
       "      <td>Low</td>\n",
       "    </tr>\n",
       "    <tr>\n",
       "      <th>986</th>\n",
       "      <td>355</td>\n",
       "      <td>1</td>\n",
       "      <td>Low</td>\n",
       "    </tr>\n",
       "    <tr>\n",
       "      <th>987</th>\n",
       "      <td>45</td>\n",
       "      <td>1</td>\n",
       "      <td>Low</td>\n",
       "    </tr>\n",
       "    <tr>\n",
       "      <th>988</th>\n",
       "      <td>528</td>\n",
       "      <td>1</td>\n",
       "      <td>Low</td>\n",
       "    </tr>\n",
       "  </tbody>\n",
       "</table>\n",
       "<p>989 rows × 3 columns</p>\n",
       "</div>"
      ],
      "text/plain": [
       "     customerid  total_orders customer_segment\n",
       "0           103             5           Medium\n",
       "1           436             7           Medium\n",
       "2           861             5           Medium\n",
       "3           271             4              Low\n",
       "4           107             5           Medium\n",
       "..          ...           ...              ...\n",
       "984         487             1              Low\n",
       "985         810             1              Low\n",
       "986         355             1              Low\n",
       "987          45             1              Low\n",
       "988         528             1              Low\n",
       "\n",
       "[989 rows x 3 columns]"
      ]
     },
     "execution_count": 14,
     "metadata": {},
     "output_type": "execute_result"
    }
   ],
   "source": [
    "# Segment Customers by Frequency\n",
    "\n",
    "query_segments = \"\"\"\n",
    "SELECT \n",
    "    customerid,\n",
    "    COUNT(transactionid) AS total_orders,\n",
    "    CASE \n",
    "        WHEN COUNT(transactionid) = 0 THEN 'Inactive'\n",
    "        WHEN COUNT(transactionid) BETWEEN 1 AND 4 THEN 'Low'\n",
    "        WHEN COUNT(transactionid) BETWEEN 5 AND 7 THEN 'Medium'\n",
    "        ELSE 'High'\n",
    "    END AS customer_segment\n",
    "FROM sales\n",
    "GROUP BY customerid;\n",
    "\"\"\"\n",
    "customer_segments = pd.read_sql(query_segments, engine)\n",
    "customer_segments\n"
   ]
  },
  {
   "cell_type": "code",
   "execution_count": 15,
   "id": "7651dcfb",
   "metadata": {},
   "outputs": [
    {
     "data": {
      "application/vnd.plotly.v1+json": {
       "config": {
        "plotlyServerURL": "https://plot.ly"
       },
       "data": [
        {
         "bingroup": "x",
         "hovertemplate": "customer_segment=%{x}<br>count=%{y}<extra></extra>",
         "legendgroup": "Medium",
         "marker": {
          "color": "#636efa",
          "pattern": {
           "shape": ""
          }
         },
         "name": "Medium",
         "orientation": "v",
         "showlegend": true,
         "type": "histogram",
         "x": [
          "Medium",
          "Medium",
          "Medium",
          "Medium",
          "Medium",
          "Medium",
          "Medium",
          "Medium",
          "Medium",
          "Medium",
          "Medium",
          "Medium",
          "Medium",
          "Medium",
          "Medium",
          "Medium",
          "Medium",
          "Medium",
          "Medium",
          "Medium",
          "Medium",
          "Medium",
          "Medium",
          "Medium",
          "Medium",
          "Medium",
          "Medium",
          "Medium",
          "Medium",
          "Medium",
          "Medium",
          "Medium",
          "Medium",
          "Medium",
          "Medium",
          "Medium",
          "Medium",
          "Medium",
          "Medium",
          "Medium",
          "Medium",
          "Medium",
          "Medium",
          "Medium",
          "Medium",
          "Medium",
          "Medium",
          "Medium",
          "Medium",
          "Medium",
          "Medium",
          "Medium",
          "Medium",
          "Medium",
          "Medium",
          "Medium",
          "Medium",
          "Medium",
          "Medium",
          "Medium",
          "Medium",
          "Medium",
          "Medium",
          "Medium",
          "Medium",
          "Medium",
          "Medium",
          "Medium",
          "Medium",
          "Medium",
          "Medium",
          "Medium",
          "Medium",
          "Medium",
          "Medium",
          "Medium",
          "Medium",
          "Medium",
          "Medium",
          "Medium",
          "Medium",
          "Medium",
          "Medium",
          "Medium",
          "Medium",
          "Medium",
          "Medium",
          "Medium",
          "Medium",
          "Medium",
          "Medium",
          "Medium",
          "Medium",
          "Medium",
          "Medium",
          "Medium",
          "Medium",
          "Medium",
          "Medium",
          "Medium",
          "Medium",
          "Medium",
          "Medium",
          "Medium",
          "Medium",
          "Medium",
          "Medium",
          "Medium",
          "Medium",
          "Medium",
          "Medium",
          "Medium",
          "Medium",
          "Medium",
          "Medium",
          "Medium",
          "Medium",
          "Medium",
          "Medium",
          "Medium",
          "Medium",
          "Medium",
          "Medium",
          "Medium",
          "Medium",
          "Medium",
          "Medium",
          "Medium",
          "Medium",
          "Medium",
          "Medium",
          "Medium",
          "Medium",
          "Medium",
          "Medium",
          "Medium",
          "Medium",
          "Medium",
          "Medium",
          "Medium",
          "Medium",
          "Medium",
          "Medium",
          "Medium",
          "Medium",
          "Medium",
          "Medium",
          "Medium",
          "Medium",
          "Medium",
          "Medium",
          "Medium",
          "Medium",
          "Medium",
          "Medium",
          "Medium",
          "Medium",
          "Medium",
          "Medium",
          "Medium",
          "Medium",
          "Medium",
          "Medium",
          "Medium",
          "Medium",
          "Medium",
          "Medium",
          "Medium",
          "Medium",
          "Medium",
          "Medium",
          "Medium",
          "Medium",
          "Medium",
          "Medium",
          "Medium",
          "Medium",
          "Medium",
          "Medium",
          "Medium",
          "Medium",
          "Medium",
          "Medium",
          "Medium",
          "Medium",
          "Medium",
          "Medium",
          "Medium",
          "Medium",
          "Medium",
          "Medium",
          "Medium",
          "Medium",
          "Medium",
          "Medium",
          "Medium",
          "Medium",
          "Medium",
          "Medium",
          "Medium",
          "Medium",
          "Medium",
          "Medium",
          "Medium",
          "Medium",
          "Medium",
          "Medium",
          "Medium",
          "Medium",
          "Medium",
          "Medium",
          "Medium",
          "Medium",
          "Medium",
          "Medium",
          "Medium",
          "Medium",
          "Medium",
          "Medium",
          "Medium",
          "Medium",
          "Medium",
          "Medium",
          "Medium",
          "Medium",
          "Medium",
          "Medium",
          "Medium",
          "Medium",
          "Medium",
          "Medium",
          "Medium",
          "Medium",
          "Medium",
          "Medium",
          "Medium",
          "Medium",
          "Medium",
          "Medium",
          "Medium",
          "Medium",
          "Medium",
          "Medium",
          "Medium",
          "Medium",
          "Medium",
          "Medium",
          "Medium",
          "Medium",
          "Medium",
          "Medium",
          "Medium",
          "Medium",
          "Medium",
          "Medium",
          "Medium",
          "Medium",
          "Medium",
          "Medium",
          "Medium",
          "Medium",
          "Medium",
          "Medium",
          "Medium",
          "Medium",
          "Medium",
          "Medium",
          "Medium",
          "Medium",
          "Medium",
          "Medium",
          "Medium",
          "Medium",
          "Medium",
          "Medium",
          "Medium",
          "Medium",
          "Medium",
          "Medium",
          "Medium",
          "Medium",
          "Medium",
          "Medium",
          "Medium",
          "Medium",
          "Medium",
          "Medium",
          "Medium",
          "Medium",
          "Medium",
          "Medium",
          "Medium",
          "Medium",
          "Medium",
          "Medium",
          "Medium",
          "Medium",
          "Medium",
          "Medium",
          "Medium",
          "Medium",
          "Medium",
          "Medium",
          "Medium",
          "Medium",
          "Medium",
          "Medium",
          "Medium",
          "Medium",
          "Medium",
          "Medium",
          "Medium",
          "Medium",
          "Medium",
          "Medium",
          "Medium",
          "Medium",
          "Medium",
          "Medium",
          "Medium",
          "Medium",
          "Medium",
          "Medium",
          "Medium",
          "Medium",
          "Medium",
          "Medium",
          "Medium",
          "Medium",
          "Medium",
          "Medium",
          "Medium",
          "Medium",
          "Medium",
          "Medium",
          "Medium",
          "Medium",
          "Medium",
          "Medium",
          "Medium",
          "Medium",
          "Medium",
          "Medium",
          "Medium",
          "Medium",
          "Medium",
          "Medium",
          "Medium",
          "Medium",
          "Medium",
          "Medium",
          "Medium",
          "Medium",
          "Medium",
          "Medium",
          "Medium",
          "Medium",
          "Medium",
          "Medium",
          "Medium",
          "Medium",
          "Medium",
          "Medium",
          "Medium",
          "Medium",
          "Medium",
          "Medium",
          "Medium",
          "Medium",
          "Medium",
          "Medium",
          "Medium",
          "Medium",
          "Medium",
          "Medium",
          "Medium",
          "Medium",
          "Medium",
          "Medium",
          "Medium",
          "Medium",
          "Medium",
          "Medium",
          "Medium",
          "Medium",
          "Medium",
          "Medium",
          "Medium",
          "Medium",
          "Medium",
          "Medium",
          "Medium",
          "Medium",
          "Medium",
          "Medium",
          "Medium",
          "Medium",
          "Medium",
          "Medium",
          "Medium",
          "Medium",
          "Medium",
          "Medium",
          "Medium",
          "Medium",
          "Medium"
         ],
         "xaxis": "x",
         "yaxis": "y"
        },
        {
         "bingroup": "x",
         "hovertemplate": "customer_segment=%{x}<br>count=%{y}<extra></extra>",
         "legendgroup": "Low",
         "marker": {
          "color": "#EF553B",
          "pattern": {
           "shape": ""
          }
         },
         "name": "Low",
         "orientation": "v",
         "showlegend": true,
         "type": "histogram",
         "x": [
          "Low",
          "Low",
          "Low",
          "Low",
          "Low",
          "Low",
          "Low",
          "Low",
          "Low",
          "Low",
          "Low",
          "Low",
          "Low",
          "Low",
          "Low",
          "Low",
          "Low",
          "Low",
          "Low",
          "Low",
          "Low",
          "Low",
          "Low",
          "Low",
          "Low",
          "Low",
          "Low",
          "Low",
          "Low",
          "Low",
          "Low",
          "Low",
          "Low",
          "Low",
          "Low",
          "Low",
          "Low",
          "Low",
          "Low",
          "Low",
          "Low",
          "Low",
          "Low",
          "Low",
          "Low",
          "Low",
          "Low",
          "Low",
          "Low",
          "Low",
          "Low",
          "Low",
          "Low",
          "Low",
          "Low",
          "Low",
          "Low",
          "Low",
          "Low",
          "Low",
          "Low",
          "Low",
          "Low",
          "Low",
          "Low",
          "Low",
          "Low",
          "Low",
          "Low",
          "Low",
          "Low",
          "Low",
          "Low",
          "Low",
          "Low",
          "Low",
          "Low",
          "Low",
          "Low",
          "Low",
          "Low",
          "Low",
          "Low",
          "Low",
          "Low",
          "Low",
          "Low",
          "Low",
          "Low",
          "Low",
          "Low",
          "Low",
          "Low",
          "Low",
          "Low",
          "Low",
          "Low",
          "Low",
          "Low",
          "Low",
          "Low",
          "Low",
          "Low",
          "Low",
          "Low",
          "Low",
          "Low",
          "Low",
          "Low",
          "Low",
          "Low",
          "Low",
          "Low",
          "Low",
          "Low",
          "Low",
          "Low",
          "Low",
          "Low",
          "Low",
          "Low",
          "Low",
          "Low",
          "Low",
          "Low",
          "Low",
          "Low",
          "Low",
          "Low",
          "Low",
          "Low",
          "Low",
          "Low",
          "Low",
          "Low",
          "Low",
          "Low",
          "Low",
          "Low",
          "Low",
          "Low",
          "Low",
          "Low",
          "Low",
          "Low",
          "Low",
          "Low",
          "Low",
          "Low",
          "Low",
          "Low",
          "Low",
          "Low",
          "Low",
          "Low",
          "Low",
          "Low",
          "Low",
          "Low",
          "Low",
          "Low",
          "Low",
          "Low",
          "Low",
          "Low",
          "Low",
          "Low",
          "Low",
          "Low",
          "Low",
          "Low",
          "Low",
          "Low",
          "Low",
          "Low",
          "Low",
          "Low",
          "Low",
          "Low",
          "Low",
          "Low",
          "Low",
          "Low",
          "Low",
          "Low",
          "Low",
          "Low",
          "Low",
          "Low",
          "Low",
          "Low",
          "Low",
          "Low",
          "Low",
          "Low",
          "Low",
          "Low",
          "Low",
          "Low",
          "Low",
          "Low",
          "Low",
          "Low",
          "Low",
          "Low",
          "Low",
          "Low",
          "Low",
          "Low",
          "Low",
          "Low",
          "Low",
          "Low",
          "Low",
          "Low",
          "Low",
          "Low",
          "Low",
          "Low",
          "Low",
          "Low",
          "Low",
          "Low",
          "Low",
          "Low",
          "Low",
          "Low",
          "Low",
          "Low",
          "Low",
          "Low",
          "Low",
          "Low",
          "Low",
          "Low",
          "Low",
          "Low",
          "Low",
          "Low",
          "Low",
          "Low",
          "Low",
          "Low",
          "Low",
          "Low",
          "Low",
          "Low",
          "Low",
          "Low",
          "Low",
          "Low",
          "Low",
          "Low",
          "Low",
          "Low",
          "Low",
          "Low",
          "Low",
          "Low",
          "Low",
          "Low",
          "Low",
          "Low",
          "Low",
          "Low",
          "Low",
          "Low",
          "Low",
          "Low",
          "Low",
          "Low",
          "Low",
          "Low",
          "Low",
          "Low",
          "Low",
          "Low",
          "Low",
          "Low",
          "Low",
          "Low",
          "Low",
          "Low",
          "Low",
          "Low",
          "Low",
          "Low",
          "Low",
          "Low",
          "Low",
          "Low",
          "Low",
          "Low",
          "Low",
          "Low",
          "Low",
          "Low",
          "Low",
          "Low",
          "Low",
          "Low",
          "Low",
          "Low",
          "Low",
          "Low",
          "Low",
          "Low",
          "Low",
          "Low",
          "Low",
          "Low",
          "Low",
          "Low",
          "Low",
          "Low",
          "Low",
          "Low",
          "Low",
          "Low",
          "Low",
          "Low",
          "Low",
          "Low",
          "Low",
          "Low",
          "Low",
          "Low",
          "Low",
          "Low",
          "Low",
          "Low",
          "Low",
          "Low",
          "Low",
          "Low",
          "Low",
          "Low",
          "Low",
          "Low",
          "Low",
          "Low",
          "Low",
          "Low",
          "Low",
          "Low",
          "Low",
          "Low",
          "Low",
          "Low",
          "Low",
          "Low",
          "Low",
          "Low",
          "Low",
          "Low",
          "Low",
          "Low",
          "Low",
          "Low",
          "Low",
          "Low",
          "Low",
          "Low",
          "Low",
          "Low",
          "Low",
          "Low",
          "Low",
          "Low",
          "Low",
          "Low",
          "Low",
          "Low",
          "Low",
          "Low",
          "Low",
          "Low",
          "Low",
          "Low",
          "Low",
          "Low",
          "Low",
          "Low",
          "Low",
          "Low",
          "Low",
          "Low",
          "Low",
          "Low",
          "Low",
          "Low",
          "Low",
          "Low",
          "Low",
          "Low",
          "Low",
          "Low",
          "Low",
          "Low",
          "Low",
          "Low",
          "Low",
          "Low",
          "Low",
          "Low",
          "Low",
          "Low",
          "Low",
          "Low",
          "Low",
          "Low",
          "Low",
          "Low",
          "Low",
          "Low",
          "Low",
          "Low",
          "Low",
          "Low",
          "Low",
          "Low",
          "Low",
          "Low",
          "Low",
          "Low",
          "Low",
          "Low",
          "Low",
          "Low",
          "Low",
          "Low",
          "Low",
          "Low",
          "Low",
          "Low",
          "Low",
          "Low"
         ],
         "xaxis": "x",
         "yaxis": "y"
        },
        {
         "bingroup": "x",
         "hovertemplate": "customer_segment=%{x}<br>count=%{y}<extra></extra>",
         "legendgroup": "High",
         "marker": {
          "color": "#00cc96",
          "pattern": {
           "shape": ""
          }
         },
         "name": "High",
         "orientation": "v",
         "showlegend": true,
         "type": "histogram",
         "x": [
          "High",
          "High",
          "High",
          "High",
          "High",
          "High",
          "High",
          "High",
          "High",
          "High",
          "High",
          "High",
          "High",
          "High",
          "High",
          "High",
          "High",
          "High",
          "High",
          "High",
          "High",
          "High",
          "High",
          "High",
          "High",
          "High",
          "High",
          "High",
          "High",
          "High",
          "High",
          "High",
          "High",
          "High",
          "High",
          "High",
          "High",
          "High",
          "High",
          "High",
          "High",
          "High",
          "High",
          "High",
          "High",
          "High",
          "High",
          "High",
          "High",
          "High",
          "High",
          "High",
          "High",
          "High",
          "High",
          "High",
          "High",
          "High",
          "High",
          "High",
          "High",
          "High",
          "High",
          "High",
          "High",
          "High",
          "High",
          "High",
          "High",
          "High",
          "High",
          "High",
          "High",
          "High",
          "High",
          "High",
          "High",
          "High",
          "High",
          "High",
          "High",
          "High",
          "High",
          "High",
          "High",
          "High",
          "High",
          "High",
          "High",
          "High",
          "High",
          "High",
          "High",
          "High",
          "High",
          "High",
          "High",
          "High",
          "High",
          "High",
          "High",
          "High",
          "High",
          "High",
          "High",
          "High",
          "High",
          "High",
          "High",
          "High",
          "High",
          "High",
          "High",
          "High",
          "High",
          "High",
          "High",
          "High",
          "High",
          "High",
          "High",
          "High",
          "High",
          "High",
          "High",
          "High",
          "High",
          "High",
          "High",
          "High",
          "High",
          "High",
          "High",
          "High",
          "High",
          "High",
          "High",
          "High",
          "High",
          "High",
          "High",
          "High",
          "High",
          "High",
          "High",
          "High"
         ],
         "xaxis": "x",
         "yaxis": "y"
        }
       ],
       "layout": {
        "barmode": "relative",
        "legend": {
         "title": {
          "text": "customer_segment"
         },
         "tracegroupgap": 0
        },
        "template": {
         "data": {
          "bar": [
           {
            "error_x": {
             "color": "#2a3f5f"
            },
            "error_y": {
             "color": "#2a3f5f"
            },
            "marker": {
             "line": {
              "color": "#E5ECF6",
              "width": 0.5
             },
             "pattern": {
              "fillmode": "overlay",
              "size": 10,
              "solidity": 0.2
             }
            },
            "type": "bar"
           }
          ],
          "barpolar": [
           {
            "marker": {
             "line": {
              "color": "#E5ECF6",
              "width": 0.5
             },
             "pattern": {
              "fillmode": "overlay",
              "size": 10,
              "solidity": 0.2
             }
            },
            "type": "barpolar"
           }
          ],
          "carpet": [
           {
            "aaxis": {
             "endlinecolor": "#2a3f5f",
             "gridcolor": "white",
             "linecolor": "white",
             "minorgridcolor": "white",
             "startlinecolor": "#2a3f5f"
            },
            "baxis": {
             "endlinecolor": "#2a3f5f",
             "gridcolor": "white",
             "linecolor": "white",
             "minorgridcolor": "white",
             "startlinecolor": "#2a3f5f"
            },
            "type": "carpet"
           }
          ],
          "choropleth": [
           {
            "colorbar": {
             "outlinewidth": 0,
             "ticks": ""
            },
            "type": "choropleth"
           }
          ],
          "contour": [
           {
            "colorbar": {
             "outlinewidth": 0,
             "ticks": ""
            },
            "colorscale": [
             [
              0,
              "#0d0887"
             ],
             [
              0.1111111111111111,
              "#46039f"
             ],
             [
              0.2222222222222222,
              "#7201a8"
             ],
             [
              0.3333333333333333,
              "#9c179e"
             ],
             [
              0.4444444444444444,
              "#bd3786"
             ],
             [
              0.5555555555555556,
              "#d8576b"
             ],
             [
              0.6666666666666666,
              "#ed7953"
             ],
             [
              0.7777777777777778,
              "#fb9f3a"
             ],
             [
              0.8888888888888888,
              "#fdca26"
             ],
             [
              1,
              "#f0f921"
             ]
            ],
            "type": "contour"
           }
          ],
          "contourcarpet": [
           {
            "colorbar": {
             "outlinewidth": 0,
             "ticks": ""
            },
            "type": "contourcarpet"
           }
          ],
          "heatmap": [
           {
            "colorbar": {
             "outlinewidth": 0,
             "ticks": ""
            },
            "colorscale": [
             [
              0,
              "#0d0887"
             ],
             [
              0.1111111111111111,
              "#46039f"
             ],
             [
              0.2222222222222222,
              "#7201a8"
             ],
             [
              0.3333333333333333,
              "#9c179e"
             ],
             [
              0.4444444444444444,
              "#bd3786"
             ],
             [
              0.5555555555555556,
              "#d8576b"
             ],
             [
              0.6666666666666666,
              "#ed7953"
             ],
             [
              0.7777777777777778,
              "#fb9f3a"
             ],
             [
              0.8888888888888888,
              "#fdca26"
             ],
             [
              1,
              "#f0f921"
             ]
            ],
            "type": "heatmap"
           }
          ],
          "histogram": [
           {
            "marker": {
             "pattern": {
              "fillmode": "overlay",
              "size": 10,
              "solidity": 0.2
             }
            },
            "type": "histogram"
           }
          ],
          "histogram2d": [
           {
            "colorbar": {
             "outlinewidth": 0,
             "ticks": ""
            },
            "colorscale": [
             [
              0,
              "#0d0887"
             ],
             [
              0.1111111111111111,
              "#46039f"
             ],
             [
              0.2222222222222222,
              "#7201a8"
             ],
             [
              0.3333333333333333,
              "#9c179e"
             ],
             [
              0.4444444444444444,
              "#bd3786"
             ],
             [
              0.5555555555555556,
              "#d8576b"
             ],
             [
              0.6666666666666666,
              "#ed7953"
             ],
             [
              0.7777777777777778,
              "#fb9f3a"
             ],
             [
              0.8888888888888888,
              "#fdca26"
             ],
             [
              1,
              "#f0f921"
             ]
            ],
            "type": "histogram2d"
           }
          ],
          "histogram2dcontour": [
           {
            "colorbar": {
             "outlinewidth": 0,
             "ticks": ""
            },
            "colorscale": [
             [
              0,
              "#0d0887"
             ],
             [
              0.1111111111111111,
              "#46039f"
             ],
             [
              0.2222222222222222,
              "#7201a8"
             ],
             [
              0.3333333333333333,
              "#9c179e"
             ],
             [
              0.4444444444444444,
              "#bd3786"
             ],
             [
              0.5555555555555556,
              "#d8576b"
             ],
             [
              0.6666666666666666,
              "#ed7953"
             ],
             [
              0.7777777777777778,
              "#fb9f3a"
             ],
             [
              0.8888888888888888,
              "#fdca26"
             ],
             [
              1,
              "#f0f921"
             ]
            ],
            "type": "histogram2dcontour"
           }
          ],
          "mesh3d": [
           {
            "colorbar": {
             "outlinewidth": 0,
             "ticks": ""
            },
            "type": "mesh3d"
           }
          ],
          "parcoords": [
           {
            "line": {
             "colorbar": {
              "outlinewidth": 0,
              "ticks": ""
             }
            },
            "type": "parcoords"
           }
          ],
          "pie": [
           {
            "automargin": true,
            "type": "pie"
           }
          ],
          "scatter": [
           {
            "fillpattern": {
             "fillmode": "overlay",
             "size": 10,
             "solidity": 0.2
            },
            "type": "scatter"
           }
          ],
          "scatter3d": [
           {
            "line": {
             "colorbar": {
              "outlinewidth": 0,
              "ticks": ""
             }
            },
            "marker": {
             "colorbar": {
              "outlinewidth": 0,
              "ticks": ""
             }
            },
            "type": "scatter3d"
           }
          ],
          "scattercarpet": [
           {
            "marker": {
             "colorbar": {
              "outlinewidth": 0,
              "ticks": ""
             }
            },
            "type": "scattercarpet"
           }
          ],
          "scattergeo": [
           {
            "marker": {
             "colorbar": {
              "outlinewidth": 0,
              "ticks": ""
             }
            },
            "type": "scattergeo"
           }
          ],
          "scattergl": [
           {
            "marker": {
             "colorbar": {
              "outlinewidth": 0,
              "ticks": ""
             }
            },
            "type": "scattergl"
           }
          ],
          "scattermap": [
           {
            "marker": {
             "colorbar": {
              "outlinewidth": 0,
              "ticks": ""
             }
            },
            "type": "scattermap"
           }
          ],
          "scattermapbox": [
           {
            "marker": {
             "colorbar": {
              "outlinewidth": 0,
              "ticks": ""
             }
            },
            "type": "scattermapbox"
           }
          ],
          "scatterpolar": [
           {
            "marker": {
             "colorbar": {
              "outlinewidth": 0,
              "ticks": ""
             }
            },
            "type": "scatterpolar"
           }
          ],
          "scatterpolargl": [
           {
            "marker": {
             "colorbar": {
              "outlinewidth": 0,
              "ticks": ""
             }
            },
            "type": "scatterpolargl"
           }
          ],
          "scatterternary": [
           {
            "marker": {
             "colorbar": {
              "outlinewidth": 0,
              "ticks": ""
             }
            },
            "type": "scatterternary"
           }
          ],
          "surface": [
           {
            "colorbar": {
             "outlinewidth": 0,
             "ticks": ""
            },
            "colorscale": [
             [
              0,
              "#0d0887"
             ],
             [
              0.1111111111111111,
              "#46039f"
             ],
             [
              0.2222222222222222,
              "#7201a8"
             ],
             [
              0.3333333333333333,
              "#9c179e"
             ],
             [
              0.4444444444444444,
              "#bd3786"
             ],
             [
              0.5555555555555556,
              "#d8576b"
             ],
             [
              0.6666666666666666,
              "#ed7953"
             ],
             [
              0.7777777777777778,
              "#fb9f3a"
             ],
             [
              0.8888888888888888,
              "#fdca26"
             ],
             [
              1,
              "#f0f921"
             ]
            ],
            "type": "surface"
           }
          ],
          "table": [
           {
            "cells": {
             "fill": {
              "color": "#EBF0F8"
             },
             "line": {
              "color": "white"
             }
            },
            "header": {
             "fill": {
              "color": "#C8D4E3"
             },
             "line": {
              "color": "white"
             }
            },
            "type": "table"
           }
          ]
         },
         "layout": {
          "annotationdefaults": {
           "arrowcolor": "#2a3f5f",
           "arrowhead": 0,
           "arrowwidth": 1
          },
          "autotypenumbers": "strict",
          "coloraxis": {
           "colorbar": {
            "outlinewidth": 0,
            "ticks": ""
           }
          },
          "colorscale": {
           "diverging": [
            [
             0,
             "#8e0152"
            ],
            [
             0.1,
             "#c51b7d"
            ],
            [
             0.2,
             "#de77ae"
            ],
            [
             0.3,
             "#f1b6da"
            ],
            [
             0.4,
             "#fde0ef"
            ],
            [
             0.5,
             "#f7f7f7"
            ],
            [
             0.6,
             "#e6f5d0"
            ],
            [
             0.7,
             "#b8e186"
            ],
            [
             0.8,
             "#7fbc41"
            ],
            [
             0.9,
             "#4d9221"
            ],
            [
             1,
             "#276419"
            ]
           ],
           "sequential": [
            [
             0,
             "#0d0887"
            ],
            [
             0.1111111111111111,
             "#46039f"
            ],
            [
             0.2222222222222222,
             "#7201a8"
            ],
            [
             0.3333333333333333,
             "#9c179e"
            ],
            [
             0.4444444444444444,
             "#bd3786"
            ],
            [
             0.5555555555555556,
             "#d8576b"
            ],
            [
             0.6666666666666666,
             "#ed7953"
            ],
            [
             0.7777777777777778,
             "#fb9f3a"
            ],
            [
             0.8888888888888888,
             "#fdca26"
            ],
            [
             1,
             "#f0f921"
            ]
           ],
           "sequentialminus": [
            [
             0,
             "#0d0887"
            ],
            [
             0.1111111111111111,
             "#46039f"
            ],
            [
             0.2222222222222222,
             "#7201a8"
            ],
            [
             0.3333333333333333,
             "#9c179e"
            ],
            [
             0.4444444444444444,
             "#bd3786"
            ],
            [
             0.5555555555555556,
             "#d8576b"
            ],
            [
             0.6666666666666666,
             "#ed7953"
            ],
            [
             0.7777777777777778,
             "#fb9f3a"
            ],
            [
             0.8888888888888888,
             "#fdca26"
            ],
            [
             1,
             "#f0f921"
            ]
           ]
          },
          "colorway": [
           "#636efa",
           "#EF553B",
           "#00cc96",
           "#ab63fa",
           "#FFA15A",
           "#19d3f3",
           "#FF6692",
           "#B6E880",
           "#FF97FF",
           "#FECB52"
          ],
          "font": {
           "color": "#2a3f5f"
          },
          "geo": {
           "bgcolor": "white",
           "lakecolor": "white",
           "landcolor": "#E5ECF6",
           "showlakes": true,
           "showland": true,
           "subunitcolor": "white"
          },
          "hoverlabel": {
           "align": "left"
          },
          "hovermode": "closest",
          "mapbox": {
           "style": "light"
          },
          "paper_bgcolor": "white",
          "plot_bgcolor": "#E5ECF6",
          "polar": {
           "angularaxis": {
            "gridcolor": "white",
            "linecolor": "white",
            "ticks": ""
           },
           "bgcolor": "#E5ECF6",
           "radialaxis": {
            "gridcolor": "white",
            "linecolor": "white",
            "ticks": ""
           }
          },
          "scene": {
           "xaxis": {
            "backgroundcolor": "#E5ECF6",
            "gridcolor": "white",
            "gridwidth": 2,
            "linecolor": "white",
            "showbackground": true,
            "ticks": "",
            "zerolinecolor": "white"
           },
           "yaxis": {
            "backgroundcolor": "#E5ECF6",
            "gridcolor": "white",
            "gridwidth": 2,
            "linecolor": "white",
            "showbackground": true,
            "ticks": "",
            "zerolinecolor": "white"
           },
           "zaxis": {
            "backgroundcolor": "#E5ECF6",
            "gridcolor": "white",
            "gridwidth": 2,
            "linecolor": "white",
            "showbackground": true,
            "ticks": "",
            "zerolinecolor": "white"
           }
          },
          "shapedefaults": {
           "line": {
            "color": "#2a3f5f"
           }
          },
          "ternary": {
           "aaxis": {
            "gridcolor": "white",
            "linecolor": "white",
            "ticks": ""
           },
           "baxis": {
            "gridcolor": "white",
            "linecolor": "white",
            "ticks": ""
           },
           "bgcolor": "#E5ECF6",
           "caxis": {
            "gridcolor": "white",
            "linecolor": "white",
            "ticks": ""
           }
          },
          "title": {
           "x": 0.05
          },
          "xaxis": {
           "automargin": true,
           "gridcolor": "white",
           "linecolor": "white",
           "ticks": "",
           "title": {
            "standoff": 15
           },
           "zerolinecolor": "white",
           "zerolinewidth": 2
          },
          "yaxis": {
           "automargin": true,
           "gridcolor": "white",
           "linecolor": "white",
           "ticks": "",
           "title": {
            "standoff": 15
           },
           "zerolinecolor": "white",
           "zerolinewidth": 2
          }
         }
        },
        "title": {
         "text": "Customer Segmentation by Order Frequency"
        },
        "xaxis": {
         "anchor": "y",
         "categoryarray": [
          "Medium",
          "Low",
          "High"
         ],
         "categoryorder": "array",
         "domain": [
          0,
          1
         ],
         "title": {
          "text": "customer_segment"
         }
        },
        "yaxis": {
         "anchor": "x",
         "domain": [
          0,
          1
         ],
         "title": {
          "text": "count"
         }
        }
       }
      }
     },
     "metadata": {},
     "output_type": "display_data"
    }
   ],
   "source": [
    "px.histogram(customer_segments, x='customer_segment', color='customer_segment',\n",
    "             title='Customer Segmentation by Order Frequency')\n"
   ]
  },
  {
   "cell_type": "markdown",
   "id": "ff4490b1",
   "metadata": {},
   "source": [
    "## Business Problem 3: Track Repeat and Loyal Customers\n",
    " # EDA:\n",
    "Count distinct purchase days per customer\n",
    "\n",
    "Identify customers who shop repeatedly\n",
    "\n",
    "Join with join date → How long they've been with us"
   ]
  },
  {
   "cell_type": "code",
   "execution_count": 16,
   "id": "6d539bbb",
   "metadata": {},
   "outputs": [
    {
     "data": {
      "text/html": [
       "<div>\n",
       "<style scoped>\n",
       "    .dataframe tbody tr th:only-of-type {\n",
       "        vertical-align: middle;\n",
       "    }\n",
       "\n",
       "    .dataframe tbody tr th {\n",
       "        vertical-align: top;\n",
       "    }\n",
       "\n",
       "    .dataframe thead th {\n",
       "        text-align: right;\n",
       "    }\n",
       "</style>\n",
       "<table border=\"1\" class=\"dataframe\">\n",
       "  <thead>\n",
       "    <tr style=\"text-align: right;\">\n",
       "      <th></th>\n",
       "      <th>customerid</th>\n",
       "      <th>active_days</th>\n",
       "    </tr>\n",
       "  </thead>\n",
       "  <tbody>\n",
       "    <tr>\n",
       "      <th>0</th>\n",
       "      <td>664</td>\n",
       "      <td>14</td>\n",
       "    </tr>\n",
       "    <tr>\n",
       "      <th>1</th>\n",
       "      <td>39</td>\n",
       "      <td>12</td>\n",
       "    </tr>\n",
       "    <tr>\n",
       "      <th>2</th>\n",
       "      <td>99</td>\n",
       "      <td>12</td>\n",
       "    </tr>\n",
       "    <tr>\n",
       "      <th>3</th>\n",
       "      <td>670</td>\n",
       "      <td>12</td>\n",
       "    </tr>\n",
       "    <tr>\n",
       "      <th>4</th>\n",
       "      <td>929</td>\n",
       "      <td>12</td>\n",
       "    </tr>\n",
       "    <tr>\n",
       "      <th>...</th>\n",
       "      <td>...</td>\n",
       "      <td>...</td>\n",
       "    </tr>\n",
       "    <tr>\n",
       "      <th>945</th>\n",
       "      <td>880</td>\n",
       "      <td>2</td>\n",
       "    </tr>\n",
       "    <tr>\n",
       "      <th>946</th>\n",
       "      <td>889</td>\n",
       "      <td>2</td>\n",
       "    </tr>\n",
       "    <tr>\n",
       "      <th>947</th>\n",
       "      <td>950</td>\n",
       "      <td>2</td>\n",
       "    </tr>\n",
       "    <tr>\n",
       "      <th>948</th>\n",
       "      <td>961</td>\n",
       "      <td>2</td>\n",
       "    </tr>\n",
       "    <tr>\n",
       "      <th>949</th>\n",
       "      <td>967</td>\n",
       "      <td>2</td>\n",
       "    </tr>\n",
       "  </tbody>\n",
       "</table>\n",
       "<p>950 rows × 2 columns</p>\n",
       "</div>"
      ],
      "text/plain": [
       "     customerid  active_days\n",
       "0           664           14\n",
       "1            39           12\n",
       "2            99           12\n",
       "3           670           12\n",
       "4           929           12\n",
       "..          ...          ...\n",
       "945         880            2\n",
       "946         889            2\n",
       "947         950            2\n",
       "948         961            2\n",
       "949         967            2\n",
       "\n",
       "[950 rows x 2 columns]"
      ]
     },
     "execution_count": 16,
     "metadata": {},
     "output_type": "execute_result"
    }
   ],
   "source": [
    "# Customers with Multiple Purchase Days\n",
    "query_active_days = \"\"\"\n",
    "SELECT \n",
    "    customerid,\n",
    "    COUNT(DISTINCT DATE(transactiondate)) AS active_days\n",
    "FROM sales\n",
    "GROUP BY customerid\n",
    "HAVING active_days > 1\n",
    "ORDER BY active_days DESC;\n",
    "\"\"\"\n",
    "repeat_customers = pd.read_sql(query_active_days, engine)\n",
    "repeat_customers\n"
   ]
  },
  {
   "cell_type": "code",
   "execution_count": 17,
   "id": "887e5328",
   "metadata": {},
   "outputs": [
    {
     "data": {
      "application/vnd.plotly.v1+json": {
       "config": {
        "plotlyServerURL": "https://plot.ly"
       },
       "data": [
        {
         "bingroup": "x",
         "hovertemplate": "active_days=%{x}<br>count=%{y}<extra></extra>",
         "legendgroup": "",
         "marker": {
          "color": "#636efa",
          "pattern": {
           "shape": ""
          }
         },
         "name": "",
         "nbinsx": 20,
         "orientation": "v",
         "showlegend": false,
         "type": "histogram",
         "x": {
          "bdata": "DgwMDAwMCwsLCwsLCwsLCwsLCgoKCgoKCgoKCgoKCgoKCgoKCQkJCQkJCQkJCQkJCQkJCQkJCQkJCQkJCQkJCQkJCQkJCQkJCAgICAgICAgICAgICAgICAgICAgICAgICAgICAgICAgICAgICAgICAgICAgICAgICAgICAgICAgICAgICAgICAgIBwcHBwcHBwcHBwcHBwcHBwcHBwcHBwcHBwcHBwcHBwcHBwcHBwcHBwcHBwcHBwcHBwcHBwcHBwcHBwcHBwcHBwcHBwcHBwcHBwcHBwcHBwcHBwcHBwcHBwcHBwcHBwcHBwcHBgYGBgYGBgYGBgYGBgYGBgYGBgYGBgYGBgYGBgYGBgYGBgYGBgYGBgYGBgYGBgYGBgYGBgYGBgYGBgYGBgYGBgYGBgYGBgYGBgYGBgYGBgYGBgYGBgYGBgYGBgYGBgYGBgYGBgYGBgYGBgYGBgYGBgYGBgYGBgYGBgYGBgYGBgYGBgYGBgYGBgYGBgYGBgYGBgYGBgYGBgYFBQUFBQUFBQUFBQUFBQUFBQUFBQUFBQUFBQUFBQUFBQUFBQUFBQUFBQUFBQUFBQUFBQUFBQUFBQUFBQUFBQUFBQUFBQUFBQUFBQUFBQUFBQUFBQUFBQUFBQUFBQUFBQUFBQUFBQUFBQUFBQUFBQUFBQUFBQUFBQUFBQUFBQUFBQUFBQUFBQUFBQUFBQUFBQUFBQUFBQUFBAQEBAQEBAQEBAQEBAQEBAQEBAQEBAQEBAQEBAQEBAQEBAQEBAQEBAQEBAQEBAQEBAQEBAQEBAQEBAQEBAQEBAQEBAQEBAQEBAQEBAQEBAQEBAQEBAQEBAQEBAQEBAQEBAQEBAQEBAQEBAQEBAQEBAQEBAQEBAQEBAQEBAQEBAQEBAQEBAQEBAQEBAQEBAQEBAQEBAQEBAQEBAQEBAQEBAQEBAQEBAMDAwMDAwMDAwMDAwMDAwMDAwMDAwMDAwMDAwMDAwMDAwMDAwMDAwMDAwMDAwMDAwMDAwMDAwMDAwMDAwMDAwMDAwMDAwMDAwMDAwMDAwMDAwMDAwMDAwMDAwMDAwMDAwMDAwMDAwMDAwMDAwMDAwMDAwMDAwMDAwMDAwMDAwMDAwMDAwMDAwMDAwMDAwMDAwMDAwMDAwICAgICAgICAgICAgICAgICAgICAgICAgICAgICAgICAgICAgICAgICAgICAgICAgICAgICAgICAgICAgICAgICAgICAgICAgICAgICAgICAgICAgICAgICAgICAgI=",
          "dtype": "i1"
         },
         "xaxis": "x",
         "yaxis": "y"
        }
       ],
       "layout": {
        "barmode": "relative",
        "legend": {
         "tracegroupgap": 0
        },
        "template": {
         "data": {
          "bar": [
           {
            "error_x": {
             "color": "#2a3f5f"
            },
            "error_y": {
             "color": "#2a3f5f"
            },
            "marker": {
             "line": {
              "color": "#E5ECF6",
              "width": 0.5
             },
             "pattern": {
              "fillmode": "overlay",
              "size": 10,
              "solidity": 0.2
             }
            },
            "type": "bar"
           }
          ],
          "barpolar": [
           {
            "marker": {
             "line": {
              "color": "#E5ECF6",
              "width": 0.5
             },
             "pattern": {
              "fillmode": "overlay",
              "size": 10,
              "solidity": 0.2
             }
            },
            "type": "barpolar"
           }
          ],
          "carpet": [
           {
            "aaxis": {
             "endlinecolor": "#2a3f5f",
             "gridcolor": "white",
             "linecolor": "white",
             "minorgridcolor": "white",
             "startlinecolor": "#2a3f5f"
            },
            "baxis": {
             "endlinecolor": "#2a3f5f",
             "gridcolor": "white",
             "linecolor": "white",
             "minorgridcolor": "white",
             "startlinecolor": "#2a3f5f"
            },
            "type": "carpet"
           }
          ],
          "choropleth": [
           {
            "colorbar": {
             "outlinewidth": 0,
             "ticks": ""
            },
            "type": "choropleth"
           }
          ],
          "contour": [
           {
            "colorbar": {
             "outlinewidth": 0,
             "ticks": ""
            },
            "colorscale": [
             [
              0,
              "#0d0887"
             ],
             [
              0.1111111111111111,
              "#46039f"
             ],
             [
              0.2222222222222222,
              "#7201a8"
             ],
             [
              0.3333333333333333,
              "#9c179e"
             ],
             [
              0.4444444444444444,
              "#bd3786"
             ],
             [
              0.5555555555555556,
              "#d8576b"
             ],
             [
              0.6666666666666666,
              "#ed7953"
             ],
             [
              0.7777777777777778,
              "#fb9f3a"
             ],
             [
              0.8888888888888888,
              "#fdca26"
             ],
             [
              1,
              "#f0f921"
             ]
            ],
            "type": "contour"
           }
          ],
          "contourcarpet": [
           {
            "colorbar": {
             "outlinewidth": 0,
             "ticks": ""
            },
            "type": "contourcarpet"
           }
          ],
          "heatmap": [
           {
            "colorbar": {
             "outlinewidth": 0,
             "ticks": ""
            },
            "colorscale": [
             [
              0,
              "#0d0887"
             ],
             [
              0.1111111111111111,
              "#46039f"
             ],
             [
              0.2222222222222222,
              "#7201a8"
             ],
             [
              0.3333333333333333,
              "#9c179e"
             ],
             [
              0.4444444444444444,
              "#bd3786"
             ],
             [
              0.5555555555555556,
              "#d8576b"
             ],
             [
              0.6666666666666666,
              "#ed7953"
             ],
             [
              0.7777777777777778,
              "#fb9f3a"
             ],
             [
              0.8888888888888888,
              "#fdca26"
             ],
             [
              1,
              "#f0f921"
             ]
            ],
            "type": "heatmap"
           }
          ],
          "histogram": [
           {
            "marker": {
             "pattern": {
              "fillmode": "overlay",
              "size": 10,
              "solidity": 0.2
             }
            },
            "type": "histogram"
           }
          ],
          "histogram2d": [
           {
            "colorbar": {
             "outlinewidth": 0,
             "ticks": ""
            },
            "colorscale": [
             [
              0,
              "#0d0887"
             ],
             [
              0.1111111111111111,
              "#46039f"
             ],
             [
              0.2222222222222222,
              "#7201a8"
             ],
             [
              0.3333333333333333,
              "#9c179e"
             ],
             [
              0.4444444444444444,
              "#bd3786"
             ],
             [
              0.5555555555555556,
              "#d8576b"
             ],
             [
              0.6666666666666666,
              "#ed7953"
             ],
             [
              0.7777777777777778,
              "#fb9f3a"
             ],
             [
              0.8888888888888888,
              "#fdca26"
             ],
             [
              1,
              "#f0f921"
             ]
            ],
            "type": "histogram2d"
           }
          ],
          "histogram2dcontour": [
           {
            "colorbar": {
             "outlinewidth": 0,
             "ticks": ""
            },
            "colorscale": [
             [
              0,
              "#0d0887"
             ],
             [
              0.1111111111111111,
              "#46039f"
             ],
             [
              0.2222222222222222,
              "#7201a8"
             ],
             [
              0.3333333333333333,
              "#9c179e"
             ],
             [
              0.4444444444444444,
              "#bd3786"
             ],
             [
              0.5555555555555556,
              "#d8576b"
             ],
             [
              0.6666666666666666,
              "#ed7953"
             ],
             [
              0.7777777777777778,
              "#fb9f3a"
             ],
             [
              0.8888888888888888,
              "#fdca26"
             ],
             [
              1,
              "#f0f921"
             ]
            ],
            "type": "histogram2dcontour"
           }
          ],
          "mesh3d": [
           {
            "colorbar": {
             "outlinewidth": 0,
             "ticks": ""
            },
            "type": "mesh3d"
           }
          ],
          "parcoords": [
           {
            "line": {
             "colorbar": {
              "outlinewidth": 0,
              "ticks": ""
             }
            },
            "type": "parcoords"
           }
          ],
          "pie": [
           {
            "automargin": true,
            "type": "pie"
           }
          ],
          "scatter": [
           {
            "fillpattern": {
             "fillmode": "overlay",
             "size": 10,
             "solidity": 0.2
            },
            "type": "scatter"
           }
          ],
          "scatter3d": [
           {
            "line": {
             "colorbar": {
              "outlinewidth": 0,
              "ticks": ""
             }
            },
            "marker": {
             "colorbar": {
              "outlinewidth": 0,
              "ticks": ""
             }
            },
            "type": "scatter3d"
           }
          ],
          "scattercarpet": [
           {
            "marker": {
             "colorbar": {
              "outlinewidth": 0,
              "ticks": ""
             }
            },
            "type": "scattercarpet"
           }
          ],
          "scattergeo": [
           {
            "marker": {
             "colorbar": {
              "outlinewidth": 0,
              "ticks": ""
             }
            },
            "type": "scattergeo"
           }
          ],
          "scattergl": [
           {
            "marker": {
             "colorbar": {
              "outlinewidth": 0,
              "ticks": ""
             }
            },
            "type": "scattergl"
           }
          ],
          "scattermap": [
           {
            "marker": {
             "colorbar": {
              "outlinewidth": 0,
              "ticks": ""
             }
            },
            "type": "scattermap"
           }
          ],
          "scattermapbox": [
           {
            "marker": {
             "colorbar": {
              "outlinewidth": 0,
              "ticks": ""
             }
            },
            "type": "scattermapbox"
           }
          ],
          "scatterpolar": [
           {
            "marker": {
             "colorbar": {
              "outlinewidth": 0,
              "ticks": ""
             }
            },
            "type": "scatterpolar"
           }
          ],
          "scatterpolargl": [
           {
            "marker": {
             "colorbar": {
              "outlinewidth": 0,
              "ticks": ""
             }
            },
            "type": "scatterpolargl"
           }
          ],
          "scatterternary": [
           {
            "marker": {
             "colorbar": {
              "outlinewidth": 0,
              "ticks": ""
             }
            },
            "type": "scatterternary"
           }
          ],
          "surface": [
           {
            "colorbar": {
             "outlinewidth": 0,
             "ticks": ""
            },
            "colorscale": [
             [
              0,
              "#0d0887"
             ],
             [
              0.1111111111111111,
              "#46039f"
             ],
             [
              0.2222222222222222,
              "#7201a8"
             ],
             [
              0.3333333333333333,
              "#9c179e"
             ],
             [
              0.4444444444444444,
              "#bd3786"
             ],
             [
              0.5555555555555556,
              "#d8576b"
             ],
             [
              0.6666666666666666,
              "#ed7953"
             ],
             [
              0.7777777777777778,
              "#fb9f3a"
             ],
             [
              0.8888888888888888,
              "#fdca26"
             ],
             [
              1,
              "#f0f921"
             ]
            ],
            "type": "surface"
           }
          ],
          "table": [
           {
            "cells": {
             "fill": {
              "color": "#EBF0F8"
             },
             "line": {
              "color": "white"
             }
            },
            "header": {
             "fill": {
              "color": "#C8D4E3"
             },
             "line": {
              "color": "white"
             }
            },
            "type": "table"
           }
          ]
         },
         "layout": {
          "annotationdefaults": {
           "arrowcolor": "#2a3f5f",
           "arrowhead": 0,
           "arrowwidth": 1
          },
          "autotypenumbers": "strict",
          "coloraxis": {
           "colorbar": {
            "outlinewidth": 0,
            "ticks": ""
           }
          },
          "colorscale": {
           "diverging": [
            [
             0,
             "#8e0152"
            ],
            [
             0.1,
             "#c51b7d"
            ],
            [
             0.2,
             "#de77ae"
            ],
            [
             0.3,
             "#f1b6da"
            ],
            [
             0.4,
             "#fde0ef"
            ],
            [
             0.5,
             "#f7f7f7"
            ],
            [
             0.6,
             "#e6f5d0"
            ],
            [
             0.7,
             "#b8e186"
            ],
            [
             0.8,
             "#7fbc41"
            ],
            [
             0.9,
             "#4d9221"
            ],
            [
             1,
             "#276419"
            ]
           ],
           "sequential": [
            [
             0,
             "#0d0887"
            ],
            [
             0.1111111111111111,
             "#46039f"
            ],
            [
             0.2222222222222222,
             "#7201a8"
            ],
            [
             0.3333333333333333,
             "#9c179e"
            ],
            [
             0.4444444444444444,
             "#bd3786"
            ],
            [
             0.5555555555555556,
             "#d8576b"
            ],
            [
             0.6666666666666666,
             "#ed7953"
            ],
            [
             0.7777777777777778,
             "#fb9f3a"
            ],
            [
             0.8888888888888888,
             "#fdca26"
            ],
            [
             1,
             "#f0f921"
            ]
           ],
           "sequentialminus": [
            [
             0,
             "#0d0887"
            ],
            [
             0.1111111111111111,
             "#46039f"
            ],
            [
             0.2222222222222222,
             "#7201a8"
            ],
            [
             0.3333333333333333,
             "#9c179e"
            ],
            [
             0.4444444444444444,
             "#bd3786"
            ],
            [
             0.5555555555555556,
             "#d8576b"
            ],
            [
             0.6666666666666666,
             "#ed7953"
            ],
            [
             0.7777777777777778,
             "#fb9f3a"
            ],
            [
             0.8888888888888888,
             "#fdca26"
            ],
            [
             1,
             "#f0f921"
            ]
           ]
          },
          "colorway": [
           "#636efa",
           "#EF553B",
           "#00cc96",
           "#ab63fa",
           "#FFA15A",
           "#19d3f3",
           "#FF6692",
           "#B6E880",
           "#FF97FF",
           "#FECB52"
          ],
          "font": {
           "color": "#2a3f5f"
          },
          "geo": {
           "bgcolor": "white",
           "lakecolor": "white",
           "landcolor": "#E5ECF6",
           "showlakes": true,
           "showland": true,
           "subunitcolor": "white"
          },
          "hoverlabel": {
           "align": "left"
          },
          "hovermode": "closest",
          "mapbox": {
           "style": "light"
          },
          "paper_bgcolor": "white",
          "plot_bgcolor": "#E5ECF6",
          "polar": {
           "angularaxis": {
            "gridcolor": "white",
            "linecolor": "white",
            "ticks": ""
           },
           "bgcolor": "#E5ECF6",
           "radialaxis": {
            "gridcolor": "white",
            "linecolor": "white",
            "ticks": ""
           }
          },
          "scene": {
           "xaxis": {
            "backgroundcolor": "#E5ECF6",
            "gridcolor": "white",
            "gridwidth": 2,
            "linecolor": "white",
            "showbackground": true,
            "ticks": "",
            "zerolinecolor": "white"
           },
           "yaxis": {
            "backgroundcolor": "#E5ECF6",
            "gridcolor": "white",
            "gridwidth": 2,
            "linecolor": "white",
            "showbackground": true,
            "ticks": "",
            "zerolinecolor": "white"
           },
           "zaxis": {
            "backgroundcolor": "#E5ECF6",
            "gridcolor": "white",
            "gridwidth": 2,
            "linecolor": "white",
            "showbackground": true,
            "ticks": "",
            "zerolinecolor": "white"
           }
          },
          "shapedefaults": {
           "line": {
            "color": "#2a3f5f"
           }
          },
          "ternary": {
           "aaxis": {
            "gridcolor": "white",
            "linecolor": "white",
            "ticks": ""
           },
           "baxis": {
            "gridcolor": "white",
            "linecolor": "white",
            "ticks": ""
           },
           "bgcolor": "#E5ECF6",
           "caxis": {
            "gridcolor": "white",
            "linecolor": "white",
            "ticks": ""
           }
          },
          "title": {
           "x": 0.05
          },
          "xaxis": {
           "automargin": true,
           "gridcolor": "white",
           "linecolor": "white",
           "ticks": "",
           "title": {
            "standoff": 15
           },
           "zerolinecolor": "white",
           "zerolinewidth": 2
          },
          "yaxis": {
           "automargin": true,
           "gridcolor": "white",
           "linecolor": "white",
           "ticks": "",
           "title": {
            "standoff": 15
           },
           "zerolinecolor": "white",
           "zerolinewidth": 2
          }
         }
        },
        "title": {
         "text": "Distribution of Repeat Customer Active Days"
        },
        "xaxis": {
         "anchor": "y",
         "domain": [
          0,
          1
         ],
         "title": {
          "text": "active_days"
         }
        },
        "yaxis": {
         "anchor": "x",
         "domain": [
          0,
          1
         ],
         "title": {
          "text": "count"
         }
        }
       }
      }
     },
     "metadata": {},
     "output_type": "display_data"
    }
   ],
   "source": [
    "px.histogram(repeat_customers, x='active_days', nbins=20, \n",
    "             title='Distribution of Repeat Customer Active Days')\n"
   ]
  },
  {
   "cell_type": "code",
   "execution_count": 18,
   "id": "80958642",
   "metadata": {},
   "outputs": [
    {
     "data": {
      "text/html": [
       "<div>\n",
       "<style scoped>\n",
       "    .dataframe tbody tr th:only-of-type {\n",
       "        vertical-align: middle;\n",
       "    }\n",
       "\n",
       "    .dataframe tbody tr th {\n",
       "        vertical-align: top;\n",
       "    }\n",
       "\n",
       "    .dataframe thead th {\n",
       "        text-align: right;\n",
       "    }\n",
       "</style>\n",
       "<table border=\"1\" class=\"dataframe\">\n",
       "  <thead>\n",
       "    <tr style=\"text-align: right;\">\n",
       "      <th></th>\n",
       "      <th>customerid</th>\n",
       "      <th>days_active</th>\n",
       "      <th>total_orders</th>\n",
       "    </tr>\n",
       "  </thead>\n",
       "  <tbody>\n",
       "    <tr>\n",
       "      <th>0</th>\n",
       "      <td>103</td>\n",
       "      <td>1203</td>\n",
       "      <td>5</td>\n",
       "    </tr>\n",
       "    <tr>\n",
       "      <th>1</th>\n",
       "      <td>436</td>\n",
       "      <td>833</td>\n",
       "      <td>7</td>\n",
       "    </tr>\n",
       "    <tr>\n",
       "      <th>2</th>\n",
       "      <td>861</td>\n",
       "      <td>496</td>\n",
       "      <td>5</td>\n",
       "    </tr>\n",
       "    <tr>\n",
       "      <th>3</th>\n",
       "      <td>271</td>\n",
       "      <td>1107</td>\n",
       "      <td>4</td>\n",
       "    </tr>\n",
       "    <tr>\n",
       "      <th>4</th>\n",
       "      <td>107</td>\n",
       "      <td>1320</td>\n",
       "      <td>5</td>\n",
       "    </tr>\n",
       "    <tr>\n",
       "      <th>...</th>\n",
       "      <td>...</td>\n",
       "      <td>...</td>\n",
       "      <td>...</td>\n",
       "    </tr>\n",
       "    <tr>\n",
       "      <th>984</th>\n",
       "      <td>487</td>\n",
       "      <td>763</td>\n",
       "      <td>1</td>\n",
       "    </tr>\n",
       "    <tr>\n",
       "      <th>985</th>\n",
       "      <td>810</td>\n",
       "      <td>413</td>\n",
       "      <td>1</td>\n",
       "    </tr>\n",
       "    <tr>\n",
       "      <th>986</th>\n",
       "      <td>355</td>\n",
       "      <td>914</td>\n",
       "      <td>1</td>\n",
       "    </tr>\n",
       "    <tr>\n",
       "      <th>987</th>\n",
       "      <td>45</td>\n",
       "      <td>1255</td>\n",
       "      <td>1</td>\n",
       "    </tr>\n",
       "    <tr>\n",
       "      <th>988</th>\n",
       "      <td>528</td>\n",
       "      <td>930</td>\n",
       "      <td>1</td>\n",
       "    </tr>\n",
       "  </tbody>\n",
       "</table>\n",
       "<p>989 rows × 3 columns</p>\n",
       "</div>"
      ],
      "text/plain": [
       "     customerid  days_active  total_orders\n",
       "0           103         1203             5\n",
       "1           436          833             7\n",
       "2           861          496             5\n",
       "3           271         1107             4\n",
       "4           107         1320             5\n",
       "..          ...          ...           ...\n",
       "984         487          763             1\n",
       "985         810          413             1\n",
       "986         355          914             1\n",
       "987          45         1255             1\n",
       "988         528          930             1\n",
       "\n",
       "[989 rows x 3 columns]"
      ]
     },
     "execution_count": 18,
     "metadata": {},
     "output_type": "execute_result"
    }
   ],
   "source": [
    "# Loyalty Based on Membership Duration\n",
    "query_loyalty = \"\"\"\n",
    "SELECT \n",
    "    c.customerid,\n",
    "    DATEDIFF(MAX(s.transactiondate), c.joindate) AS days_active,\n",
    "    COUNT(s.transactionid) AS total_orders\n",
    "FROM customers c\n",
    "JOIN sales s ON c.customerid = s.customerid\n",
    "GROUP BY c.customerid, c.joindate;\n",
    "\"\"\"\n",
    "\n",
    "loyalty_df = pd.read_sql(query_loyalty, engine)\n",
    "loyalty_df\n"
   ]
  },
  {
   "cell_type": "code",
   "execution_count": 19,
   "id": "62c09590",
   "metadata": {},
   "outputs": [
    {
     "data": {
      "application/vnd.plotly.v1+json": {
       "config": {
        "plotlyServerURL": "https://plot.ly"
       },
       "data": [
        {
         "hovertemplate": "days_active=%{x}<br>total_orders=%{y}<extra></extra>",
         "legendgroup": "",
         "marker": {
          "color": "#636efa",
          "symbol": "circle"
         },
         "mode": "markers",
         "name": "",
         "orientation": "v",
         "showlegend": false,
         "type": "scatter",
         "x": {
          "bdata": "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",
          "dtype": "i2"
         },
         "xaxis": "x",
         "y": {
          "bdata": "BQcFBAUEBgcDBgcEAwcEBQMIDggJBAcJBQcICQYKCwoHBwcIBgUHBAUIBgsIBQcJDAcIBgQEBQYJBgMCBQQDBQQECAQHAwMDBgQJBAQLCAcEBQUGBgQGBggKCQUFBQYHBgQGAgYFBAsCBAcHBAcGAwYFBQcJCQgFCQUFBwYCBgYLAwcEBQQGBQcKBAMHCAYCCQoEBgMDBAgHBAoMBAgGCAIICwQGBQcGBAUEBwQCCgcEBggGBAIGBAcGBwIDBAUHBAUHBgUFBggHCAYHBgUGBgYGBgYJBAYGCAMDCgMDBQUGCgUKBQwDCgYLBAUGBgYFCgMHCAMHCQUDBAIFBQIKBAUJBAgFBAQFBwQIAwQBCQYHCAUHBgQHBQwMBwUKCAYEAwgDAwQFBgsEBQkCBgUDCwQDBAUHBwYDBgkHCAcJAwUEBgUBBwcFBgUGBAUGCQMGBAwDAwgEAwgFAwQFCAYECAcDBAMKAQUGBAUFBAcEBQYCBQUEBQQIBgYJBAMGBAMEAwwIBAkCCgUKBgcKBwMFBgMFBwUCCQYGBgUDAQgIBgIGCAcIAwgJBgYCBAIGCAgIBgQFBgkCBwQGBQcGCQMFBAQDAQULBAYCBQgKAgcHBwEEBwYFBgMGBgMFAwkGAwUGAwcBBgUDBAYGBggKAwYFBgQJBQQEBQULAgcEBwsDBQQIBgcEBAUFCAQFAgcEBAcJBAMEAwYECQUCAwgHBQMGBgMEBAYIAgMEBAMFBQcKBwcCAQYJBQcFBQQGAgYDBgMHAwYJBgEFBwMIBwIGBggGBgoIBQIFAgcFBAQFBgMHAwMGBggECAYHBgYFBQYDAwcFBgEFAgQDBgIDBgMFBQIEBAIGCAYFBQQFBQcGAwIDBwYHAwUCAgcIBAcGBQQEAwMFBQIIBAcIAgUDBwMFBAIICgQHBAgHBgQECAEDBQEFCAYBBgUFBwMGAQICAgMCBgkEAwMDBwgDAgUECAQFAwUGBwUFBAQFBQUHBAQGBQMDBQMDBwMGCAICBQMEAgYGBAYIAQYGAgYEAgUHBAUGCAYCBAQCBQcDCgUCAgQEBQMCBQQEAwUFAQYDBAIGAwgEBAMDAwYIBAIDAwQIAwcDBgUEAwYDBgMFAwMFBwgCAwMDAwcDAgQCBQUHAgUDBAQFBAMHAgQIBAQBAwMFBgcDBgECBQYFAgIFBAQDAgIEAwUEBgIEAgIDAgMDBAECAwUCAwMFAwMEAQMCBAYDBgQEAQIDBgQDBAQCAgMCBwICAwUEAgQDAgQEAQMDBgICAwMCBAEBAgICAQMDAQIFAwMDAQMCAQEBAgEBAQMBAQEBAQE=",
          "dtype": "i1"
         },
         "yaxis": "y"
        },
        {
         "hovertemplate": "<b>OLS trendline</b><br>total_orders = 0.000407261 * days_active + 4.73763<br>R<sup>2</sup>=0.003167<br><br>days_active=%{x}<br>total_orders=%{y} <b>(trend)</b><extra></extra>",
         "legendgroup": "",
         "marker": {
          "color": "#636efa",
          "symbol": "circle"
         },
         "mode": "lines",
         "name": "",
         "showlegend": false,
         "type": "scatter",
         "x": {
          "bdata": "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",
          "dtype": "i2"
         },
         "xaxis": "x",
         "y": {
          "bdata": "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",
          "dtype": "f8"
         },
         "yaxis": "y"
        }
       ],
       "layout": {
        "legend": {
         "tracegroupgap": 0
        },
        "template": {
         "data": {
          "bar": [
           {
            "error_x": {
             "color": "#2a3f5f"
            },
            "error_y": {
             "color": "#2a3f5f"
            },
            "marker": {
             "line": {
              "color": "#E5ECF6",
              "width": 0.5
             },
             "pattern": {
              "fillmode": "overlay",
              "size": 10,
              "solidity": 0.2
             }
            },
            "type": "bar"
           }
          ],
          "barpolar": [
           {
            "marker": {
             "line": {
              "color": "#E5ECF6",
              "width": 0.5
             },
             "pattern": {
              "fillmode": "overlay",
              "size": 10,
              "solidity": 0.2
             }
            },
            "type": "barpolar"
           }
          ],
          "carpet": [
           {
            "aaxis": {
             "endlinecolor": "#2a3f5f",
             "gridcolor": "white",
             "linecolor": "white",
             "minorgridcolor": "white",
             "startlinecolor": "#2a3f5f"
            },
            "baxis": {
             "endlinecolor": "#2a3f5f",
             "gridcolor": "white",
             "linecolor": "white",
             "minorgridcolor": "white",
             "startlinecolor": "#2a3f5f"
            },
            "type": "carpet"
           }
          ],
          "choropleth": [
           {
            "colorbar": {
             "outlinewidth": 0,
             "ticks": ""
            },
            "type": "choropleth"
           }
          ],
          "contour": [
           {
            "colorbar": {
             "outlinewidth": 0,
             "ticks": ""
            },
            "colorscale": [
             [
              0,
              "#0d0887"
             ],
             [
              0.1111111111111111,
              "#46039f"
             ],
             [
              0.2222222222222222,
              "#7201a8"
             ],
             [
              0.3333333333333333,
              "#9c179e"
             ],
             [
              0.4444444444444444,
              "#bd3786"
             ],
             [
              0.5555555555555556,
              "#d8576b"
             ],
             [
              0.6666666666666666,
              "#ed7953"
             ],
             [
              0.7777777777777778,
              "#fb9f3a"
             ],
             [
              0.8888888888888888,
              "#fdca26"
             ],
             [
              1,
              "#f0f921"
             ]
            ],
            "type": "contour"
           }
          ],
          "contourcarpet": [
           {
            "colorbar": {
             "outlinewidth": 0,
             "ticks": ""
            },
            "type": "contourcarpet"
           }
          ],
          "heatmap": [
           {
            "colorbar": {
             "outlinewidth": 0,
             "ticks": ""
            },
            "colorscale": [
             [
              0,
              "#0d0887"
             ],
             [
              0.1111111111111111,
              "#46039f"
             ],
             [
              0.2222222222222222,
              "#7201a8"
             ],
             [
              0.3333333333333333,
              "#9c179e"
             ],
             [
              0.4444444444444444,
              "#bd3786"
             ],
             [
              0.5555555555555556,
              "#d8576b"
             ],
             [
              0.6666666666666666,
              "#ed7953"
             ],
             [
              0.7777777777777778,
              "#fb9f3a"
             ],
             [
              0.8888888888888888,
              "#fdca26"
             ],
             [
              1,
              "#f0f921"
             ]
            ],
            "type": "heatmap"
           }
          ],
          "histogram": [
           {
            "marker": {
             "pattern": {
              "fillmode": "overlay",
              "size": 10,
              "solidity": 0.2
             }
            },
            "type": "histogram"
           }
          ],
          "histogram2d": [
           {
            "colorbar": {
             "outlinewidth": 0,
             "ticks": ""
            },
            "colorscale": [
             [
              0,
              "#0d0887"
             ],
             [
              0.1111111111111111,
              "#46039f"
             ],
             [
              0.2222222222222222,
              "#7201a8"
             ],
             [
              0.3333333333333333,
              "#9c179e"
             ],
             [
              0.4444444444444444,
              "#bd3786"
             ],
             [
              0.5555555555555556,
              "#d8576b"
             ],
             [
              0.6666666666666666,
              "#ed7953"
             ],
             [
              0.7777777777777778,
              "#fb9f3a"
             ],
             [
              0.8888888888888888,
              "#fdca26"
             ],
             [
              1,
              "#f0f921"
             ]
            ],
            "type": "histogram2d"
           }
          ],
          "histogram2dcontour": [
           {
            "colorbar": {
             "outlinewidth": 0,
             "ticks": ""
            },
            "colorscale": [
             [
              0,
              "#0d0887"
             ],
             [
              0.1111111111111111,
              "#46039f"
             ],
             [
              0.2222222222222222,
              "#7201a8"
             ],
             [
              0.3333333333333333,
              "#9c179e"
             ],
             [
              0.4444444444444444,
              "#bd3786"
             ],
             [
              0.5555555555555556,
              "#d8576b"
             ],
             [
              0.6666666666666666,
              "#ed7953"
             ],
             [
              0.7777777777777778,
              "#fb9f3a"
             ],
             [
              0.8888888888888888,
              "#fdca26"
             ],
             [
              1,
              "#f0f921"
             ]
            ],
            "type": "histogram2dcontour"
           }
          ],
          "mesh3d": [
           {
            "colorbar": {
             "outlinewidth": 0,
             "ticks": ""
            },
            "type": "mesh3d"
           }
          ],
          "parcoords": [
           {
            "line": {
             "colorbar": {
              "outlinewidth": 0,
              "ticks": ""
             }
            },
            "type": "parcoords"
           }
          ],
          "pie": [
           {
            "automargin": true,
            "type": "pie"
           }
          ],
          "scatter": [
           {
            "fillpattern": {
             "fillmode": "overlay",
             "size": 10,
             "solidity": 0.2
            },
            "type": "scatter"
           }
          ],
          "scatter3d": [
           {
            "line": {
             "colorbar": {
              "outlinewidth": 0,
              "ticks": ""
             }
            },
            "marker": {
             "colorbar": {
              "outlinewidth": 0,
              "ticks": ""
             }
            },
            "type": "scatter3d"
           }
          ],
          "scattercarpet": [
           {
            "marker": {
             "colorbar": {
              "outlinewidth": 0,
              "ticks": ""
             }
            },
            "type": "scattercarpet"
           }
          ],
          "scattergeo": [
           {
            "marker": {
             "colorbar": {
              "outlinewidth": 0,
              "ticks": ""
             }
            },
            "type": "scattergeo"
           }
          ],
          "scattergl": [
           {
            "marker": {
             "colorbar": {
              "outlinewidth": 0,
              "ticks": ""
             }
            },
            "type": "scattergl"
           }
          ],
          "scattermap": [
           {
            "marker": {
             "colorbar": {
              "outlinewidth": 0,
              "ticks": ""
             }
            },
            "type": "scattermap"
           }
          ],
          "scattermapbox": [
           {
            "marker": {
             "colorbar": {
              "outlinewidth": 0,
              "ticks": ""
             }
            },
            "type": "scattermapbox"
           }
          ],
          "scatterpolar": [
           {
            "marker": {
             "colorbar": {
              "outlinewidth": 0,
              "ticks": ""
             }
            },
            "type": "scatterpolar"
           }
          ],
          "scatterpolargl": [
           {
            "marker": {
             "colorbar": {
              "outlinewidth": 0,
              "ticks": ""
             }
            },
            "type": "scatterpolargl"
           }
          ],
          "scatterternary": [
           {
            "marker": {
             "colorbar": {
              "outlinewidth": 0,
              "ticks": ""
             }
            },
            "type": "scatterternary"
           }
          ],
          "surface": [
           {
            "colorbar": {
             "outlinewidth": 0,
             "ticks": ""
            },
            "colorscale": [
             [
              0,
              "#0d0887"
             ],
             [
              0.1111111111111111,
              "#46039f"
             ],
             [
              0.2222222222222222,
              "#7201a8"
             ],
             [
              0.3333333333333333,
              "#9c179e"
             ],
             [
              0.4444444444444444,
              "#bd3786"
             ],
             [
              0.5555555555555556,
              "#d8576b"
             ],
             [
              0.6666666666666666,
              "#ed7953"
             ],
             [
              0.7777777777777778,
              "#fb9f3a"
             ],
             [
              0.8888888888888888,
              "#fdca26"
             ],
             [
              1,
              "#f0f921"
             ]
            ],
            "type": "surface"
           }
          ],
          "table": [
           {
            "cells": {
             "fill": {
              "color": "#EBF0F8"
             },
             "line": {
              "color": "white"
             }
            },
            "header": {
             "fill": {
              "color": "#C8D4E3"
             },
             "line": {
              "color": "white"
             }
            },
            "type": "table"
           }
          ]
         },
         "layout": {
          "annotationdefaults": {
           "arrowcolor": "#2a3f5f",
           "arrowhead": 0,
           "arrowwidth": 1
          },
          "autotypenumbers": "strict",
          "coloraxis": {
           "colorbar": {
            "outlinewidth": 0,
            "ticks": ""
           }
          },
          "colorscale": {
           "diverging": [
            [
             0,
             "#8e0152"
            ],
            [
             0.1,
             "#c51b7d"
            ],
            [
             0.2,
             "#de77ae"
            ],
            [
             0.3,
             "#f1b6da"
            ],
            [
             0.4,
             "#fde0ef"
            ],
            [
             0.5,
             "#f7f7f7"
            ],
            [
             0.6,
             "#e6f5d0"
            ],
            [
             0.7,
             "#b8e186"
            ],
            [
             0.8,
             "#7fbc41"
            ],
            [
             0.9,
             "#4d9221"
            ],
            [
             1,
             "#276419"
            ]
           ],
           "sequential": [
            [
             0,
             "#0d0887"
            ],
            [
             0.1111111111111111,
             "#46039f"
            ],
            [
             0.2222222222222222,
             "#7201a8"
            ],
            [
             0.3333333333333333,
             "#9c179e"
            ],
            [
             0.4444444444444444,
             "#bd3786"
            ],
            [
             0.5555555555555556,
             "#d8576b"
            ],
            [
             0.6666666666666666,
             "#ed7953"
            ],
            [
             0.7777777777777778,
             "#fb9f3a"
            ],
            [
             0.8888888888888888,
             "#fdca26"
            ],
            [
             1,
             "#f0f921"
            ]
           ],
           "sequentialminus": [
            [
             0,
             "#0d0887"
            ],
            [
             0.1111111111111111,
             "#46039f"
            ],
            [
             0.2222222222222222,
             "#7201a8"
            ],
            [
             0.3333333333333333,
             "#9c179e"
            ],
            [
             0.4444444444444444,
             "#bd3786"
            ],
            [
             0.5555555555555556,
             "#d8576b"
            ],
            [
             0.6666666666666666,
             "#ed7953"
            ],
            [
             0.7777777777777778,
             "#fb9f3a"
            ],
            [
             0.8888888888888888,
             "#fdca26"
            ],
            [
             1,
             "#f0f921"
            ]
           ]
          },
          "colorway": [
           "#636efa",
           "#EF553B",
           "#00cc96",
           "#ab63fa",
           "#FFA15A",
           "#19d3f3",
           "#FF6692",
           "#B6E880",
           "#FF97FF",
           "#FECB52"
          ],
          "font": {
           "color": "#2a3f5f"
          },
          "geo": {
           "bgcolor": "white",
           "lakecolor": "white",
           "landcolor": "#E5ECF6",
           "showlakes": true,
           "showland": true,
           "subunitcolor": "white"
          },
          "hoverlabel": {
           "align": "left"
          },
          "hovermode": "closest",
          "mapbox": {
           "style": "light"
          },
          "paper_bgcolor": "white",
          "plot_bgcolor": "#E5ECF6",
          "polar": {
           "angularaxis": {
            "gridcolor": "white",
            "linecolor": "white",
            "ticks": ""
           },
           "bgcolor": "#E5ECF6",
           "radialaxis": {
            "gridcolor": "white",
            "linecolor": "white",
            "ticks": ""
           }
          },
          "scene": {
           "xaxis": {
            "backgroundcolor": "#E5ECF6",
            "gridcolor": "white",
            "gridwidth": 2,
            "linecolor": "white",
            "showbackground": true,
            "ticks": "",
            "zerolinecolor": "white"
           },
           "yaxis": {
            "backgroundcolor": "#E5ECF6",
            "gridcolor": "white",
            "gridwidth": 2,
            "linecolor": "white",
            "showbackground": true,
            "ticks": "",
            "zerolinecolor": "white"
           },
           "zaxis": {
            "backgroundcolor": "#E5ECF6",
            "gridcolor": "white",
            "gridwidth": 2,
            "linecolor": "white",
            "showbackground": true,
            "ticks": "",
            "zerolinecolor": "white"
           }
          },
          "shapedefaults": {
           "line": {
            "color": "#2a3f5f"
           }
          },
          "ternary": {
           "aaxis": {
            "gridcolor": "white",
            "linecolor": "white",
            "ticks": ""
           },
           "baxis": {
            "gridcolor": "white",
            "linecolor": "white",
            "ticks": ""
           },
           "bgcolor": "#E5ECF6",
           "caxis": {
            "gridcolor": "white",
            "linecolor": "white",
            "ticks": ""
           }
          },
          "title": {
           "x": 0.05
          },
          "xaxis": {
           "automargin": true,
           "gridcolor": "white",
           "linecolor": "white",
           "ticks": "",
           "title": {
            "standoff": 15
           },
           "zerolinecolor": "white",
           "zerolinewidth": 2
          },
          "yaxis": {
           "automargin": true,
           "gridcolor": "white",
           "linecolor": "white",
           "ticks": "",
           "title": {
            "standoff": 15
           },
           "zerolinecolor": "white",
           "zerolinewidth": 2
          }
         }
        },
        "title": {
         "text": "Customer Loyalty vs Orders"
        },
        "xaxis": {
         "anchor": "y",
         "domain": [
          0,
          1
         ],
         "title": {
          "text": "days_active"
         }
        },
        "yaxis": {
         "anchor": "x",
         "domain": [
          0,
          1
         ],
         "title": {
          "text": "total_orders"
         }
        }
       }
      }
     },
     "metadata": {},
     "output_type": "display_data"
    }
   ],
   "source": [
    "px.scatter(loyalty_df, x='days_active', y='total_orders',\n",
    "           title='Customer Loyalty vs Orders', trendline='ols')\n"
   ]
  },
  {
   "cell_type": "markdown",
   "id": "d01d78ea",
   "metadata": {},
   "source": [
    "## Business Problem 4: Monthly Revenue Trends\n",
    "# EDA:\n",
    "Time-based trend analysis\n",
    "\n",
    "Group by month, category, location if needed"
   ]
  },
  {
   "cell_type": "code",
   "execution_count": 20,
   "id": "f03248db",
   "metadata": {},
   "outputs": [
    {
     "data": {
      "text/html": [
       "<div>\n",
       "<style scoped>\n",
       "    .dataframe tbody tr th:only-of-type {\n",
       "        vertical-align: middle;\n",
       "    }\n",
       "\n",
       "    .dataframe tbody tr th {\n",
       "        vertical-align: top;\n",
       "    }\n",
       "\n",
       "    .dataframe thead th {\n",
       "        text-align: right;\n",
       "    }\n",
       "</style>\n",
       "<table border=\"1\" class=\"dataframe\">\n",
       "  <thead>\n",
       "    <tr style=\"text-align: right;\">\n",
       "      <th></th>\n",
       "      <th>month</th>\n",
       "      <th>monthly_revenue</th>\n",
       "    </tr>\n",
       "  </thead>\n",
       "  <tbody>\n",
       "    <tr>\n",
       "      <th>0</th>\n",
       "      <td>2023-01</td>\n",
       "      <td>141982.12</td>\n",
       "    </tr>\n",
       "    <tr>\n",
       "      <th>1</th>\n",
       "      <td>2023-02</td>\n",
       "      <td>113329.00</td>\n",
       "    </tr>\n",
       "    <tr>\n",
       "      <th>2</th>\n",
       "      <td>2023-03</td>\n",
       "      <td>171520.97</td>\n",
       "    </tr>\n",
       "    <tr>\n",
       "      <th>3</th>\n",
       "      <td>2023-04</td>\n",
       "      <td>110728.22</td>\n",
       "    </tr>\n",
       "    <tr>\n",
       "      <th>4</th>\n",
       "      <td>2023-05</td>\n",
       "      <td>114711.25</td>\n",
       "    </tr>\n",
       "    <tr>\n",
       "      <th>5</th>\n",
       "      <td>2023-06</td>\n",
       "      <td>242401.87</td>\n",
       "    </tr>\n",
       "    <tr>\n",
       "      <th>6</th>\n",
       "      <td>2023-07</td>\n",
       "      <td>138554.43</td>\n",
       "    </tr>\n",
       "    <tr>\n",
       "      <th>7</th>\n",
       "      <td>2023-08</td>\n",
       "      <td>33739.14</td>\n",
       "    </tr>\n",
       "    <tr>\n",
       "      <th>8</th>\n",
       "      <td>2023-09</td>\n",
       "      <td>51680.70</td>\n",
       "    </tr>\n",
       "    <tr>\n",
       "      <th>9</th>\n",
       "      <td>2023-10</td>\n",
       "      <td>41627.48</td>\n",
       "    </tr>\n",
       "    <tr>\n",
       "      <th>10</th>\n",
       "      <td>2023-11</td>\n",
       "      <td>23894.37</td>\n",
       "    </tr>\n",
       "    <tr>\n",
       "      <th>11</th>\n",
       "      <td>2023-12</td>\n",
       "      <td>24872.47</td>\n",
       "    </tr>\n",
       "  </tbody>\n",
       "</table>\n",
       "</div>"
      ],
      "text/plain": [
       "      month  monthly_revenue\n",
       "0   2023-01        141982.12\n",
       "1   2023-02        113329.00\n",
       "2   2023-03        171520.97\n",
       "3   2023-04        110728.22\n",
       "4   2023-05        114711.25\n",
       "5   2023-06        242401.87\n",
       "6   2023-07        138554.43\n",
       "7   2023-08         33739.14\n",
       "8   2023-09         51680.70\n",
       "9   2023-10         41627.48\n",
       "10  2023-11         23894.37\n",
       "11  2023-12         24872.47"
      ]
     },
     "execution_count": 20,
     "metadata": {},
     "output_type": "execute_result"
    }
   ],
   "source": [
    "query_monthly_revenue = \"\"\"\n",
    "SELECT \n",
    "    DATE_FORMAT(transactiondate, '%%Y-%%m') AS month,\n",
    "    SUM(quantitypurchased * price) AS monthly_revenue\n",
    "FROM sales\n",
    "GROUP BY month\n",
    "ORDER BY month;\n",
    "\"\"\"\n",
    "monthly_revenue_df = pd.read_sql(query_monthly_revenue, engine)\n",
    "monthly_revenue_df\n"
   ]
  },
  {
   "cell_type": "code",
   "execution_count": 21,
   "id": "533bbe26",
   "metadata": {},
   "outputs": [
    {
     "data": {
      "application/vnd.plotly.v1+json": {
       "config": {
        "plotlyServerURL": "https://plot.ly"
       },
       "data": [
        {
         "hovertemplate": "month=%{x}<br>monthly_revenue=%{y}<extra></extra>",
         "legendgroup": "",
         "line": {
          "color": "#636efa",
          "dash": "solid"
         },
         "marker": {
          "symbol": "circle"
         },
         "mode": "lines+markers",
         "name": "",
         "orientation": "v",
         "showlegend": false,
         "type": "scatter",
         "x": [
          "2023-01",
          "2023-02",
          "2023-03",
          "2023-04",
          "2023-05",
          "2023-06",
          "2023-07",
          "2023-08",
          "2023-09",
          "2023-10",
          "2023-11",
          "2023-12"
         ],
         "xaxis": "x",
         "y": {
          "bdata": "WY/C9fBUAUH/////D6v7QCdcj8IH8ARBXbgehYMI+0D/////cwH8QFePwvUOlw1BDNejcNPpAEGvR+F6ZHngQGdmZmYWPOlAwvUoXG9T5EDjehSul1XXQEzhehQeSthA",
          "dtype": "f8"
         },
         "yaxis": "y"
        }
       ],
       "layout": {
        "legend": {
         "tracegroupgap": 0
        },
        "template": {
         "data": {
          "bar": [
           {
            "error_x": {
             "color": "#2a3f5f"
            },
            "error_y": {
             "color": "#2a3f5f"
            },
            "marker": {
             "line": {
              "color": "#E5ECF6",
              "width": 0.5
             },
             "pattern": {
              "fillmode": "overlay",
              "size": 10,
              "solidity": 0.2
             }
            },
            "type": "bar"
           }
          ],
          "barpolar": [
           {
            "marker": {
             "line": {
              "color": "#E5ECF6",
              "width": 0.5
             },
             "pattern": {
              "fillmode": "overlay",
              "size": 10,
              "solidity": 0.2
             }
            },
            "type": "barpolar"
           }
          ],
          "carpet": [
           {
            "aaxis": {
             "endlinecolor": "#2a3f5f",
             "gridcolor": "white",
             "linecolor": "white",
             "minorgridcolor": "white",
             "startlinecolor": "#2a3f5f"
            },
            "baxis": {
             "endlinecolor": "#2a3f5f",
             "gridcolor": "white",
             "linecolor": "white",
             "minorgridcolor": "white",
             "startlinecolor": "#2a3f5f"
            },
            "type": "carpet"
           }
          ],
          "choropleth": [
           {
            "colorbar": {
             "outlinewidth": 0,
             "ticks": ""
            },
            "type": "choropleth"
           }
          ],
          "contour": [
           {
            "colorbar": {
             "outlinewidth": 0,
             "ticks": ""
            },
            "colorscale": [
             [
              0,
              "#0d0887"
             ],
             [
              0.1111111111111111,
              "#46039f"
             ],
             [
              0.2222222222222222,
              "#7201a8"
             ],
             [
              0.3333333333333333,
              "#9c179e"
             ],
             [
              0.4444444444444444,
              "#bd3786"
             ],
             [
              0.5555555555555556,
              "#d8576b"
             ],
             [
              0.6666666666666666,
              "#ed7953"
             ],
             [
              0.7777777777777778,
              "#fb9f3a"
             ],
             [
              0.8888888888888888,
              "#fdca26"
             ],
             [
              1,
              "#f0f921"
             ]
            ],
            "type": "contour"
           }
          ],
          "contourcarpet": [
           {
            "colorbar": {
             "outlinewidth": 0,
             "ticks": ""
            },
            "type": "contourcarpet"
           }
          ],
          "heatmap": [
           {
            "colorbar": {
             "outlinewidth": 0,
             "ticks": ""
            },
            "colorscale": [
             [
              0,
              "#0d0887"
             ],
             [
              0.1111111111111111,
              "#46039f"
             ],
             [
              0.2222222222222222,
              "#7201a8"
             ],
             [
              0.3333333333333333,
              "#9c179e"
             ],
             [
              0.4444444444444444,
              "#bd3786"
             ],
             [
              0.5555555555555556,
              "#d8576b"
             ],
             [
              0.6666666666666666,
              "#ed7953"
             ],
             [
              0.7777777777777778,
              "#fb9f3a"
             ],
             [
              0.8888888888888888,
              "#fdca26"
             ],
             [
              1,
              "#f0f921"
             ]
            ],
            "type": "heatmap"
           }
          ],
          "histogram": [
           {
            "marker": {
             "pattern": {
              "fillmode": "overlay",
              "size": 10,
              "solidity": 0.2
             }
            },
            "type": "histogram"
           }
          ],
          "histogram2d": [
           {
            "colorbar": {
             "outlinewidth": 0,
             "ticks": ""
            },
            "colorscale": [
             [
              0,
              "#0d0887"
             ],
             [
              0.1111111111111111,
              "#46039f"
             ],
             [
              0.2222222222222222,
              "#7201a8"
             ],
             [
              0.3333333333333333,
              "#9c179e"
             ],
             [
              0.4444444444444444,
              "#bd3786"
             ],
             [
              0.5555555555555556,
              "#d8576b"
             ],
             [
              0.6666666666666666,
              "#ed7953"
             ],
             [
              0.7777777777777778,
              "#fb9f3a"
             ],
             [
              0.8888888888888888,
              "#fdca26"
             ],
             [
              1,
              "#f0f921"
             ]
            ],
            "type": "histogram2d"
           }
          ],
          "histogram2dcontour": [
           {
            "colorbar": {
             "outlinewidth": 0,
             "ticks": ""
            },
            "colorscale": [
             [
              0,
              "#0d0887"
             ],
             [
              0.1111111111111111,
              "#46039f"
             ],
             [
              0.2222222222222222,
              "#7201a8"
             ],
             [
              0.3333333333333333,
              "#9c179e"
             ],
             [
              0.4444444444444444,
              "#bd3786"
             ],
             [
              0.5555555555555556,
              "#d8576b"
             ],
             [
              0.6666666666666666,
              "#ed7953"
             ],
             [
              0.7777777777777778,
              "#fb9f3a"
             ],
             [
              0.8888888888888888,
              "#fdca26"
             ],
             [
              1,
              "#f0f921"
             ]
            ],
            "type": "histogram2dcontour"
           }
          ],
          "mesh3d": [
           {
            "colorbar": {
             "outlinewidth": 0,
             "ticks": ""
            },
            "type": "mesh3d"
           }
          ],
          "parcoords": [
           {
            "line": {
             "colorbar": {
              "outlinewidth": 0,
              "ticks": ""
             }
            },
            "type": "parcoords"
           }
          ],
          "pie": [
           {
            "automargin": true,
            "type": "pie"
           }
          ],
          "scatter": [
           {
            "fillpattern": {
             "fillmode": "overlay",
             "size": 10,
             "solidity": 0.2
            },
            "type": "scatter"
           }
          ],
          "scatter3d": [
           {
            "line": {
             "colorbar": {
              "outlinewidth": 0,
              "ticks": ""
             }
            },
            "marker": {
             "colorbar": {
              "outlinewidth": 0,
              "ticks": ""
             }
            },
            "type": "scatter3d"
           }
          ],
          "scattercarpet": [
           {
            "marker": {
             "colorbar": {
              "outlinewidth": 0,
              "ticks": ""
             }
            },
            "type": "scattercarpet"
           }
          ],
          "scattergeo": [
           {
            "marker": {
             "colorbar": {
              "outlinewidth": 0,
              "ticks": ""
             }
            },
            "type": "scattergeo"
           }
          ],
          "scattergl": [
           {
            "marker": {
             "colorbar": {
              "outlinewidth": 0,
              "ticks": ""
             }
            },
            "type": "scattergl"
           }
          ],
          "scattermap": [
           {
            "marker": {
             "colorbar": {
              "outlinewidth": 0,
              "ticks": ""
             }
            },
            "type": "scattermap"
           }
          ],
          "scattermapbox": [
           {
            "marker": {
             "colorbar": {
              "outlinewidth": 0,
              "ticks": ""
             }
            },
            "type": "scattermapbox"
           }
          ],
          "scatterpolar": [
           {
            "marker": {
             "colorbar": {
              "outlinewidth": 0,
              "ticks": ""
             }
            },
            "type": "scatterpolar"
           }
          ],
          "scatterpolargl": [
           {
            "marker": {
             "colorbar": {
              "outlinewidth": 0,
              "ticks": ""
             }
            },
            "type": "scatterpolargl"
           }
          ],
          "scatterternary": [
           {
            "marker": {
             "colorbar": {
              "outlinewidth": 0,
              "ticks": ""
             }
            },
            "type": "scatterternary"
           }
          ],
          "surface": [
           {
            "colorbar": {
             "outlinewidth": 0,
             "ticks": ""
            },
            "colorscale": [
             [
              0,
              "#0d0887"
             ],
             [
              0.1111111111111111,
              "#46039f"
             ],
             [
              0.2222222222222222,
              "#7201a8"
             ],
             [
              0.3333333333333333,
              "#9c179e"
             ],
             [
              0.4444444444444444,
              "#bd3786"
             ],
             [
              0.5555555555555556,
              "#d8576b"
             ],
             [
              0.6666666666666666,
              "#ed7953"
             ],
             [
              0.7777777777777778,
              "#fb9f3a"
             ],
             [
              0.8888888888888888,
              "#fdca26"
             ],
             [
              1,
              "#f0f921"
             ]
            ],
            "type": "surface"
           }
          ],
          "table": [
           {
            "cells": {
             "fill": {
              "color": "#EBF0F8"
             },
             "line": {
              "color": "white"
             }
            },
            "header": {
             "fill": {
              "color": "#C8D4E3"
             },
             "line": {
              "color": "white"
             }
            },
            "type": "table"
           }
          ]
         },
         "layout": {
          "annotationdefaults": {
           "arrowcolor": "#2a3f5f",
           "arrowhead": 0,
           "arrowwidth": 1
          },
          "autotypenumbers": "strict",
          "coloraxis": {
           "colorbar": {
            "outlinewidth": 0,
            "ticks": ""
           }
          },
          "colorscale": {
           "diverging": [
            [
             0,
             "#8e0152"
            ],
            [
             0.1,
             "#c51b7d"
            ],
            [
             0.2,
             "#de77ae"
            ],
            [
             0.3,
             "#f1b6da"
            ],
            [
             0.4,
             "#fde0ef"
            ],
            [
             0.5,
             "#f7f7f7"
            ],
            [
             0.6,
             "#e6f5d0"
            ],
            [
             0.7,
             "#b8e186"
            ],
            [
             0.8,
             "#7fbc41"
            ],
            [
             0.9,
             "#4d9221"
            ],
            [
             1,
             "#276419"
            ]
           ],
           "sequential": [
            [
             0,
             "#0d0887"
            ],
            [
             0.1111111111111111,
             "#46039f"
            ],
            [
             0.2222222222222222,
             "#7201a8"
            ],
            [
             0.3333333333333333,
             "#9c179e"
            ],
            [
             0.4444444444444444,
             "#bd3786"
            ],
            [
             0.5555555555555556,
             "#d8576b"
            ],
            [
             0.6666666666666666,
             "#ed7953"
            ],
            [
             0.7777777777777778,
             "#fb9f3a"
            ],
            [
             0.8888888888888888,
             "#fdca26"
            ],
            [
             1,
             "#f0f921"
            ]
           ],
           "sequentialminus": [
            [
             0,
             "#0d0887"
            ],
            [
             0.1111111111111111,
             "#46039f"
            ],
            [
             0.2222222222222222,
             "#7201a8"
            ],
            [
             0.3333333333333333,
             "#9c179e"
            ],
            [
             0.4444444444444444,
             "#bd3786"
            ],
            [
             0.5555555555555556,
             "#d8576b"
            ],
            [
             0.6666666666666666,
             "#ed7953"
            ],
            [
             0.7777777777777778,
             "#fb9f3a"
            ],
            [
             0.8888888888888888,
             "#fdca26"
            ],
            [
             1,
             "#f0f921"
            ]
           ]
          },
          "colorway": [
           "#636efa",
           "#EF553B",
           "#00cc96",
           "#ab63fa",
           "#FFA15A",
           "#19d3f3",
           "#FF6692",
           "#B6E880",
           "#FF97FF",
           "#FECB52"
          ],
          "font": {
           "color": "#2a3f5f"
          },
          "geo": {
           "bgcolor": "white",
           "lakecolor": "white",
           "landcolor": "#E5ECF6",
           "showlakes": true,
           "showland": true,
           "subunitcolor": "white"
          },
          "hoverlabel": {
           "align": "left"
          },
          "hovermode": "closest",
          "mapbox": {
           "style": "light"
          },
          "paper_bgcolor": "white",
          "plot_bgcolor": "#E5ECF6",
          "polar": {
           "angularaxis": {
            "gridcolor": "white",
            "linecolor": "white",
            "ticks": ""
           },
           "bgcolor": "#E5ECF6",
           "radialaxis": {
            "gridcolor": "white",
            "linecolor": "white",
            "ticks": ""
           }
          },
          "scene": {
           "xaxis": {
            "backgroundcolor": "#E5ECF6",
            "gridcolor": "white",
            "gridwidth": 2,
            "linecolor": "white",
            "showbackground": true,
            "ticks": "",
            "zerolinecolor": "white"
           },
           "yaxis": {
            "backgroundcolor": "#E5ECF6",
            "gridcolor": "white",
            "gridwidth": 2,
            "linecolor": "white",
            "showbackground": true,
            "ticks": "",
            "zerolinecolor": "white"
           },
           "zaxis": {
            "backgroundcolor": "#E5ECF6",
            "gridcolor": "white",
            "gridwidth": 2,
            "linecolor": "white",
            "showbackground": true,
            "ticks": "",
            "zerolinecolor": "white"
           }
          },
          "shapedefaults": {
           "line": {
            "color": "#2a3f5f"
           }
          },
          "ternary": {
           "aaxis": {
            "gridcolor": "white",
            "linecolor": "white",
            "ticks": ""
           },
           "baxis": {
            "gridcolor": "white",
            "linecolor": "white",
            "ticks": ""
           },
           "bgcolor": "#E5ECF6",
           "caxis": {
            "gridcolor": "white",
            "linecolor": "white",
            "ticks": ""
           }
          },
          "title": {
           "x": 0.05
          },
          "xaxis": {
           "automargin": true,
           "gridcolor": "white",
           "linecolor": "white",
           "ticks": "",
           "title": {
            "standoff": 15
           },
           "zerolinecolor": "white",
           "zerolinewidth": 2
          },
          "yaxis": {
           "automargin": true,
           "gridcolor": "white",
           "linecolor": "white",
           "ticks": "",
           "title": {
            "standoff": 15
           },
           "zerolinecolor": "white",
           "zerolinewidth": 2
          }
         }
        },
        "title": {
         "text": "Monthly Revenue Trend"
        },
        "xaxis": {
         "anchor": "y",
         "domain": [
          0,
          1
         ],
         "title": {
          "text": "month"
         }
        },
        "yaxis": {
         "anchor": "x",
         "domain": [
          0,
          1
         ],
         "title": {
          "text": "monthly_revenue"
         }
        }
       }
      }
     },
     "metadata": {},
     "output_type": "display_data"
    }
   ],
   "source": [
    "px.line(monthly_revenue_df, x='month', y='monthly_revenue', markers=True,\n",
    "        title='Monthly Revenue Trend')\n"
   ]
  },
  {
   "cell_type": "code",
   "execution_count": null,
   "id": "fd86b2f0",
   "metadata": {},
   "outputs": [],
   "source": []
  }
 ],
 "metadata": {
  "kernelspec": {
   "display_name": "venv",
   "language": "python",
   "name": "python3"
  },
  "language_info": {
   "codemirror_mode": {
    "name": "ipython",
    "version": 3
   },
   "file_extension": ".py",
   "mimetype": "text/x-python",
   "name": "python",
   "nbconvert_exporter": "python",
   "pygments_lexer": "ipython3",
   "version": "3.13.1"
  }
 },
 "nbformat": 4,
 "nbformat_minor": 5
}
